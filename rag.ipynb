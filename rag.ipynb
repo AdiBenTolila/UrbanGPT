{
 "cells": [
  {
   "cell_type": "code",
   "execution_count": 3,
   "metadata": {
    "metadata": {}
   },
   "outputs": [
    {
     "data": {
      "text/plain": [
       "'cpu'"
      ]
     },
     "execution_count": 3,
     "metadata": {},
     "output_type": "execute_result"
    }
   ],
   "source": [
    "import os\n",
    "from langchain.docstore.document import Document\n",
    "from langchain_community.vectorstores import FAISS\n",
    "from langchain.prompts import PromptTemplate\n",
    "from langchain.chains import LLMChain\n",
    "from file_utils import get_docs_for_plan, pdf_to_text, clean_and_split,sentencewise_translate, temp_get_docs_for_plan\n",
    "from models import get_embedding_model, get_gemini_llm, get_claude_llm, get_mistral_llm, get_commandR_llm\n",
    "from RAG import get_answer, get_answer_foreach_doc, diffrent_question_rephrasing, get_top_k_by_count\n",
    "import pandas as pd\n",
    "import time\n",
    "import pandas as pd\n",
    "from itertools import chain\n",
    "import torch\n",
    "import dotenv\n",
    "\n",
    "dotenv.load_dotenv()\n",
    "device = 'cuda' if torch.cuda.is_available() else 'cpu'\n",
    "device\n"
   ]
  },
  {
   "cell_type": "markdown",
   "metadata": {},
   "source": [
    "# read data"
   ]
  },
  {
   "cell_type": "code",
   "execution_count": 4,
   "metadata": {
    "metadata": {}
   },
   "outputs": [
    {
     "data": {
      "text/html": [
       "<div>\n",
       "<style scoped>\n",
       "    .dataframe tbody tr th:only-of-type {\n",
       "        vertical-align: middle;\n",
       "    }\n",
       "\n",
       "    .dataframe tbody tr th {\n",
       "        vertical-align: top;\n",
       "    }\n",
       "\n",
       "    .dataframe thead th {\n",
       "        text-align: right;\n",
       "    }\n",
       "</style>\n",
       "<table border=\"1\" class=\"dataframe\">\n",
       "  <thead>\n",
       "    <tr style=\"text-align: right;\">\n",
       "      <th></th>\n",
       "      <th>pl_number</th>\n",
       "      <th>pl_name</th>\n",
       "    </tr>\n",
       "  </thead>\n",
       "  <tbody>\n",
       "    <tr>\n",
       "      <th>0</th>\n",
       "      <td>101-0253286</td>\n",
       "      <td>תוספת שטחי בניה עיקריים עבור מרפסות מקורות בתנאים</td>\n",
       "    </tr>\n",
       "    <tr>\n",
       "      <th>1</th>\n",
       "      <td>101-0209593</td>\n",
       "      <td>רכבת קלה בירושלים - קו ירוק</td>\n",
       "    </tr>\n",
       "    <tr>\n",
       "      <th>2</th>\n",
       "      <td>101-0699561</td>\n",
       "      <td>כביש 396, בין צומת כרם להדסה</td>\n",
       "    </tr>\n",
       "    <tr>\n",
       "      <th>3</th>\n",
       "      <td>101-0721050</td>\n",
       "      <td>מתחם הוג'יטק-שינוי הבנוי המאושר בתכנית 6394, ג...</td>\n",
       "    </tr>\n",
       "    <tr>\n",
       "      <th>4</th>\n",
       "      <td>תתל/ 108/ סעיף-78-77</td>\n",
       "      <td>מסילת רכבת בירושלים</td>\n",
       "    </tr>\n",
       "  </tbody>\n",
       "</table>\n",
       "</div>"
      ],
      "text/plain": [
       "              pl_number                                            pl_name\n",
       "0           101-0253286  תוספת שטחי בניה עיקריים עבור מרפסות מקורות בתנאים\n",
       "1           101-0209593                        רכבת קלה בירושלים - קו ירוק\n",
       "2           101-0699561                       כביש 396, בין צומת כרם להדסה\n",
       "3           101-0721050  מתחם הוג'יטק-שינוי הבנוי המאושר בתכנית 6394, ג...\n",
       "4  תתל/ 108/ סעיף-78-77                                מסילת רכבת בירושלים"
      ]
     },
     "execution_count": 4,
     "metadata": {},
     "output_type": "execute_result"
    }
   ],
   "source": [
    "data = pd.read_csv('shpan.csv')\n",
    "data[[\"pl_number\", 'pl_name']].head()"
   ]
  },
  {
   "cell_type": "markdown",
   "metadata": {},
   "source": [
    "# - convret and split each plane - from file_utils.py \n",
    "# - and do embedding for each plane and save it in db"
   ]
  },
  {
   "cell_type": "code",
   "execution_count": 7,
   "metadata": {
    "metadata": {}
   },
   "outputs": [],
   "source": [
    "embedding_model = get_embedding_model()\n",
    "\n",
    "if os.path.exists(\"faiss_index\"):\n",
    "    db = FAISS.load_local(\"faiss_index\", embedding_model)\n",
    "else:\n",
    "    all_docs = []\n",
    "    for i, row in data.iterrows():\n",
    "        files_text = (pdf_to_text(doc) for doc in temp_get_docs_for_plan(row['pl_number']))\n",
    "\n",
    "        # for each doc, clean and split to chunks\n",
    "        files_cleand_chunks = [clean_and_split(text, row['pl_number']) for text in files_text]\n",
    "        flattened_documents = list(chain(*files_cleand_chunks))\n",
    "\n",
    "        # print(f\"Found {len(flattened_documents)} documents for {row['pl_number']}\")\n",
    "        if len(flattened_documents) == 0:\n",
    "            continue\n",
    "        all_docs.extend(flattened_documents)\n",
    "    db = FAISS.from_documents(all_docs, embedding_model)\n",
    "    db.save_local(\"faiss_index\")"
   ]
  },
  {
   "cell_type": "markdown",
   "metadata": {},
   "source": [
    "# try our program with gemini that uses one chunk that the retrival return and ask the model one question"
   ]
  },
  {
   "cell_type": "code",
   "execution_count": 8,
   "metadata": {
    "metadata": {}
   },
   "outputs": [],
   "source": [
    "if os.path.exists(\"result_n1_k0_gemini_binary.csv\"):\n",
    "    df_gemini_n1_k0 = pd.read_csv(\"result_n1_k0_gemini_binary.csv\")\n",
    "else:\n",
    "    llm = get_gemini_llm(rate_limit=60)\n",
    "    question = \"האם הבניה המתוכננת היא ברחוב אורוגוואי?\"\n",
    "    result = get_answer_foreach_doc(question, db, data, num_docs=1, num_rephrasings=0, model=llm, verbose=False, multiprocess=4)\n",
    "\n",
    "    # save the result\n",
    "    df_gemini_n1_k0 = pd.DataFrame(result)\n",
    "    df_gemini_n1_k0.to_csv('result_n1_k0_gemini_binary.csv', index=False)"
   ]
  },
  {
   "cell_type": "code",
   "execution_count": 23,
   "metadata": {
    "metadata": {}
   },
   "outputs": [
    {
     "data": {
      "text/html": [
       "<div>\n",
       "<style scoped>\n",
       "    .dataframe tbody tr th:only-of-type {\n",
       "        vertical-align: middle;\n",
       "    }\n",
       "\n",
       "    .dataframe tbody tr th {\n",
       "        vertical-align: top;\n",
       "    }\n",
       "\n",
       "    .dataframe thead th {\n",
       "        text-align: right;\n",
       "    }\n",
       "</style>\n",
       "<table border=\"1\" class=\"dataframe\">\n",
       "  <thead>\n",
       "    <tr style=\"text-align: right;\">\n",
       "      <th></th>\n",
       "      <th>pl_number</th>\n",
       "      <th>answer</th>\n",
       "      <th>chunks</th>\n",
       "      <th>pl_name</th>\n",
       "    </tr>\n",
       "  </thead>\n",
       "  <tbody>\n",
       "    <tr>\n",
       "      <th>31</th>\n",
       "      <td>101-0252619</td>\n",
       "      <td>כן</td>\n",
       "      <td>['- חוק התכנון והבניה, התשכ\"ה1965\\nהוראות התכנ...</td>\n",
       "      <td>תוספת בניה בקומת מרתף והכשרת עבירת בניה למרפסת...</td>\n",
       "    </tr>\n",
       "    <tr>\n",
       "      <th>133</th>\n",
       "      <td>101-0339010</td>\n",
       "      <td>כן</td>\n",
       "      <td>['יעודי קרקע ושימושים 4.\\n מגורים ומסחר 4.1\\nש...</td>\n",
       "      <td>הרחבת מבנה מסחרי ברח' אורוגואי 31, קרית היובל,...</td>\n",
       "    </tr>\n",
       "    <tr>\n",
       "      <th>180</th>\n",
       "      <td>101-0345298</td>\n",
       "      <td>כן</td>\n",
       "      <td>['תנאים למתן היתרי בניה 6.9\\n(\\'מרתפי חניה, מת...</td>\n",
       "      <td>אור גנים</td>\n",
       "    </tr>\n",
       "    <tr>\n",
       "      <th>271</th>\n",
       "      <td>101-0917013</td>\n",
       "      <td>כן</td>\n",
       "      <td>['- חוק התכנון והבניה, התשכ\"ה1965\\nהוראות התכנ...</td>\n",
       "      <td>רחוב אורוגוואי 18 ירושלים - תוספת זכויות בניה</td>\n",
       "    </tr>\n",
       "    <tr>\n",
       "      <th>372</th>\n",
       "      <td>101-1112010</td>\n",
       "      <td>כן</td>\n",
       "      <td>['הקיים. הבנייה באבן נסורה, חלקה, ללא סיתות, א...</td>\n",
       "      <td>הרחבת יח\"ד קיימות - אורוגוואי 18 ירושלים</td>\n",
       "    </tr>\n",
       "    <tr>\n",
       "      <th>429</th>\n",
       "      <td>101-0845842</td>\n",
       "      <td>כן</td>\n",
       "      <td>['- חוק התכנון והבניה, התשכ\"ה1965\\nהוראות התכנ...</td>\n",
       "      <td>תוספות בניה בכל קומות הבניין לשם הרחבות יח\"ד, ...</td>\n",
       "    </tr>\n",
       "    <tr>\n",
       "      <th>466</th>\n",
       "      <td>101-1072545</td>\n",
       "      <td>כן</td>\n",
       "      <td>['- חוק התכנון והבניה, התשכ\"ה1965\\nהוראות התכנ...</td>\n",
       "      <td>הרחבת יח\"ד ברחוב אורגוואי 44, קריית היובל, ירו...</td>\n",
       "    </tr>\n",
       "    <tr>\n",
       "      <th>469</th>\n",
       "      <td>101-1059435</td>\n",
       "      <td>כן</td>\n",
       "      <td>['דרך מוצעת 4.2\\nשימושים4.2.1\\n - דרך כהגדרתה ...</td>\n",
       "      <td>הרחבות יח\"ד קיימות ברח' אורוגואי 50א' ירושלים</td>\n",
       "    </tr>\n",
       "  </tbody>\n",
       "</table>\n",
       "</div>"
      ],
      "text/plain": [
       "       pl_number answer                                             chunks  \\\n",
       "31   101-0252619     כן  ['- חוק התכנון והבניה, התשכ\"ה1965\\nהוראות התכנ...   \n",
       "133  101-0339010     כן  ['יעודי קרקע ושימושים 4.\\n מגורים ומסחר 4.1\\nש...   \n",
       "180  101-0345298     כן  ['תנאים למתן היתרי בניה 6.9\\n(\\'מרתפי חניה, מת...   \n",
       "271  101-0917013     כן  ['- חוק התכנון והבניה, התשכ\"ה1965\\nהוראות התכנ...   \n",
       "372  101-1112010     כן  ['הקיים. הבנייה באבן נסורה, חלקה, ללא סיתות, א...   \n",
       "429  101-0845842     כן  ['- חוק התכנון והבניה, התשכ\"ה1965\\nהוראות התכנ...   \n",
       "466  101-1072545     כן  ['- חוק התכנון והבניה, התשכ\"ה1965\\nהוראות התכנ...   \n",
       "469  101-1059435     כן  ['דרך מוצעת 4.2\\nשימושים4.2.1\\n - דרך כהגדרתה ...   \n",
       "\n",
       "                                               pl_name  \n",
       "31   תוספת בניה בקומת מרתף והכשרת עבירת בניה למרפסת...  \n",
       "133  הרחבת מבנה מסחרי ברח' אורוגואי 31, קרית היובל,...  \n",
       "180                                           אור גנים  \n",
       "271      רחוב אורוגוואי 18 ירושלים - תוספת זכויות בניה  \n",
       "372           הרחבת יח\"ד קיימות - אורוגוואי 18 ירושלים  \n",
       "429  תוספות בניה בכל קומות הבניין לשם הרחבות יח\"ד, ...  \n",
       "466  הרחבת יח\"ד ברחוב אורגוואי 44, קריית היובל, ירו...  \n",
       "469      הרחבות יח\"ד קיימות ברח' אורוגואי 50א' ירושלים  "
      ]
     },
     "execution_count": 23,
     "metadata": {},
     "output_type": "execute_result"
    }
   ],
   "source": [
    "df_gemini_n1_k0['pl_name'] = data['pl_name']\n",
    "df_gemini_n1_k0[df_gemini_n1_k0['answer']=='כן']\n",
    "\n",
    "# df_gemini_n1_k0['answer'].value_counts()"
   ]
  },
  {
   "cell_type": "markdown",
   "metadata": {},
   "source": [
    "as we can see the model is not able to answer the question - not all the planes in uruguay he say yes and the one that he say yes is not in uruguay"
   ]
  },
  {
   "cell_type": "markdown",
   "metadata": {},
   "source": [
    "# try our program with gemini that uses 3 chunkS that the retrival return and ask the model one question"
   ]
  },
  {
   "cell_type": "code",
   "execution_count": 10,
   "metadata": {
    "metadata": {}
   },
   "outputs": [],
   "source": [
    "if os.path.exists(\"result_n3_k0_gemini_binary.csv\"):\n",
    "    df_gemini_n3_k0 = pd.read_csv(\"result_n3_k0_gemini_binary.csv\")\n",
    "else:\n",
    "    llm = get_gemini_llm(rate_limit=60)\n",
    "    question = \"האם הבניה המתוכננת היא ברחוב אורוגוואי?\"\n",
    "    result = get_answer_foreach_doc(question, db, data, num_docs=3, num_rephrasings=0, model=llm, verbose=False, multiprocess=4)\n",
    "\n",
    "    # save the result\n",
    "    df_gemini_n3_k0 = pd.DataFrame(result)\n",
    "    df_gemini_n3_k0.to_csv('result_n3_k0_gemini_binary.csv', index=False)"
   ]
  },
  {
   "cell_type": "code",
   "execution_count": 11,
   "metadata": {
    "metadata": {}
   },
   "outputs": [
    {
     "data": {
      "text/plain": [
       "answer\n",
       "אין ברשותי מספיק מידע.                                                                             338\n",
       "No document found                                                                                  168\n",
       "לא                                                                                                  20\n",
       "כן                                                                                                   8\n",
       "אין ברשותי מספיק מידע                                                                                5\n",
       "אין ברשותי מספיק מידע כדי לענות על השאלה.                                                            4\n",
       "אין ברשותי מספיק מידע. הקטעים שסופקו אינם מזכירים את רחוב אורוגוואי בהקשר לבנייה המתוכננת.           1\n",
       "אין ברשותי מספיק מידע כדי לקבוע האם הבנייה המתוכננת היא ברחוב אורוגוואי.                             1\n",
       "הקטעים שסופקו אינם מכילים מידע על רחוב אורוגוואי, לכן אין ברשותי מספיק מידע כדי לענות על השאלה.      1\n",
       "אין ברשותי מספיק מידע כדי לקבוע אם הבנייה המתוכננת היא ברחוב אורוגוואי.                              1\n",
       "Name: count, dtype: int64"
      ]
     },
     "execution_count": 11,
     "metadata": {},
     "output_type": "execute_result"
    }
   ],
   "source": [
    "df_gemini_n3_k0[df_gemini_n3_k0['answer']=='כן']\n",
    "\n",
    "df_gemini_n3_k0['answer'].value_counts()"
   ]
  },
  {
   "cell_type": "markdown",
   "metadata": {},
   "source": [
    "as we can see the model is not able to answer the question - not all the planes in uruguay he say yes and the one that he say yes is not in uruguay"
   ]
  },
  {
   "cell_type": "markdown",
   "metadata": {},
   "source": [
    "# try our program with gemini that uses 5 chunkS that the retrival return and ask the model one question"
   ]
  },
  {
   "cell_type": "code",
   "execution_count": 12,
   "metadata": {
    "metadata": {}
   },
   "outputs": [],
   "source": [
    "if os.path.exists(\"result_n5_k0_gemini_binary.csv\"):\n",
    "    df_gemini_n5_k0 = pd.read_csv(\"result_n5_k0_gemini_binary.csv\")\n",
    "else:\n",
    "    llm = get_gemini_llm(rate_limit=60)\n",
    "    question = \"האם הבניה המתוכננת היא ברחוב אורוגוואי?\"\n",
    "    result = get_answer_foreach_doc(question, db, data, num_docs=5, num_rephrasings=0, model=llm, verbose=False, multiprocess=4)\n",
    "\n",
    "    # save the result\n",
    "    df_gemini_n5_k0 = pd.DataFrame(result)\n",
    "    df_gemini_n5_k0.to_csv('result_n5_k0_gemini_binary.csv', index=False)"
   ]
  },
  {
   "cell_type": "code",
   "execution_count": 13,
   "metadata": {
    "metadata": {}
   },
   "outputs": [
    {
     "data": {
      "text/plain": [
       "answer\n",
       "אין ברשותי מספיק מידע.                                                                                                                          300\n",
       "No document found                                                                                                                               168\n",
       "לא                                                                                                                                               28\n",
       "אין ברשותי מספיק מידע כדי לענות על השאלה.                                                                                                        14\n",
       "כן                                                                                                                                                8\n",
       "אין ברשותי מספיק מידע                                                                                                                             6\n",
       "אין ברשותי מספיק מידע כדי לקבוע אם הבנייה המתוכננת היא ברחוב אורוגוואי.                                                                           2\n",
       "אין ברשותי מספיק מידע. המסמך אינו מזכיר את רחוב אורוגוואי.                                                                                        2\n",
       "אין ברשותי מספיק מידע כדי לענות על שאלתך.                                                                                                         2\n",
       "אין ברשותי מספיק מידע כדי לקבוע אם הבנייה המתוכננת היא ברחוב אורוגוואי. המסמך שהספקת מתמקד ברחובות קוסטה ריקה, הנורית והאביבית.                   1\n",
       "אין ברשותי מספיק מידע כדי לענות על שאלתך. המסמך מתמקד בהנחיות בנייה ופיתוח עבור פרויקט הרכבת הקלה בירושלים, אך אינו מזכיר את רחוב אורוגוואי.      1\n",
       "אין ברשותי מספיק מידע כדי לענות לשאלתך.                                                                                                           1\n",
       "אין ברשותי מספיק מידע. המסמך לא כולל מידע לגבי מיקום הבנייה המתוכננת ביחס לרחוב אורוגוואי.                                                        1\n",
       "אין ברשותי מספיק מידע על מנת לענות על השאלה.                                                                                                      1\n",
       "אין ברשותי מספיק מידע. המסמך אינו מציין האם הבניה המתוכננת נמצאת ברחוב אורוגוואי.                                                                 1\n",
       "אין ברשותי מספיק מידע. המסמך אינו מציין את מיקום הבנייה המתוכנן.                                                                                  1\n",
       "המסמך אינו מספק מידע אם הבנייה המתוכננת היא ברחוב אורוגוואי.\\nאין ברשותי מספיק מידע.                                                              1\n",
       "לא ברשותי מספיק מידע.                                                                                                                             1\n",
       "הקטעים שסופקו לא כוללים מידע על בנייה ברחוב אורוגוואי. אין ברשותי מספיק מידע כדי לענות על השאלה.                                                  1\n",
       "אין ברשותי מספיק מידע. המסמך לא מזכיר את רחוב אורוגוואי בהקשר לבניה המתוכננת.                                                                     1\n",
       "אין ברשותי מספיק מידע. המסמך לא מציין האם הבניה המתוכננת היא ברחוב אורוגוואי.                                                                     1\n",
       "אין ברשותי מספיק מידע כדי לענות על השאלה. הקטעים שסופקו אינם כוללים מידע על רחוב אורוגוואי.                                                       1\n",
       "אין ברשותי מספיק מידע מהקטעים שסופקו כדי לענות לשאלה.                                                                                             1\n",
       "אין ברשותי מספיק מידע כדי לענות על השאלה. המסמך אינו מציין את מיקום הבנייה המתוכננת.                                                              1\n",
       "אין ברשותי מספיק מידע. המסמך לא מציין האם הבנייה המתוכננת מתרחשת ברחוב אורוגוואי.                                                                 1\n",
       "הקטעים אינם מכילים מידע בנוגע לכתובת הבניה המתוכננת, לכן אין ברשותי מספיק מידע כדי לענות על השאלה.                                                1\n",
       "Name: count, dtype: int64"
      ]
     },
     "execution_count": 13,
     "metadata": {},
     "output_type": "execute_result"
    }
   ],
   "source": [
    "\n",
    "df_gemini_n5_k0[df_gemini_n5_k0['answer']=='כן']\n",
    "\n",
    "df_gemini_n5_k0['answer'].value_counts()"
   ]
  },
  {
   "cell_type": "markdown",
   "metadata": {},
   "source": [
    "as we can see the model is not able to answer the question - not all the planes in uruguay he say yes and the one that he say yes is not in uruguay"
   ]
  },
  {
   "cell_type": "code",
   "execution_count": 14,
   "metadata": {
    "metadata": {}
   },
   "outputs": [],
   "source": [
    "if os.path.exists(\"result_n1_k5_gemini_binary.csv\"):\n",
    "    df_gemini_n1_k5 = pd.read_csv(\"result_n1_k5_gemini_binary.csv\")\n",
    "else:\n",
    "    llm = get_gemini_llm(rate_limit=60)\n",
    "    question = \"האם הבניה המתוכננת היא ברחוב אורוגוואי?\"\n",
    "    result = get_answer_foreach_doc(question, db, data, num_docs=1, num_rephrasings=5, model=llm, verbose=False, multiprocess=4)\n",
    "\n",
    "    # save the result\n",
    "    df_gemini_n1_k5 = pd.DataFrame(result)\n",
    "    df_gemini_n1_k5.to_csv('result_n1_k5_gemini_binary.csv', index=False)"
   ]
  },
  {
   "cell_type": "code",
   "execution_count": 15,
   "metadata": {
    "metadata": {}
   },
   "outputs": [
    {
     "data": {
      "text/plain": [
       "answer\n",
       "אין ברשותי מספיק מידע.    301\n",
       "No document found         168\n",
       "אין ברשותי מספיק מידע      52\n",
       "לא                         18\n",
       "כן                          8\n",
       "Name: count, dtype: int64"
      ]
     },
     "execution_count": 15,
     "metadata": {},
     "output_type": "execute_result"
    }
   ],
   "source": [
    "df_gemini_n1_k5[df_gemini_n1_k5['answer']=='כן']\n",
    "\n",
    "df_gemini_n1_k5['answer'].value_counts()"
   ]
  },
  {
   "cell_type": "code",
   "execution_count": 16,
   "metadata": {
    "metadata": {}
   },
   "outputs": [],
   "source": [
    "if os.path.exists(\"result_n1_k10_gemini_binary.csv\"):\n",
    "    df_gemini_n1_k10 = pd.read_csv(\"result_n1_k10_gemini_binary.csv\")\n",
    "else:\n",
    "    llm = get_gemini_llm(rate_limit=60)\n",
    "    question = \"האם הבניה המתוכננת היא ברחוב אורוגוואי?\"\n",
    "    result = get_answer_foreach_doc(question, db, data, num_docs=1, num_rephrasings=10, model=llm, verbose=False, multiprocess=4)\n",
    "\n",
    "    # save the result\n",
    "    df_gemini_n1_k10 = pd.DataFrame(result)\n",
    "    df_gemini_n1_k10.to_csv('result_n1_k10_gemini_binary.csv', index=False)"
   ]
  },
  {
   "cell_type": "code",
   "execution_count": 17,
   "metadata": {
    "metadata": {}
   },
   "outputs": [
    {
     "data": {
      "text/plain": [
       "answer\n",
       "אין ברשותי מספיק מידע.    298\n",
       "No document found         168\n",
       "אין ברשותי מספיק מידע      54\n",
       "לא                         20\n",
       "כן                          7\n",
       "Name: count, dtype: int64"
      ]
     },
     "execution_count": 17,
     "metadata": {},
     "output_type": "execute_result"
    }
   ],
   "source": [
    "df_gemini_n1_k10[df_gemini_n1_k10['answer']=='כן']\n",
    "\n",
    "df_gemini_n1_k10['answer'].value_counts()"
   ]
  },
  {
   "cell_type": "markdown",
   "metadata": {},
   "source": [
    "# try the same with claude"
   ]
  },
  {
   "cell_type": "code",
   "execution_count": 18,
   "metadata": {
    "metadata": {}
   },
   "outputs": [
    {
     "ename": "KeyboardInterrupt",
     "evalue": "",
     "output_type": "error",
     "traceback": [
      "\u001b[1;31m---------------------------------------------------------------------------\u001b[0m",
      "\u001b[1;31mKeyboardInterrupt\u001b[0m                         Traceback (most recent call last)",
      "Cell \u001b[1;32mIn[18], line 7\u001b[0m\n\u001b[0;32m      5\u001b[0m llm \u001b[38;5;241m=\u001b[39m get_claude_llm()\n\u001b[0;32m      6\u001b[0m question \u001b[38;5;241m=\u001b[39m \u001b[38;5;124m\"\u001b[39m\u001b[38;5;124mהאם הבניה המתוכננת היא ברחוב אורוגוואי?\u001b[39m\u001b[38;5;124m\"\u001b[39m\n\u001b[1;32m----> 7\u001b[0m result \u001b[38;5;241m=\u001b[39m \u001b[43mget_answer_foreach_doc\u001b[49m\u001b[43m(\u001b[49m\u001b[43mquestion\u001b[49m\u001b[43m,\u001b[49m\u001b[43m \u001b[49m\u001b[43mdb\u001b[49m\u001b[43m,\u001b[49m\u001b[43m \u001b[49m\u001b[43mdata\u001b[49m\u001b[43m,\u001b[49m\u001b[43m \u001b[49m\u001b[43mnum_docs\u001b[49m\u001b[38;5;241;43m=\u001b[39;49m\u001b[38;5;241;43m1\u001b[39;49m\u001b[43m,\u001b[49m\u001b[43m \u001b[49m\u001b[43mnum_rephrasings\u001b[49m\u001b[38;5;241;43m=\u001b[39;49m\u001b[38;5;241;43m5\u001b[39;49m\u001b[43m,\u001b[49m\u001b[43m \u001b[49m\u001b[43mmodel\u001b[49m\u001b[38;5;241;43m=\u001b[39;49m\u001b[43mllm\u001b[49m\u001b[43m,\u001b[49m\u001b[43m \u001b[49m\u001b[43mverbose\u001b[49m\u001b[38;5;241;43m=\u001b[39;49m\u001b[38;5;28;43;01mFalse\u001b[39;49;00m\u001b[43m,\u001b[49m\u001b[43m \u001b[49m\u001b[43mmultiprocess\u001b[49m\u001b[38;5;241;43m=\u001b[39;49m\u001b[38;5;28;43;01mFalse\u001b[39;49;00m\u001b[43m)\u001b[49m\n\u001b[0;32m      8\u001b[0m \u001b[38;5;66;03m# save the result\u001b[39;00m\n\u001b[0;32m      9\u001b[0m df \u001b[38;5;241m=\u001b[39m pd\u001b[38;5;241m.\u001b[39mDataFrame(result)\n",
      "File \u001b[1;32mc:\\Users\\חרום_24\\Desktop\\4Year\\UrbanGPT\\RAG.py:152\u001b[0m, in \u001b[0;36mget_answer_foreach_doc\u001b[1;34m(question, db, data, num_docs, num_rephrasings, model, verbose, multiprocess)\u001b[0m\n\u001b[0;32m    150\u001b[0m \u001b[38;5;28;01mif\u001b[39;00m model \u001b[38;5;129;01mis\u001b[39;00m \u001b[38;5;28;01mNone\u001b[39;00m:\n\u001b[0;32m    151\u001b[0m     model \u001b[38;5;241m=\u001b[39m get_llm()\n\u001b[1;32m--> 152\u001b[0m questions \u001b[38;5;241m=\u001b[39m \u001b[43mdiffrent_question_rephrasing\u001b[49m\u001b[43m(\u001b[49m\u001b[43mquestion\u001b[49m\u001b[43m,\u001b[49m\u001b[43m \u001b[49m\u001b[43mk\u001b[49m\u001b[38;5;241;43m=\u001b[39;49m\u001b[43mnum_rephrasings\u001b[49m\u001b[43m,\u001b[49m\u001b[43m \u001b[49m\u001b[43mmodel\u001b[49m\u001b[38;5;241;43m=\u001b[39;49m\u001b[43mmodel\u001b[49m\u001b[43m)\u001b[49m\n\u001b[0;32m    153\u001b[0m \u001b[38;5;28;01mif\u001b[39;00m verbose:\n\u001b[0;32m    154\u001b[0m     \u001b[38;5;28mprint\u001b[39m(questions)\n",
      "File \u001b[1;32mc:\\Users\\חרום_24\\Desktop\\4Year\\UrbanGPT\\RAG.py:29\u001b[0m, in \u001b[0;36mdiffrent_question_rephrasing\u001b[1;34m(question, k, model)\u001b[0m\n\u001b[0;32m     27\u001b[0m prompt \u001b[38;5;241m=\u001b[39m PromptTemplate\u001b[38;5;241m.\u001b[39mfrom_template(prompt_template)\n\u001b[0;32m     28\u001b[0m rephrase_chain \u001b[38;5;241m=\u001b[39m LLMChain(llm\u001b[38;5;241m=\u001b[39mmodel, prompt\u001b[38;5;241m=\u001b[39mprompt)\n\u001b[1;32m---> 29\u001b[0m output \u001b[38;5;241m=\u001b[39m \u001b[43mrephrase_chain\u001b[49m\u001b[38;5;241;43m.\u001b[39;49m\u001b[43mpredict\u001b[49m\u001b[43m(\u001b[49m\u001b[43mquestion\u001b[49m\u001b[38;5;241;43m=\u001b[39;49m\u001b[43mquestion\u001b[49m\u001b[43m,\u001b[49m\u001b[43m \u001b[49m\u001b[43mn\u001b[49m\u001b[38;5;241;43m=\u001b[39;49m\u001b[43mk\u001b[49m\u001b[43m)\u001b[49m\n\u001b[0;32m     30\u001b[0m output_parser_list \u001b[38;5;241m=\u001b[39m output\u001b[38;5;241m.\u001b[39msplit(\u001b[38;5;124m\"\u001b[39m\u001b[38;5;130;01m\\n\u001b[39;00m\u001b[38;5;124m\"\u001b[39m)\n\u001b[0;32m     31\u001b[0m \u001b[38;5;66;03m# remove line number\u001b[39;00m\n",
      "File \u001b[1;32m~\\AppData\\Local\\Packages\\PythonSoftwareFoundation.Python.3.11_qbz5n2kfra8p0\\LocalCache\\local-packages\\Python311\\site-packages\\langchain\\chains\\llm.py:293\u001b[0m, in \u001b[0;36mLLMChain.predict\u001b[1;34m(self, callbacks, **kwargs)\u001b[0m\n\u001b[0;32m    278\u001b[0m \u001b[38;5;28;01mdef\u001b[39;00m \u001b[38;5;21mpredict\u001b[39m(\u001b[38;5;28mself\u001b[39m, callbacks: Callbacks \u001b[38;5;241m=\u001b[39m \u001b[38;5;28;01mNone\u001b[39;00m, \u001b[38;5;241m*\u001b[39m\u001b[38;5;241m*\u001b[39mkwargs: Any) \u001b[38;5;241m-\u001b[39m\u001b[38;5;241m>\u001b[39m \u001b[38;5;28mstr\u001b[39m:\n\u001b[0;32m    279\u001b[0m \u001b[38;5;250m    \u001b[39m\u001b[38;5;124;03m\"\"\"Format prompt with kwargs and pass to LLM.\u001b[39;00m\n\u001b[0;32m    280\u001b[0m \n\u001b[0;32m    281\u001b[0m \u001b[38;5;124;03m    Args:\u001b[39;00m\n\u001b[1;32m   (...)\u001b[0m\n\u001b[0;32m    291\u001b[0m \u001b[38;5;124;03m            completion = llm.predict(adjective=\"funny\")\u001b[39;00m\n\u001b[0;32m    292\u001b[0m \u001b[38;5;124;03m    \"\"\"\u001b[39;00m\n\u001b[1;32m--> 293\u001b[0m     \u001b[38;5;28;01mreturn\u001b[39;00m \u001b[38;5;28;43mself\u001b[39;49m\u001b[43m(\u001b[49m\u001b[43mkwargs\u001b[49m\u001b[43m,\u001b[49m\u001b[43m \u001b[49m\u001b[43mcallbacks\u001b[49m\u001b[38;5;241;43m=\u001b[39;49m\u001b[43mcallbacks\u001b[49m\u001b[43m)\u001b[49m[\u001b[38;5;28mself\u001b[39m\u001b[38;5;241m.\u001b[39moutput_key]\n",
      "File \u001b[1;32m~\\AppData\\Local\\Packages\\PythonSoftwareFoundation.Python.3.11_qbz5n2kfra8p0\\LocalCache\\local-packages\\Python311\\site-packages\\langchain_core\\_api\\deprecation.py:145\u001b[0m, in \u001b[0;36mdeprecated.<locals>.deprecate.<locals>.warning_emitting_wrapper\u001b[1;34m(*args, **kwargs)\u001b[0m\n\u001b[0;32m    143\u001b[0m     warned \u001b[38;5;241m=\u001b[39m \u001b[38;5;28;01mTrue\u001b[39;00m\n\u001b[0;32m    144\u001b[0m     emit_warning()\n\u001b[1;32m--> 145\u001b[0m \u001b[38;5;28;01mreturn\u001b[39;00m \u001b[43mwrapped\u001b[49m\u001b[43m(\u001b[49m\u001b[38;5;241;43m*\u001b[39;49m\u001b[43margs\u001b[49m\u001b[43m,\u001b[49m\u001b[43m \u001b[49m\u001b[38;5;241;43m*\u001b[39;49m\u001b[38;5;241;43m*\u001b[39;49m\u001b[43mkwargs\u001b[49m\u001b[43m)\u001b[49m\n",
      "File \u001b[1;32m~\\AppData\\Local\\Packages\\PythonSoftwareFoundation.Python.3.11_qbz5n2kfra8p0\\LocalCache\\local-packages\\Python311\\site-packages\\langchain\\chains\\base.py:383\u001b[0m, in \u001b[0;36mChain.__call__\u001b[1;34m(self, inputs, return_only_outputs, callbacks, tags, metadata, run_name, include_run_info)\u001b[0m\n\u001b[0;32m    351\u001b[0m \u001b[38;5;250m\u001b[39m\u001b[38;5;124;03m\"\"\"Execute the chain.\u001b[39;00m\n\u001b[0;32m    352\u001b[0m \n\u001b[0;32m    353\u001b[0m \u001b[38;5;124;03mArgs:\u001b[39;00m\n\u001b[1;32m   (...)\u001b[0m\n\u001b[0;32m    374\u001b[0m \u001b[38;5;124;03m        `Chain.output_keys`.\u001b[39;00m\n\u001b[0;32m    375\u001b[0m \u001b[38;5;124;03m\"\"\"\u001b[39;00m\n\u001b[0;32m    376\u001b[0m config \u001b[38;5;241m=\u001b[39m {\n\u001b[0;32m    377\u001b[0m     \u001b[38;5;124m\"\u001b[39m\u001b[38;5;124mcallbacks\u001b[39m\u001b[38;5;124m\"\u001b[39m: callbacks,\n\u001b[0;32m    378\u001b[0m     \u001b[38;5;124m\"\u001b[39m\u001b[38;5;124mtags\u001b[39m\u001b[38;5;124m\"\u001b[39m: tags,\n\u001b[0;32m    379\u001b[0m     \u001b[38;5;124m\"\u001b[39m\u001b[38;5;124mmetadata\u001b[39m\u001b[38;5;124m\"\u001b[39m: metadata,\n\u001b[0;32m    380\u001b[0m     \u001b[38;5;124m\"\u001b[39m\u001b[38;5;124mrun_name\u001b[39m\u001b[38;5;124m\"\u001b[39m: run_name,\n\u001b[0;32m    381\u001b[0m }\n\u001b[1;32m--> 383\u001b[0m \u001b[38;5;28;01mreturn\u001b[39;00m \u001b[38;5;28;43mself\u001b[39;49m\u001b[38;5;241;43m.\u001b[39;49m\u001b[43minvoke\u001b[49m\u001b[43m(\u001b[49m\n\u001b[0;32m    384\u001b[0m \u001b[43m    \u001b[49m\u001b[43minputs\u001b[49m\u001b[43m,\u001b[49m\n\u001b[0;32m    385\u001b[0m \u001b[43m    \u001b[49m\u001b[43mcast\u001b[49m\u001b[43m(\u001b[49m\u001b[43mRunnableConfig\u001b[49m\u001b[43m,\u001b[49m\u001b[43m \u001b[49m\u001b[43m{\u001b[49m\u001b[43mk\u001b[49m\u001b[43m:\u001b[49m\u001b[43m \u001b[49m\u001b[43mv\u001b[49m\u001b[43m \u001b[49m\u001b[38;5;28;43;01mfor\u001b[39;49;00m\u001b[43m \u001b[49m\u001b[43mk\u001b[49m\u001b[43m,\u001b[49m\u001b[43m \u001b[49m\u001b[43mv\u001b[49m\u001b[43m \u001b[49m\u001b[38;5;129;43;01min\u001b[39;49;00m\u001b[43m \u001b[49m\u001b[43mconfig\u001b[49m\u001b[38;5;241;43m.\u001b[39;49m\u001b[43mitems\u001b[49m\u001b[43m(\u001b[49m\u001b[43m)\u001b[49m\u001b[43m \u001b[49m\u001b[38;5;28;43;01mif\u001b[39;49;00m\u001b[43m \u001b[49m\u001b[43mv\u001b[49m\u001b[43m \u001b[49m\u001b[38;5;129;43;01mis\u001b[39;49;00m\u001b[43m \u001b[49m\u001b[38;5;129;43;01mnot\u001b[39;49;00m\u001b[43m \u001b[49m\u001b[38;5;28;43;01mNone\u001b[39;49;00m\u001b[43m}\u001b[49m\u001b[43m)\u001b[49m\u001b[43m,\u001b[49m\n\u001b[0;32m    386\u001b[0m \u001b[43m    \u001b[49m\u001b[43mreturn_only_outputs\u001b[49m\u001b[38;5;241;43m=\u001b[39;49m\u001b[43mreturn_only_outputs\u001b[49m\u001b[43m,\u001b[49m\n\u001b[0;32m    387\u001b[0m \u001b[43m    \u001b[49m\u001b[43minclude_run_info\u001b[49m\u001b[38;5;241;43m=\u001b[39;49m\u001b[43minclude_run_info\u001b[49m\u001b[43m,\u001b[49m\n\u001b[0;32m    388\u001b[0m \u001b[43m\u001b[49m\u001b[43m)\u001b[49m\n",
      "File \u001b[1;32m~\\AppData\\Local\\Packages\\PythonSoftwareFoundation.Python.3.11_qbz5n2kfra8p0\\LocalCache\\local-packages\\Python311\\site-packages\\langchain\\chains\\base.py:168\u001b[0m, in \u001b[0;36mChain.invoke\u001b[1;34m(self, input, config, **kwargs)\u001b[0m\n\u001b[0;32m    166\u001b[0m \u001b[38;5;28;01mexcept\u001b[39;00m \u001b[38;5;167;01mBaseException\u001b[39;00m \u001b[38;5;28;01mas\u001b[39;00m e:\n\u001b[0;32m    167\u001b[0m     run_manager\u001b[38;5;241m.\u001b[39mon_chain_error(e)\n\u001b[1;32m--> 168\u001b[0m     \u001b[38;5;28;01mraise\u001b[39;00m e\n\u001b[0;32m    169\u001b[0m run_manager\u001b[38;5;241m.\u001b[39mon_chain_end(outputs)\n\u001b[0;32m    171\u001b[0m \u001b[38;5;28;01mif\u001b[39;00m include_run_info:\n",
      "File \u001b[1;32m~\\AppData\\Local\\Packages\\PythonSoftwareFoundation.Python.3.11_qbz5n2kfra8p0\\LocalCache\\local-packages\\Python311\\site-packages\\langchain\\chains\\base.py:158\u001b[0m, in \u001b[0;36mChain.invoke\u001b[1;34m(self, input, config, **kwargs)\u001b[0m\n\u001b[0;32m    155\u001b[0m \u001b[38;5;28;01mtry\u001b[39;00m:\n\u001b[0;32m    156\u001b[0m     \u001b[38;5;28mself\u001b[39m\u001b[38;5;241m.\u001b[39m_validate_inputs(inputs)\n\u001b[0;32m    157\u001b[0m     outputs \u001b[38;5;241m=\u001b[39m (\n\u001b[1;32m--> 158\u001b[0m         \u001b[38;5;28;43mself\u001b[39;49m\u001b[38;5;241;43m.\u001b[39;49m\u001b[43m_call\u001b[49m\u001b[43m(\u001b[49m\u001b[43minputs\u001b[49m\u001b[43m,\u001b[49m\u001b[43m \u001b[49m\u001b[43mrun_manager\u001b[49m\u001b[38;5;241;43m=\u001b[39;49m\u001b[43mrun_manager\u001b[49m\u001b[43m)\u001b[49m\n\u001b[0;32m    159\u001b[0m         \u001b[38;5;28;01mif\u001b[39;00m new_arg_supported\n\u001b[0;32m    160\u001b[0m         \u001b[38;5;28;01melse\u001b[39;00m \u001b[38;5;28mself\u001b[39m\u001b[38;5;241m.\u001b[39m_call(inputs)\n\u001b[0;32m    161\u001b[0m     )\n\u001b[0;32m    163\u001b[0m     final_outputs: Dict[\u001b[38;5;28mstr\u001b[39m, Any] \u001b[38;5;241m=\u001b[39m \u001b[38;5;28mself\u001b[39m\u001b[38;5;241m.\u001b[39mprep_outputs(\n\u001b[0;32m    164\u001b[0m         inputs, outputs, return_only_outputs\n\u001b[0;32m    165\u001b[0m     )\n\u001b[0;32m    166\u001b[0m \u001b[38;5;28;01mexcept\u001b[39;00m \u001b[38;5;167;01mBaseException\u001b[39;00m \u001b[38;5;28;01mas\u001b[39;00m e:\n",
      "File \u001b[1;32m~\\AppData\\Local\\Packages\\PythonSoftwareFoundation.Python.3.11_qbz5n2kfra8p0\\LocalCache\\local-packages\\Python311\\site-packages\\langchain\\chains\\llm.py:103\u001b[0m, in \u001b[0;36mLLMChain._call\u001b[1;34m(self, inputs, run_manager)\u001b[0m\n\u001b[0;32m     98\u001b[0m \u001b[38;5;28;01mdef\u001b[39;00m \u001b[38;5;21m_call\u001b[39m(\n\u001b[0;32m     99\u001b[0m     \u001b[38;5;28mself\u001b[39m,\n\u001b[0;32m    100\u001b[0m     inputs: Dict[\u001b[38;5;28mstr\u001b[39m, Any],\n\u001b[0;32m    101\u001b[0m     run_manager: Optional[CallbackManagerForChainRun] \u001b[38;5;241m=\u001b[39m \u001b[38;5;28;01mNone\u001b[39;00m,\n\u001b[0;32m    102\u001b[0m ) \u001b[38;5;241m-\u001b[39m\u001b[38;5;241m>\u001b[39m Dict[\u001b[38;5;28mstr\u001b[39m, \u001b[38;5;28mstr\u001b[39m]:\n\u001b[1;32m--> 103\u001b[0m     response \u001b[38;5;241m=\u001b[39m \u001b[38;5;28;43mself\u001b[39;49m\u001b[38;5;241;43m.\u001b[39;49m\u001b[43mgenerate\u001b[49m\u001b[43m(\u001b[49m\u001b[43m[\u001b[49m\u001b[43minputs\u001b[49m\u001b[43m]\u001b[49m\u001b[43m,\u001b[49m\u001b[43m \u001b[49m\u001b[43mrun_manager\u001b[49m\u001b[38;5;241;43m=\u001b[39;49m\u001b[43mrun_manager\u001b[49m\u001b[43m)\u001b[49m\n\u001b[0;32m    104\u001b[0m     \u001b[38;5;28;01mreturn\u001b[39;00m \u001b[38;5;28mself\u001b[39m\u001b[38;5;241m.\u001b[39mcreate_outputs(response)[\u001b[38;5;241m0\u001b[39m]\n",
      "File \u001b[1;32m~\\AppData\\Local\\Packages\\PythonSoftwareFoundation.Python.3.11_qbz5n2kfra8p0\\LocalCache\\local-packages\\Python311\\site-packages\\langchain\\chains\\llm.py:115\u001b[0m, in \u001b[0;36mLLMChain.generate\u001b[1;34m(self, input_list, run_manager)\u001b[0m\n\u001b[0;32m    113\u001b[0m callbacks \u001b[38;5;241m=\u001b[39m run_manager\u001b[38;5;241m.\u001b[39mget_child() \u001b[38;5;28;01mif\u001b[39;00m run_manager \u001b[38;5;28;01melse\u001b[39;00m \u001b[38;5;28;01mNone\u001b[39;00m\n\u001b[0;32m    114\u001b[0m \u001b[38;5;28;01mif\u001b[39;00m \u001b[38;5;28misinstance\u001b[39m(\u001b[38;5;28mself\u001b[39m\u001b[38;5;241m.\u001b[39mllm, BaseLanguageModel):\n\u001b[1;32m--> 115\u001b[0m     \u001b[38;5;28;01mreturn\u001b[39;00m \u001b[38;5;28;43mself\u001b[39;49m\u001b[38;5;241;43m.\u001b[39;49m\u001b[43mllm\u001b[49m\u001b[38;5;241;43m.\u001b[39;49m\u001b[43mgenerate_prompt\u001b[49m\u001b[43m(\u001b[49m\n\u001b[0;32m    116\u001b[0m \u001b[43m        \u001b[49m\u001b[43mprompts\u001b[49m\u001b[43m,\u001b[49m\n\u001b[0;32m    117\u001b[0m \u001b[43m        \u001b[49m\u001b[43mstop\u001b[49m\u001b[43m,\u001b[49m\n\u001b[0;32m    118\u001b[0m \u001b[43m        \u001b[49m\u001b[43mcallbacks\u001b[49m\u001b[38;5;241;43m=\u001b[39;49m\u001b[43mcallbacks\u001b[49m\u001b[43m,\u001b[49m\n\u001b[0;32m    119\u001b[0m \u001b[43m        \u001b[49m\u001b[38;5;241;43m*\u001b[39;49m\u001b[38;5;241;43m*\u001b[39;49m\u001b[38;5;28;43mself\u001b[39;49m\u001b[38;5;241;43m.\u001b[39;49m\u001b[43mllm_kwargs\u001b[49m\u001b[43m,\u001b[49m\n\u001b[0;32m    120\u001b[0m \u001b[43m    \u001b[49m\u001b[43m)\u001b[49m\n\u001b[0;32m    121\u001b[0m \u001b[38;5;28;01melse\u001b[39;00m:\n\u001b[0;32m    122\u001b[0m     results \u001b[38;5;241m=\u001b[39m \u001b[38;5;28mself\u001b[39m\u001b[38;5;241m.\u001b[39mllm\u001b[38;5;241m.\u001b[39mbind(stop\u001b[38;5;241m=\u001b[39mstop, \u001b[38;5;241m*\u001b[39m\u001b[38;5;241m*\u001b[39m\u001b[38;5;28mself\u001b[39m\u001b[38;5;241m.\u001b[39mllm_kwargs)\u001b[38;5;241m.\u001b[39mbatch(\n\u001b[0;32m    123\u001b[0m         cast(List, prompts), {\u001b[38;5;124m\"\u001b[39m\u001b[38;5;124mcallbacks\u001b[39m\u001b[38;5;124m\"\u001b[39m: callbacks}\n\u001b[0;32m    124\u001b[0m     )\n",
      "File \u001b[1;32m~\\AppData\\Local\\Packages\\PythonSoftwareFoundation.Python.3.11_qbz5n2kfra8p0\\LocalCache\\local-packages\\Python311\\site-packages\\langchain_core\\language_models\\llms.py:569\u001b[0m, in \u001b[0;36mBaseLLM.generate_prompt\u001b[1;34m(self, prompts, stop, callbacks, **kwargs)\u001b[0m\n\u001b[0;32m    561\u001b[0m \u001b[38;5;28;01mdef\u001b[39;00m \u001b[38;5;21mgenerate_prompt\u001b[39m(\n\u001b[0;32m    562\u001b[0m     \u001b[38;5;28mself\u001b[39m,\n\u001b[0;32m    563\u001b[0m     prompts: List[PromptValue],\n\u001b[1;32m   (...)\u001b[0m\n\u001b[0;32m    566\u001b[0m     \u001b[38;5;241m*\u001b[39m\u001b[38;5;241m*\u001b[39mkwargs: Any,\n\u001b[0;32m    567\u001b[0m ) \u001b[38;5;241m-\u001b[39m\u001b[38;5;241m>\u001b[39m LLMResult:\n\u001b[0;32m    568\u001b[0m     prompt_strings \u001b[38;5;241m=\u001b[39m [p\u001b[38;5;241m.\u001b[39mto_string() \u001b[38;5;28;01mfor\u001b[39;00m p \u001b[38;5;129;01min\u001b[39;00m prompts]\n\u001b[1;32m--> 569\u001b[0m     \u001b[38;5;28;01mreturn\u001b[39;00m \u001b[38;5;28;43mself\u001b[39;49m\u001b[38;5;241;43m.\u001b[39;49m\u001b[43mgenerate\u001b[49m\u001b[43m(\u001b[49m\u001b[43mprompt_strings\u001b[49m\u001b[43m,\u001b[49m\u001b[43m \u001b[49m\u001b[43mstop\u001b[49m\u001b[38;5;241;43m=\u001b[39;49m\u001b[43mstop\u001b[49m\u001b[43m,\u001b[49m\u001b[43m \u001b[49m\u001b[43mcallbacks\u001b[49m\u001b[38;5;241;43m=\u001b[39;49m\u001b[43mcallbacks\u001b[49m\u001b[43m,\u001b[49m\u001b[43m \u001b[49m\u001b[38;5;241;43m*\u001b[39;49m\u001b[38;5;241;43m*\u001b[39;49m\u001b[43mkwargs\u001b[49m\u001b[43m)\u001b[49m\n",
      "File \u001b[1;32m~\\AppData\\Local\\Packages\\PythonSoftwareFoundation.Python.3.11_qbz5n2kfra8p0\\LocalCache\\local-packages\\Python311\\site-packages\\langchain_core\\language_models\\llms.py:748\u001b[0m, in \u001b[0;36mBaseLLM.generate\u001b[1;34m(self, prompts, stop, callbacks, tags, metadata, run_name, run_id, **kwargs)\u001b[0m\n\u001b[0;32m    731\u001b[0m         \u001b[38;5;28;01mraise\u001b[39;00m \u001b[38;5;167;01mValueError\u001b[39;00m(\n\u001b[0;32m    732\u001b[0m             \u001b[38;5;124m\"\u001b[39m\u001b[38;5;124mAsked to cache, but no cache found at `langchain.cache`.\u001b[39m\u001b[38;5;124m\"\u001b[39m\n\u001b[0;32m    733\u001b[0m         )\n\u001b[0;32m    734\u001b[0m     run_managers \u001b[38;5;241m=\u001b[39m [\n\u001b[0;32m    735\u001b[0m         callback_manager\u001b[38;5;241m.\u001b[39mon_llm_start(\n\u001b[0;32m    736\u001b[0m             dumpd(\u001b[38;5;28mself\u001b[39m),\n\u001b[1;32m   (...)\u001b[0m\n\u001b[0;32m    746\u001b[0m         )\n\u001b[0;32m    747\u001b[0m     ]\n\u001b[1;32m--> 748\u001b[0m     output \u001b[38;5;241m=\u001b[39m \u001b[38;5;28;43mself\u001b[39;49m\u001b[38;5;241;43m.\u001b[39;49m\u001b[43m_generate_helper\u001b[49m\u001b[43m(\u001b[49m\n\u001b[0;32m    749\u001b[0m \u001b[43m        \u001b[49m\u001b[43mprompts\u001b[49m\u001b[43m,\u001b[49m\u001b[43m \u001b[49m\u001b[43mstop\u001b[49m\u001b[43m,\u001b[49m\u001b[43m \u001b[49m\u001b[43mrun_managers\u001b[49m\u001b[43m,\u001b[49m\u001b[43m \u001b[49m\u001b[38;5;28;43mbool\u001b[39;49m\u001b[43m(\u001b[49m\u001b[43mnew_arg_supported\u001b[49m\u001b[43m)\u001b[49m\u001b[43m,\u001b[49m\u001b[43m \u001b[49m\u001b[38;5;241;43m*\u001b[39;49m\u001b[38;5;241;43m*\u001b[39;49m\u001b[43mkwargs\u001b[49m\n\u001b[0;32m    750\u001b[0m \u001b[43m    \u001b[49m\u001b[43m)\u001b[49m\n\u001b[0;32m    751\u001b[0m     \u001b[38;5;28;01mreturn\u001b[39;00m output\n\u001b[0;32m    752\u001b[0m \u001b[38;5;28;01mif\u001b[39;00m \u001b[38;5;28mlen\u001b[39m(missing_prompts) \u001b[38;5;241m>\u001b[39m \u001b[38;5;241m0\u001b[39m:\n",
      "File \u001b[1;32m~\\AppData\\Local\\Packages\\PythonSoftwareFoundation.Python.3.11_qbz5n2kfra8p0\\LocalCache\\local-packages\\Python311\\site-packages\\langchain_core\\language_models\\llms.py:606\u001b[0m, in \u001b[0;36mBaseLLM._generate_helper\u001b[1;34m(self, prompts, stop, run_managers, new_arg_supported, **kwargs)\u001b[0m\n\u001b[0;32m    604\u001b[0m     \u001b[38;5;28;01mfor\u001b[39;00m run_manager \u001b[38;5;129;01min\u001b[39;00m run_managers:\n\u001b[0;32m    605\u001b[0m         run_manager\u001b[38;5;241m.\u001b[39mon_llm_error(e, response\u001b[38;5;241m=\u001b[39mLLMResult(generations\u001b[38;5;241m=\u001b[39m[]))\n\u001b[1;32m--> 606\u001b[0m     \u001b[38;5;28;01mraise\u001b[39;00m e\n\u001b[0;32m    607\u001b[0m flattened_outputs \u001b[38;5;241m=\u001b[39m output\u001b[38;5;241m.\u001b[39mflatten()\n\u001b[0;32m    608\u001b[0m \u001b[38;5;28;01mfor\u001b[39;00m manager, flattened_output \u001b[38;5;129;01min\u001b[39;00m \u001b[38;5;28mzip\u001b[39m(run_managers, flattened_outputs):\n",
      "File \u001b[1;32m~\\AppData\\Local\\Packages\\PythonSoftwareFoundation.Python.3.11_qbz5n2kfra8p0\\LocalCache\\local-packages\\Python311\\site-packages\\langchain_core\\language_models\\llms.py:593\u001b[0m, in \u001b[0;36mBaseLLM._generate_helper\u001b[1;34m(self, prompts, stop, run_managers, new_arg_supported, **kwargs)\u001b[0m\n\u001b[0;32m    583\u001b[0m \u001b[38;5;28;01mdef\u001b[39;00m \u001b[38;5;21m_generate_helper\u001b[39m(\n\u001b[0;32m    584\u001b[0m     \u001b[38;5;28mself\u001b[39m,\n\u001b[0;32m    585\u001b[0m     prompts: List[\u001b[38;5;28mstr\u001b[39m],\n\u001b[1;32m   (...)\u001b[0m\n\u001b[0;32m    589\u001b[0m     \u001b[38;5;241m*\u001b[39m\u001b[38;5;241m*\u001b[39mkwargs: Any,\n\u001b[0;32m    590\u001b[0m ) \u001b[38;5;241m-\u001b[39m\u001b[38;5;241m>\u001b[39m LLMResult:\n\u001b[0;32m    591\u001b[0m     \u001b[38;5;28;01mtry\u001b[39;00m:\n\u001b[0;32m    592\u001b[0m         output \u001b[38;5;241m=\u001b[39m (\n\u001b[1;32m--> 593\u001b[0m             \u001b[38;5;28;43mself\u001b[39;49m\u001b[38;5;241;43m.\u001b[39;49m\u001b[43m_generate\u001b[49m\u001b[43m(\u001b[49m\n\u001b[0;32m    594\u001b[0m \u001b[43m                \u001b[49m\u001b[43mprompts\u001b[49m\u001b[43m,\u001b[49m\n\u001b[0;32m    595\u001b[0m \u001b[43m                \u001b[49m\u001b[43mstop\u001b[49m\u001b[38;5;241;43m=\u001b[39;49m\u001b[43mstop\u001b[49m\u001b[43m,\u001b[49m\n\u001b[0;32m    596\u001b[0m \u001b[43m                \u001b[49m\u001b[38;5;66;43;03m# TODO: support multiple run managers\u001b[39;49;00m\n\u001b[0;32m    597\u001b[0m \u001b[43m                \u001b[49m\u001b[43mrun_manager\u001b[49m\u001b[38;5;241;43m=\u001b[39;49m\u001b[43mrun_managers\u001b[49m\u001b[43m[\u001b[49m\u001b[38;5;241;43m0\u001b[39;49m\u001b[43m]\u001b[49m\u001b[43m \u001b[49m\u001b[38;5;28;43;01mif\u001b[39;49;00m\u001b[43m \u001b[49m\u001b[43mrun_managers\u001b[49m\u001b[43m \u001b[49m\u001b[38;5;28;43;01melse\u001b[39;49;00m\u001b[43m \u001b[49m\u001b[38;5;28;43;01mNone\u001b[39;49;00m\u001b[43m,\u001b[49m\n\u001b[0;32m    598\u001b[0m \u001b[43m                \u001b[49m\u001b[38;5;241;43m*\u001b[39;49m\u001b[38;5;241;43m*\u001b[39;49m\u001b[43mkwargs\u001b[49m\u001b[43m,\u001b[49m\n\u001b[0;32m    599\u001b[0m \u001b[43m            \u001b[49m\u001b[43m)\u001b[49m\n\u001b[0;32m    600\u001b[0m             \u001b[38;5;28;01mif\u001b[39;00m new_arg_supported\n\u001b[0;32m    601\u001b[0m             \u001b[38;5;28;01melse\u001b[39;00m \u001b[38;5;28mself\u001b[39m\u001b[38;5;241m.\u001b[39m_generate(prompts, stop\u001b[38;5;241m=\u001b[39mstop)\n\u001b[0;32m    602\u001b[0m         )\n\u001b[0;32m    603\u001b[0m     \u001b[38;5;28;01mexcept\u001b[39;00m \u001b[38;5;167;01mBaseException\u001b[39;00m \u001b[38;5;28;01mas\u001b[39;00m e:\n\u001b[0;32m    604\u001b[0m         \u001b[38;5;28;01mfor\u001b[39;00m run_manager \u001b[38;5;129;01min\u001b[39;00m run_managers:\n",
      "File \u001b[1;32m~\\AppData\\Local\\Packages\\PythonSoftwareFoundation.Python.3.11_qbz5n2kfra8p0\\LocalCache\\local-packages\\Python311\\site-packages\\langchain_core\\language_models\\llms.py:1209\u001b[0m, in \u001b[0;36mLLM._generate\u001b[1;34m(self, prompts, stop, run_manager, **kwargs)\u001b[0m\n\u001b[0;32m   1206\u001b[0m new_arg_supported \u001b[38;5;241m=\u001b[39m inspect\u001b[38;5;241m.\u001b[39msignature(\u001b[38;5;28mself\u001b[39m\u001b[38;5;241m.\u001b[39m_call)\u001b[38;5;241m.\u001b[39mparameters\u001b[38;5;241m.\u001b[39mget(\u001b[38;5;124m\"\u001b[39m\u001b[38;5;124mrun_manager\u001b[39m\u001b[38;5;124m\"\u001b[39m)\n\u001b[0;32m   1207\u001b[0m \u001b[38;5;28;01mfor\u001b[39;00m prompt \u001b[38;5;129;01min\u001b[39;00m prompts:\n\u001b[0;32m   1208\u001b[0m     text \u001b[38;5;241m=\u001b[39m (\n\u001b[1;32m-> 1209\u001b[0m         \u001b[38;5;28;43mself\u001b[39;49m\u001b[38;5;241;43m.\u001b[39;49m\u001b[43m_call\u001b[49m\u001b[43m(\u001b[49m\u001b[43mprompt\u001b[49m\u001b[43m,\u001b[49m\u001b[43m \u001b[49m\u001b[43mstop\u001b[49m\u001b[38;5;241;43m=\u001b[39;49m\u001b[43mstop\u001b[49m\u001b[43m,\u001b[49m\u001b[43m \u001b[49m\u001b[43mrun_manager\u001b[49m\u001b[38;5;241;43m=\u001b[39;49m\u001b[43mrun_manager\u001b[49m\u001b[43m,\u001b[49m\u001b[43m \u001b[49m\u001b[38;5;241;43m*\u001b[39;49m\u001b[38;5;241;43m*\u001b[39;49m\u001b[43mkwargs\u001b[49m\u001b[43m)\u001b[49m\n\u001b[0;32m   1210\u001b[0m         \u001b[38;5;28;01mif\u001b[39;00m new_arg_supported\n\u001b[0;32m   1211\u001b[0m         \u001b[38;5;28;01melse\u001b[39;00m \u001b[38;5;28mself\u001b[39m\u001b[38;5;241m.\u001b[39m_call(prompt, stop\u001b[38;5;241m=\u001b[39mstop, \u001b[38;5;241m*\u001b[39m\u001b[38;5;241m*\u001b[39mkwargs)\n\u001b[0;32m   1212\u001b[0m     )\n\u001b[0;32m   1213\u001b[0m     generations\u001b[38;5;241m.\u001b[39mappend([Generation(text\u001b[38;5;241m=\u001b[39mtext)])\n\u001b[0;32m   1214\u001b[0m \u001b[38;5;28;01mreturn\u001b[39;00m LLMResult(generations\u001b[38;5;241m=\u001b[39mgenerations)\n",
      "File \u001b[1;32m~\\AppData\\Local\\Packages\\PythonSoftwareFoundation.Python.3.11_qbz5n2kfra8p0\\LocalCache\\local-packages\\Python311\\site-packages\\langchain_community\\llms\\bedrock.py:718\u001b[0m, in \u001b[0;36mBedrock._call\u001b[1;34m(self, prompt, stop, run_manager, **kwargs)\u001b[0m\n\u001b[0;32m    715\u001b[0m         completion \u001b[38;5;241m+\u001b[39m\u001b[38;5;241m=\u001b[39m chunk\u001b[38;5;241m.\u001b[39mtext\n\u001b[0;32m    716\u001b[0m     \u001b[38;5;28;01mreturn\u001b[39;00m completion\n\u001b[1;32m--> 718\u001b[0m \u001b[38;5;28;01mreturn\u001b[39;00m \u001b[38;5;28;43mself\u001b[39;49m\u001b[38;5;241;43m.\u001b[39;49m\u001b[43m_prepare_input_and_invoke\u001b[49m\u001b[43m(\u001b[49m\n\u001b[0;32m    719\u001b[0m \u001b[43m    \u001b[49m\u001b[43mprompt\u001b[49m\u001b[38;5;241;43m=\u001b[39;49m\u001b[43mprompt\u001b[49m\u001b[43m,\u001b[49m\u001b[43m \u001b[49m\u001b[43mstop\u001b[49m\u001b[38;5;241;43m=\u001b[39;49m\u001b[43mstop\u001b[49m\u001b[43m,\u001b[49m\u001b[43m \u001b[49m\u001b[43mrun_manager\u001b[49m\u001b[38;5;241;43m=\u001b[39;49m\u001b[43mrun_manager\u001b[49m\u001b[43m,\u001b[49m\u001b[43m \u001b[49m\u001b[38;5;241;43m*\u001b[39;49m\u001b[38;5;241;43m*\u001b[39;49m\u001b[43mkwargs\u001b[49m\n\u001b[0;32m    720\u001b[0m \u001b[43m\u001b[49m\u001b[43m)\u001b[49m\n",
      "File \u001b[1;32m~\\AppData\\Local\\Packages\\PythonSoftwareFoundation.Python.3.11_qbz5n2kfra8p0\\LocalCache\\local-packages\\Python311\\site-packages\\langchain_community\\llms\\bedrock.py:444\u001b[0m, in \u001b[0;36mBedrockBase._prepare_input_and_invoke\u001b[1;34m(self, prompt, stop, run_manager, **kwargs)\u001b[0m\n\u001b[0;32m    441\u001b[0m         request_options[\u001b[38;5;124m\"\u001b[39m\u001b[38;5;124mtrace\u001b[39m\u001b[38;5;124m\"\u001b[39m] \u001b[38;5;241m=\u001b[39m \u001b[38;5;124m\"\u001b[39m\u001b[38;5;124mENABLED\u001b[39m\u001b[38;5;124m\"\u001b[39m\n\u001b[0;32m    443\u001b[0m \u001b[38;5;28;01mtry\u001b[39;00m:\n\u001b[1;32m--> 444\u001b[0m     response \u001b[38;5;241m=\u001b[39m \u001b[38;5;28;43mself\u001b[39;49m\u001b[38;5;241;43m.\u001b[39;49m\u001b[43mclient\u001b[49m\u001b[38;5;241;43m.\u001b[39;49m\u001b[43minvoke_model\u001b[49m\u001b[43m(\u001b[49m\u001b[38;5;241;43m*\u001b[39;49m\u001b[38;5;241;43m*\u001b[39;49m\u001b[43mrequest_options\u001b[49m\u001b[43m)\u001b[49m\n\u001b[0;32m    446\u001b[0m     text, body \u001b[38;5;241m=\u001b[39m LLMInputOutputAdapter\u001b[38;5;241m.\u001b[39mprepare_output(\n\u001b[0;32m    447\u001b[0m         provider, response\n\u001b[0;32m    448\u001b[0m     )\u001b[38;5;241m.\u001b[39mvalues()\n\u001b[0;32m    450\u001b[0m \u001b[38;5;28;01mexcept\u001b[39;00m \u001b[38;5;167;01mException\u001b[39;00m \u001b[38;5;28;01mas\u001b[39;00m e:\n",
      "File \u001b[1;32m~\\AppData\\Local\\Packages\\PythonSoftwareFoundation.Python.3.11_qbz5n2kfra8p0\\LocalCache\\local-packages\\Python311\\site-packages\\botocore\\client.py:553\u001b[0m, in \u001b[0;36mClientCreator._create_api_method.<locals>._api_call\u001b[1;34m(self, *args, **kwargs)\u001b[0m\n\u001b[0;32m    549\u001b[0m     \u001b[38;5;28;01mraise\u001b[39;00m \u001b[38;5;167;01mTypeError\u001b[39;00m(\n\u001b[0;32m    550\u001b[0m         \u001b[38;5;124mf\u001b[39m\u001b[38;5;124m\"\u001b[39m\u001b[38;5;132;01m{\u001b[39;00mpy_operation_name\u001b[38;5;132;01m}\u001b[39;00m\u001b[38;5;124m() only accepts keyword arguments.\u001b[39m\u001b[38;5;124m\"\u001b[39m\n\u001b[0;32m    551\u001b[0m     )\n\u001b[0;32m    552\u001b[0m \u001b[38;5;66;03m# The \"self\" in this scope is referring to the BaseClient.\u001b[39;00m\n\u001b[1;32m--> 553\u001b[0m \u001b[38;5;28;01mreturn\u001b[39;00m \u001b[38;5;28;43mself\u001b[39;49m\u001b[38;5;241;43m.\u001b[39;49m\u001b[43m_make_api_call\u001b[49m\u001b[43m(\u001b[49m\u001b[43moperation_name\u001b[49m\u001b[43m,\u001b[49m\u001b[43m \u001b[49m\u001b[43mkwargs\u001b[49m\u001b[43m)\u001b[49m\n",
      "File \u001b[1;32m~\\AppData\\Local\\Packages\\PythonSoftwareFoundation.Python.3.11_qbz5n2kfra8p0\\LocalCache\\local-packages\\Python311\\site-packages\\botocore\\client.py:989\u001b[0m, in \u001b[0;36mBaseClient._make_api_call\u001b[1;34m(self, operation_name, api_params)\u001b[0m\n\u001b[0;32m    985\u001b[0m     maybe_compress_request(\n\u001b[0;32m    986\u001b[0m         \u001b[38;5;28mself\u001b[39m\u001b[38;5;241m.\u001b[39mmeta\u001b[38;5;241m.\u001b[39mconfig, request_dict, operation_model\n\u001b[0;32m    987\u001b[0m     )\n\u001b[0;32m    988\u001b[0m     apply_request_checksum(request_dict)\n\u001b[1;32m--> 989\u001b[0m     http, parsed_response \u001b[38;5;241m=\u001b[39m \u001b[38;5;28;43mself\u001b[39;49m\u001b[38;5;241;43m.\u001b[39;49m\u001b[43m_make_request\u001b[49m\u001b[43m(\u001b[49m\n\u001b[0;32m    990\u001b[0m \u001b[43m        \u001b[49m\u001b[43moperation_model\u001b[49m\u001b[43m,\u001b[49m\u001b[43m \u001b[49m\u001b[43mrequest_dict\u001b[49m\u001b[43m,\u001b[49m\u001b[43m \u001b[49m\u001b[43mrequest_context\u001b[49m\n\u001b[0;32m    991\u001b[0m \u001b[43m    \u001b[49m\u001b[43m)\u001b[49m\n\u001b[0;32m    993\u001b[0m \u001b[38;5;28mself\u001b[39m\u001b[38;5;241m.\u001b[39mmeta\u001b[38;5;241m.\u001b[39mevents\u001b[38;5;241m.\u001b[39memit(\n\u001b[0;32m    994\u001b[0m     \u001b[38;5;124m'\u001b[39m\u001b[38;5;124mafter-call.\u001b[39m\u001b[38;5;132;01m{service_id}\u001b[39;00m\u001b[38;5;124m.\u001b[39m\u001b[38;5;132;01m{operation_name}\u001b[39;00m\u001b[38;5;124m'\u001b[39m\u001b[38;5;241m.\u001b[39mformat(\n\u001b[0;32m    995\u001b[0m         service_id\u001b[38;5;241m=\u001b[39mservice_id, operation_name\u001b[38;5;241m=\u001b[39moperation_name\n\u001b[1;32m   (...)\u001b[0m\n\u001b[0;32m   1000\u001b[0m     context\u001b[38;5;241m=\u001b[39mrequest_context,\n\u001b[0;32m   1001\u001b[0m )\n\u001b[0;32m   1003\u001b[0m \u001b[38;5;28;01mif\u001b[39;00m http\u001b[38;5;241m.\u001b[39mstatus_code \u001b[38;5;241m>\u001b[39m\u001b[38;5;241m=\u001b[39m \u001b[38;5;241m300\u001b[39m:\n",
      "File \u001b[1;32m~\\AppData\\Local\\Packages\\PythonSoftwareFoundation.Python.3.11_qbz5n2kfra8p0\\LocalCache\\local-packages\\Python311\\site-packages\\botocore\\client.py:1015\u001b[0m, in \u001b[0;36mBaseClient._make_request\u001b[1;34m(self, operation_model, request_dict, request_context)\u001b[0m\n\u001b[0;32m   1013\u001b[0m \u001b[38;5;28;01mdef\u001b[39;00m \u001b[38;5;21m_make_request\u001b[39m(\u001b[38;5;28mself\u001b[39m, operation_model, request_dict, request_context):\n\u001b[0;32m   1014\u001b[0m     \u001b[38;5;28;01mtry\u001b[39;00m:\n\u001b[1;32m-> 1015\u001b[0m         \u001b[38;5;28;01mreturn\u001b[39;00m \u001b[38;5;28;43mself\u001b[39;49m\u001b[38;5;241;43m.\u001b[39;49m\u001b[43m_endpoint\u001b[49m\u001b[38;5;241;43m.\u001b[39;49m\u001b[43mmake_request\u001b[49m\u001b[43m(\u001b[49m\u001b[43moperation_model\u001b[49m\u001b[43m,\u001b[49m\u001b[43m \u001b[49m\u001b[43mrequest_dict\u001b[49m\u001b[43m)\u001b[49m\n\u001b[0;32m   1016\u001b[0m     \u001b[38;5;28;01mexcept\u001b[39;00m \u001b[38;5;167;01mException\u001b[39;00m \u001b[38;5;28;01mas\u001b[39;00m e:\n\u001b[0;32m   1017\u001b[0m         \u001b[38;5;28mself\u001b[39m\u001b[38;5;241m.\u001b[39mmeta\u001b[38;5;241m.\u001b[39mevents\u001b[38;5;241m.\u001b[39memit(\n\u001b[0;32m   1018\u001b[0m             \u001b[38;5;124m'\u001b[39m\u001b[38;5;124mafter-call-error.\u001b[39m\u001b[38;5;132;01m{service_id}\u001b[39;00m\u001b[38;5;124m.\u001b[39m\u001b[38;5;132;01m{operation_name}\u001b[39;00m\u001b[38;5;124m'\u001b[39m\u001b[38;5;241m.\u001b[39mformat(\n\u001b[0;32m   1019\u001b[0m                 service_id\u001b[38;5;241m=\u001b[39m\u001b[38;5;28mself\u001b[39m\u001b[38;5;241m.\u001b[39m_service_model\u001b[38;5;241m.\u001b[39mservice_id\u001b[38;5;241m.\u001b[39mhyphenize(),\n\u001b[1;32m   (...)\u001b[0m\n\u001b[0;32m   1023\u001b[0m             context\u001b[38;5;241m=\u001b[39mrequest_context,\n\u001b[0;32m   1024\u001b[0m         )\n",
      "File \u001b[1;32m~\\AppData\\Local\\Packages\\PythonSoftwareFoundation.Python.3.11_qbz5n2kfra8p0\\LocalCache\\local-packages\\Python311\\site-packages\\botocore\\endpoint.py:119\u001b[0m, in \u001b[0;36mEndpoint.make_request\u001b[1;34m(self, operation_model, request_dict)\u001b[0m\n\u001b[0;32m    113\u001b[0m \u001b[38;5;28;01mdef\u001b[39;00m \u001b[38;5;21mmake_request\u001b[39m(\u001b[38;5;28mself\u001b[39m, operation_model, request_dict):\n\u001b[0;32m    114\u001b[0m     logger\u001b[38;5;241m.\u001b[39mdebug(\n\u001b[0;32m    115\u001b[0m         \u001b[38;5;124m\"\u001b[39m\u001b[38;5;124mMaking request for \u001b[39m\u001b[38;5;132;01m%s\u001b[39;00m\u001b[38;5;124m with params: \u001b[39m\u001b[38;5;132;01m%s\u001b[39;00m\u001b[38;5;124m\"\u001b[39m,\n\u001b[0;32m    116\u001b[0m         operation_model,\n\u001b[0;32m    117\u001b[0m         request_dict,\n\u001b[0;32m    118\u001b[0m     )\n\u001b[1;32m--> 119\u001b[0m     \u001b[38;5;28;01mreturn\u001b[39;00m \u001b[38;5;28;43mself\u001b[39;49m\u001b[38;5;241;43m.\u001b[39;49m\u001b[43m_send_request\u001b[49m\u001b[43m(\u001b[49m\u001b[43mrequest_dict\u001b[49m\u001b[43m,\u001b[49m\u001b[43m \u001b[49m\u001b[43moperation_model\u001b[49m\u001b[43m)\u001b[49m\n",
      "File \u001b[1;32m~\\AppData\\Local\\Packages\\PythonSoftwareFoundation.Python.3.11_qbz5n2kfra8p0\\LocalCache\\local-packages\\Python311\\site-packages\\botocore\\endpoint.py:199\u001b[0m, in \u001b[0;36mEndpoint._send_request\u001b[1;34m(self, request_dict, operation_model)\u001b[0m\n\u001b[0;32m    197\u001b[0m \u001b[38;5;28mself\u001b[39m\u001b[38;5;241m.\u001b[39m_update_retries_context(context, attempts)\n\u001b[0;32m    198\u001b[0m request \u001b[38;5;241m=\u001b[39m \u001b[38;5;28mself\u001b[39m\u001b[38;5;241m.\u001b[39mcreate_request(request_dict, operation_model)\n\u001b[1;32m--> 199\u001b[0m success_response, exception \u001b[38;5;241m=\u001b[39m \u001b[38;5;28;43mself\u001b[39;49m\u001b[38;5;241;43m.\u001b[39;49m\u001b[43m_get_response\u001b[49m\u001b[43m(\u001b[49m\n\u001b[0;32m    200\u001b[0m \u001b[43m    \u001b[49m\u001b[43mrequest\u001b[49m\u001b[43m,\u001b[49m\u001b[43m \u001b[49m\u001b[43moperation_model\u001b[49m\u001b[43m,\u001b[49m\u001b[43m \u001b[49m\u001b[43mcontext\u001b[49m\n\u001b[0;32m    201\u001b[0m \u001b[43m\u001b[49m\u001b[43m)\u001b[49m\n\u001b[0;32m    202\u001b[0m \u001b[38;5;28;01mwhile\u001b[39;00m \u001b[38;5;28mself\u001b[39m\u001b[38;5;241m.\u001b[39m_needs_retry(\n\u001b[0;32m    203\u001b[0m     attempts,\n\u001b[0;32m    204\u001b[0m     operation_model,\n\u001b[1;32m   (...)\u001b[0m\n\u001b[0;32m    207\u001b[0m     exception,\n\u001b[0;32m    208\u001b[0m ):\n\u001b[0;32m    209\u001b[0m     attempts \u001b[38;5;241m+\u001b[39m\u001b[38;5;241m=\u001b[39m \u001b[38;5;241m1\u001b[39m\n",
      "File \u001b[1;32m~\\AppData\\Local\\Packages\\PythonSoftwareFoundation.Python.3.11_qbz5n2kfra8p0\\LocalCache\\local-packages\\Python311\\site-packages\\botocore\\endpoint.py:241\u001b[0m, in \u001b[0;36mEndpoint._get_response\u001b[1;34m(self, request, operation_model, context)\u001b[0m\n\u001b[0;32m    235\u001b[0m \u001b[38;5;28;01mdef\u001b[39;00m \u001b[38;5;21m_get_response\u001b[39m(\u001b[38;5;28mself\u001b[39m, request, operation_model, context):\n\u001b[0;32m    236\u001b[0m     \u001b[38;5;66;03m# This will return a tuple of (success_response, exception)\u001b[39;00m\n\u001b[0;32m    237\u001b[0m     \u001b[38;5;66;03m# and success_response is itself a tuple of\u001b[39;00m\n\u001b[0;32m    238\u001b[0m     \u001b[38;5;66;03m# (http_response, parsed_dict).\u001b[39;00m\n\u001b[0;32m    239\u001b[0m     \u001b[38;5;66;03m# If an exception occurs then the success_response is None.\u001b[39;00m\n\u001b[0;32m    240\u001b[0m     \u001b[38;5;66;03m# If no exception occurs then exception is None.\u001b[39;00m\n\u001b[1;32m--> 241\u001b[0m     success_response, exception \u001b[38;5;241m=\u001b[39m \u001b[38;5;28;43mself\u001b[39;49m\u001b[38;5;241;43m.\u001b[39;49m\u001b[43m_do_get_response\u001b[49m\u001b[43m(\u001b[49m\n\u001b[0;32m    242\u001b[0m \u001b[43m        \u001b[49m\u001b[43mrequest\u001b[49m\u001b[43m,\u001b[49m\u001b[43m \u001b[49m\u001b[43moperation_model\u001b[49m\u001b[43m,\u001b[49m\u001b[43m \u001b[49m\u001b[43mcontext\u001b[49m\n\u001b[0;32m    243\u001b[0m \u001b[43m    \u001b[49m\u001b[43m)\u001b[49m\n\u001b[0;32m    244\u001b[0m     kwargs_to_emit \u001b[38;5;241m=\u001b[39m {\n\u001b[0;32m    245\u001b[0m         \u001b[38;5;124m'\u001b[39m\u001b[38;5;124mresponse_dict\u001b[39m\u001b[38;5;124m'\u001b[39m: \u001b[38;5;28;01mNone\u001b[39;00m,\n\u001b[0;32m    246\u001b[0m         \u001b[38;5;124m'\u001b[39m\u001b[38;5;124mparsed_response\u001b[39m\u001b[38;5;124m'\u001b[39m: \u001b[38;5;28;01mNone\u001b[39;00m,\n\u001b[0;32m    247\u001b[0m         \u001b[38;5;124m'\u001b[39m\u001b[38;5;124mcontext\u001b[39m\u001b[38;5;124m'\u001b[39m: context,\n\u001b[0;32m    248\u001b[0m         \u001b[38;5;124m'\u001b[39m\u001b[38;5;124mexception\u001b[39m\u001b[38;5;124m'\u001b[39m: exception,\n\u001b[0;32m    249\u001b[0m     }\n\u001b[0;32m    250\u001b[0m     \u001b[38;5;28;01mif\u001b[39;00m success_response \u001b[38;5;129;01mis\u001b[39;00m \u001b[38;5;129;01mnot\u001b[39;00m \u001b[38;5;28;01mNone\u001b[39;00m:\n",
      "File \u001b[1;32m~\\AppData\\Local\\Packages\\PythonSoftwareFoundation.Python.3.11_qbz5n2kfra8p0\\LocalCache\\local-packages\\Python311\\site-packages\\botocore\\endpoint.py:281\u001b[0m, in \u001b[0;36mEndpoint._do_get_response\u001b[1;34m(self, request, operation_model, context)\u001b[0m\n\u001b[0;32m    279\u001b[0m     http_response \u001b[38;5;241m=\u001b[39m first_non_none_response(responses)\n\u001b[0;32m    280\u001b[0m     \u001b[38;5;28;01mif\u001b[39;00m http_response \u001b[38;5;129;01mis\u001b[39;00m \u001b[38;5;28;01mNone\u001b[39;00m:\n\u001b[1;32m--> 281\u001b[0m         http_response \u001b[38;5;241m=\u001b[39m \u001b[38;5;28;43mself\u001b[39;49m\u001b[38;5;241;43m.\u001b[39;49m\u001b[43m_send\u001b[49m\u001b[43m(\u001b[49m\u001b[43mrequest\u001b[49m\u001b[43m)\u001b[49m\n\u001b[0;32m    282\u001b[0m \u001b[38;5;28;01mexcept\u001b[39;00m HTTPClientError \u001b[38;5;28;01mas\u001b[39;00m e:\n\u001b[0;32m    283\u001b[0m     \u001b[38;5;28;01mreturn\u001b[39;00m (\u001b[38;5;28;01mNone\u001b[39;00m, e)\n",
      "File \u001b[1;32m~\\AppData\\Local\\Packages\\PythonSoftwareFoundation.Python.3.11_qbz5n2kfra8p0\\LocalCache\\local-packages\\Python311\\site-packages\\botocore\\endpoint.py:377\u001b[0m, in \u001b[0;36mEndpoint._send\u001b[1;34m(self, request)\u001b[0m\n\u001b[0;32m    376\u001b[0m \u001b[38;5;28;01mdef\u001b[39;00m \u001b[38;5;21m_send\u001b[39m(\u001b[38;5;28mself\u001b[39m, request):\n\u001b[1;32m--> 377\u001b[0m     \u001b[38;5;28;01mreturn\u001b[39;00m \u001b[38;5;28;43mself\u001b[39;49m\u001b[38;5;241;43m.\u001b[39;49m\u001b[43mhttp_session\u001b[49m\u001b[38;5;241;43m.\u001b[39;49m\u001b[43msend\u001b[49m\u001b[43m(\u001b[49m\u001b[43mrequest\u001b[49m\u001b[43m)\u001b[49m\n",
      "File \u001b[1;32m~\\AppData\\Local\\Packages\\PythonSoftwareFoundation.Python.3.11_qbz5n2kfra8p0\\LocalCache\\local-packages\\Python311\\site-packages\\botocore\\httpsession.py:464\u001b[0m, in \u001b[0;36mURLLib3Session.send\u001b[1;34m(self, request)\u001b[0m\n\u001b[0;32m    461\u001b[0m     conn\u001b[38;5;241m.\u001b[39mproxy_headers[\u001b[38;5;124m'\u001b[39m\u001b[38;5;124mhost\u001b[39m\u001b[38;5;124m'\u001b[39m] \u001b[38;5;241m=\u001b[39m host\n\u001b[0;32m    463\u001b[0m request_target \u001b[38;5;241m=\u001b[39m \u001b[38;5;28mself\u001b[39m\u001b[38;5;241m.\u001b[39m_get_request_target(request\u001b[38;5;241m.\u001b[39murl, proxy_url)\n\u001b[1;32m--> 464\u001b[0m urllib_response \u001b[38;5;241m=\u001b[39m \u001b[43mconn\u001b[49m\u001b[38;5;241;43m.\u001b[39;49m\u001b[43murlopen\u001b[49m\u001b[43m(\u001b[49m\n\u001b[0;32m    465\u001b[0m \u001b[43m    \u001b[49m\u001b[43mmethod\u001b[49m\u001b[38;5;241;43m=\u001b[39;49m\u001b[43mrequest\u001b[49m\u001b[38;5;241;43m.\u001b[39;49m\u001b[43mmethod\u001b[49m\u001b[43m,\u001b[49m\n\u001b[0;32m    466\u001b[0m \u001b[43m    \u001b[49m\u001b[43murl\u001b[49m\u001b[38;5;241;43m=\u001b[39;49m\u001b[43mrequest_target\u001b[49m\u001b[43m,\u001b[49m\n\u001b[0;32m    467\u001b[0m \u001b[43m    \u001b[49m\u001b[43mbody\u001b[49m\u001b[38;5;241;43m=\u001b[39;49m\u001b[43mrequest\u001b[49m\u001b[38;5;241;43m.\u001b[39;49m\u001b[43mbody\u001b[49m\u001b[43m,\u001b[49m\n\u001b[0;32m    468\u001b[0m \u001b[43m    \u001b[49m\u001b[43mheaders\u001b[49m\u001b[38;5;241;43m=\u001b[39;49m\u001b[43mrequest\u001b[49m\u001b[38;5;241;43m.\u001b[39;49m\u001b[43mheaders\u001b[49m\u001b[43m,\u001b[49m\n\u001b[0;32m    469\u001b[0m \u001b[43m    \u001b[49m\u001b[43mretries\u001b[49m\u001b[38;5;241;43m=\u001b[39;49m\u001b[43mRetry\u001b[49m\u001b[43m(\u001b[49m\u001b[38;5;28;43;01mFalse\u001b[39;49;00m\u001b[43m)\u001b[49m\u001b[43m,\u001b[49m\n\u001b[0;32m    470\u001b[0m \u001b[43m    \u001b[49m\u001b[43massert_same_host\u001b[49m\u001b[38;5;241;43m=\u001b[39;49m\u001b[38;5;28;43;01mFalse\u001b[39;49;00m\u001b[43m,\u001b[49m\n\u001b[0;32m    471\u001b[0m \u001b[43m    \u001b[49m\u001b[43mpreload_content\u001b[49m\u001b[38;5;241;43m=\u001b[39;49m\u001b[38;5;28;43;01mFalse\u001b[39;49;00m\u001b[43m,\u001b[49m\n\u001b[0;32m    472\u001b[0m \u001b[43m    \u001b[49m\u001b[43mdecode_content\u001b[49m\u001b[38;5;241;43m=\u001b[39;49m\u001b[38;5;28;43;01mFalse\u001b[39;49;00m\u001b[43m,\u001b[49m\n\u001b[0;32m    473\u001b[0m \u001b[43m    \u001b[49m\u001b[43mchunked\u001b[49m\u001b[38;5;241;43m=\u001b[39;49m\u001b[38;5;28;43mself\u001b[39;49m\u001b[38;5;241;43m.\u001b[39;49m\u001b[43m_chunked\u001b[49m\u001b[43m(\u001b[49m\u001b[43mrequest\u001b[49m\u001b[38;5;241;43m.\u001b[39;49m\u001b[43mheaders\u001b[49m\u001b[43m)\u001b[49m\u001b[43m,\u001b[49m\n\u001b[0;32m    474\u001b[0m \u001b[43m\u001b[49m\u001b[43m)\u001b[49m\n\u001b[0;32m    476\u001b[0m http_response \u001b[38;5;241m=\u001b[39m botocore\u001b[38;5;241m.\u001b[39mawsrequest\u001b[38;5;241m.\u001b[39mAWSResponse(\n\u001b[0;32m    477\u001b[0m     request\u001b[38;5;241m.\u001b[39murl,\n\u001b[0;32m    478\u001b[0m     urllib_response\u001b[38;5;241m.\u001b[39mstatus,\n\u001b[0;32m    479\u001b[0m     urllib_response\u001b[38;5;241m.\u001b[39mheaders,\n\u001b[0;32m    480\u001b[0m     urllib_response,\n\u001b[0;32m    481\u001b[0m )\n\u001b[0;32m    483\u001b[0m \u001b[38;5;28;01mif\u001b[39;00m \u001b[38;5;129;01mnot\u001b[39;00m request\u001b[38;5;241m.\u001b[39mstream_output:\n\u001b[0;32m    484\u001b[0m     \u001b[38;5;66;03m# Cause the raw stream to be exhausted immediately. We do it\u001b[39;00m\n\u001b[0;32m    485\u001b[0m     \u001b[38;5;66;03m# this way instead of using preload_content because\u001b[39;00m\n\u001b[0;32m    486\u001b[0m     \u001b[38;5;66;03m# preload_content will never buffer chunked responses\u001b[39;00m\n",
      "File \u001b[1;32m~\\AppData\\Local\\Packages\\PythonSoftwareFoundation.Python.3.11_qbz5n2kfra8p0\\LocalCache\\local-packages\\Python311\\site-packages\\urllib3\\connectionpool.py:793\u001b[0m, in \u001b[0;36mHTTPConnectionPool.urlopen\u001b[1;34m(self, method, url, body, headers, retries, redirect, assert_same_host, timeout, pool_timeout, release_conn, chunked, body_pos, preload_content, decode_content, **response_kw)\u001b[0m\n\u001b[0;32m    790\u001b[0m response_conn \u001b[38;5;241m=\u001b[39m conn \u001b[38;5;28;01mif\u001b[39;00m \u001b[38;5;129;01mnot\u001b[39;00m release_conn \u001b[38;5;28;01melse\u001b[39;00m \u001b[38;5;28;01mNone\u001b[39;00m\n\u001b[0;32m    792\u001b[0m \u001b[38;5;66;03m# Make the request on the HTTPConnection object\u001b[39;00m\n\u001b[1;32m--> 793\u001b[0m response \u001b[38;5;241m=\u001b[39m \u001b[38;5;28;43mself\u001b[39;49m\u001b[38;5;241;43m.\u001b[39;49m\u001b[43m_make_request\u001b[49m\u001b[43m(\u001b[49m\n\u001b[0;32m    794\u001b[0m \u001b[43m    \u001b[49m\u001b[43mconn\u001b[49m\u001b[43m,\u001b[49m\n\u001b[0;32m    795\u001b[0m \u001b[43m    \u001b[49m\u001b[43mmethod\u001b[49m\u001b[43m,\u001b[49m\n\u001b[0;32m    796\u001b[0m \u001b[43m    \u001b[49m\u001b[43murl\u001b[49m\u001b[43m,\u001b[49m\n\u001b[0;32m    797\u001b[0m \u001b[43m    \u001b[49m\u001b[43mtimeout\u001b[49m\u001b[38;5;241;43m=\u001b[39;49m\u001b[43mtimeout_obj\u001b[49m\u001b[43m,\u001b[49m\n\u001b[0;32m    798\u001b[0m \u001b[43m    \u001b[49m\u001b[43mbody\u001b[49m\u001b[38;5;241;43m=\u001b[39;49m\u001b[43mbody\u001b[49m\u001b[43m,\u001b[49m\n\u001b[0;32m    799\u001b[0m \u001b[43m    \u001b[49m\u001b[43mheaders\u001b[49m\u001b[38;5;241;43m=\u001b[39;49m\u001b[43mheaders\u001b[49m\u001b[43m,\u001b[49m\n\u001b[0;32m    800\u001b[0m \u001b[43m    \u001b[49m\u001b[43mchunked\u001b[49m\u001b[38;5;241;43m=\u001b[39;49m\u001b[43mchunked\u001b[49m\u001b[43m,\u001b[49m\n\u001b[0;32m    801\u001b[0m \u001b[43m    \u001b[49m\u001b[43mretries\u001b[49m\u001b[38;5;241;43m=\u001b[39;49m\u001b[43mretries\u001b[49m\u001b[43m,\u001b[49m\n\u001b[0;32m    802\u001b[0m \u001b[43m    \u001b[49m\u001b[43mresponse_conn\u001b[49m\u001b[38;5;241;43m=\u001b[39;49m\u001b[43mresponse_conn\u001b[49m\u001b[43m,\u001b[49m\n\u001b[0;32m    803\u001b[0m \u001b[43m    \u001b[49m\u001b[43mpreload_content\u001b[49m\u001b[38;5;241;43m=\u001b[39;49m\u001b[43mpreload_content\u001b[49m\u001b[43m,\u001b[49m\n\u001b[0;32m    804\u001b[0m \u001b[43m    \u001b[49m\u001b[43mdecode_content\u001b[49m\u001b[38;5;241;43m=\u001b[39;49m\u001b[43mdecode_content\u001b[49m\u001b[43m,\u001b[49m\n\u001b[0;32m    805\u001b[0m \u001b[43m    \u001b[49m\u001b[38;5;241;43m*\u001b[39;49m\u001b[38;5;241;43m*\u001b[39;49m\u001b[43mresponse_kw\u001b[49m\u001b[43m,\u001b[49m\n\u001b[0;32m    806\u001b[0m \u001b[43m\u001b[49m\u001b[43m)\u001b[49m\n\u001b[0;32m    808\u001b[0m \u001b[38;5;66;03m# Everything went great!\u001b[39;00m\n\u001b[0;32m    809\u001b[0m clean_exit \u001b[38;5;241m=\u001b[39m \u001b[38;5;28;01mTrue\u001b[39;00m\n",
      "File \u001b[1;32m~\\AppData\\Local\\Packages\\PythonSoftwareFoundation.Python.3.11_qbz5n2kfra8p0\\LocalCache\\local-packages\\Python311\\site-packages\\urllib3\\connectionpool.py:537\u001b[0m, in \u001b[0;36mHTTPConnectionPool._make_request\u001b[1;34m(self, conn, method, url, body, headers, retries, timeout, chunked, response_conn, preload_content, decode_content, enforce_content_length)\u001b[0m\n\u001b[0;32m    535\u001b[0m \u001b[38;5;66;03m# Receive the response from the server\u001b[39;00m\n\u001b[0;32m    536\u001b[0m \u001b[38;5;28;01mtry\u001b[39;00m:\n\u001b[1;32m--> 537\u001b[0m     response \u001b[38;5;241m=\u001b[39m \u001b[43mconn\u001b[49m\u001b[38;5;241;43m.\u001b[39;49m\u001b[43mgetresponse\u001b[49m\u001b[43m(\u001b[49m\u001b[43m)\u001b[49m\n\u001b[0;32m    538\u001b[0m \u001b[38;5;28;01mexcept\u001b[39;00m (BaseSSLError, \u001b[38;5;167;01mOSError\u001b[39;00m) \u001b[38;5;28;01mas\u001b[39;00m e:\n\u001b[0;32m    539\u001b[0m     \u001b[38;5;28mself\u001b[39m\u001b[38;5;241m.\u001b[39m_raise_timeout(err\u001b[38;5;241m=\u001b[39me, url\u001b[38;5;241m=\u001b[39murl, timeout_value\u001b[38;5;241m=\u001b[39mread_timeout)\n",
      "File \u001b[1;32m~\\AppData\\Local\\Packages\\PythonSoftwareFoundation.Python.3.11_qbz5n2kfra8p0\\LocalCache\\local-packages\\Python311\\site-packages\\urllib3\\connection.py:466\u001b[0m, in \u001b[0;36mHTTPConnection.getresponse\u001b[1;34m(self)\u001b[0m\n\u001b[0;32m    463\u001b[0m \u001b[38;5;28;01mfrom\u001b[39;00m \u001b[38;5;21;01m.\u001b[39;00m\u001b[38;5;21;01mresponse\u001b[39;00m \u001b[38;5;28;01mimport\u001b[39;00m HTTPResponse\n\u001b[0;32m    465\u001b[0m \u001b[38;5;66;03m# Get the response from http.client.HTTPConnection\u001b[39;00m\n\u001b[1;32m--> 466\u001b[0m httplib_response \u001b[38;5;241m=\u001b[39m \u001b[38;5;28;43msuper\u001b[39;49m\u001b[43m(\u001b[49m\u001b[43m)\u001b[49m\u001b[38;5;241;43m.\u001b[39;49m\u001b[43mgetresponse\u001b[49m\u001b[43m(\u001b[49m\u001b[43m)\u001b[49m\n\u001b[0;32m    468\u001b[0m \u001b[38;5;28;01mtry\u001b[39;00m:\n\u001b[0;32m    469\u001b[0m     assert_header_parsing(httplib_response\u001b[38;5;241m.\u001b[39mmsg)\n",
      "File \u001b[1;32mC:\\Program Files\\WindowsApps\\PythonSoftwareFoundation.Python.3.11_3.11.2544.0_x64__qbz5n2kfra8p0\\Lib\\http\\client.py:1395\u001b[0m, in \u001b[0;36mHTTPConnection.getresponse\u001b[1;34m(self)\u001b[0m\n\u001b[0;32m   1393\u001b[0m \u001b[38;5;28;01mtry\u001b[39;00m:\n\u001b[0;32m   1394\u001b[0m     \u001b[38;5;28;01mtry\u001b[39;00m:\n\u001b[1;32m-> 1395\u001b[0m         \u001b[43mresponse\u001b[49m\u001b[38;5;241;43m.\u001b[39;49m\u001b[43mbegin\u001b[49m\u001b[43m(\u001b[49m\u001b[43m)\u001b[49m\n\u001b[0;32m   1396\u001b[0m     \u001b[38;5;28;01mexcept\u001b[39;00m \u001b[38;5;167;01mConnectionError\u001b[39;00m:\n\u001b[0;32m   1397\u001b[0m         \u001b[38;5;28mself\u001b[39m\u001b[38;5;241m.\u001b[39mclose()\n",
      "File \u001b[1;32mC:\\Program Files\\WindowsApps\\PythonSoftwareFoundation.Python.3.11_3.11.2544.0_x64__qbz5n2kfra8p0\\Lib\\http\\client.py:325\u001b[0m, in \u001b[0;36mHTTPResponse.begin\u001b[1;34m(self)\u001b[0m\n\u001b[0;32m    323\u001b[0m \u001b[38;5;66;03m# read until we get a non-100 response\u001b[39;00m\n\u001b[0;32m    324\u001b[0m \u001b[38;5;28;01mwhile\u001b[39;00m \u001b[38;5;28;01mTrue\u001b[39;00m:\n\u001b[1;32m--> 325\u001b[0m     version, status, reason \u001b[38;5;241m=\u001b[39m \u001b[38;5;28;43mself\u001b[39;49m\u001b[38;5;241;43m.\u001b[39;49m\u001b[43m_read_status\u001b[49m\u001b[43m(\u001b[49m\u001b[43m)\u001b[49m\n\u001b[0;32m    326\u001b[0m     \u001b[38;5;28;01mif\u001b[39;00m status \u001b[38;5;241m!=\u001b[39m CONTINUE:\n\u001b[0;32m    327\u001b[0m         \u001b[38;5;28;01mbreak\u001b[39;00m\n",
      "File \u001b[1;32mC:\\Program Files\\WindowsApps\\PythonSoftwareFoundation.Python.3.11_3.11.2544.0_x64__qbz5n2kfra8p0\\Lib\\http\\client.py:286\u001b[0m, in \u001b[0;36mHTTPResponse._read_status\u001b[1;34m(self)\u001b[0m\n\u001b[0;32m    285\u001b[0m \u001b[38;5;28;01mdef\u001b[39;00m \u001b[38;5;21m_read_status\u001b[39m(\u001b[38;5;28mself\u001b[39m):\n\u001b[1;32m--> 286\u001b[0m     line \u001b[38;5;241m=\u001b[39m \u001b[38;5;28mstr\u001b[39m(\u001b[38;5;28mself\u001b[39m\u001b[38;5;241m.\u001b[39mfp\u001b[38;5;241m.\u001b[39mreadline(_MAXLINE \u001b[38;5;241m+\u001b[39m \u001b[38;5;241m1\u001b[39m), \u001b[38;5;124m\"\u001b[39m\u001b[38;5;124miso-8859-1\u001b[39m\u001b[38;5;124m\"\u001b[39m)\n\u001b[0;32m    287\u001b[0m     \u001b[38;5;28;01mif\u001b[39;00m \u001b[38;5;28mlen\u001b[39m(line) \u001b[38;5;241m>\u001b[39m _MAXLINE:\n\u001b[0;32m    288\u001b[0m         \u001b[38;5;28;01mraise\u001b[39;00m LineTooLong(\u001b[38;5;124m\"\u001b[39m\u001b[38;5;124mstatus line\u001b[39m\u001b[38;5;124m\"\u001b[39m)\n",
      "File \u001b[1;32mC:\\Program Files\\WindowsApps\\PythonSoftwareFoundation.Python.3.11_3.11.2544.0_x64__qbz5n2kfra8p0\\Lib\\socket.py:706\u001b[0m, in \u001b[0;36mSocketIO.readinto\u001b[1;34m(self, b)\u001b[0m\n\u001b[0;32m    704\u001b[0m \u001b[38;5;28;01mwhile\u001b[39;00m \u001b[38;5;28;01mTrue\u001b[39;00m:\n\u001b[0;32m    705\u001b[0m     \u001b[38;5;28;01mtry\u001b[39;00m:\n\u001b[1;32m--> 706\u001b[0m         \u001b[38;5;28;01mreturn\u001b[39;00m \u001b[38;5;28;43mself\u001b[39;49m\u001b[38;5;241;43m.\u001b[39;49m\u001b[43m_sock\u001b[49m\u001b[38;5;241;43m.\u001b[39;49m\u001b[43mrecv_into\u001b[49m\u001b[43m(\u001b[49m\u001b[43mb\u001b[49m\u001b[43m)\u001b[49m\n\u001b[0;32m    707\u001b[0m     \u001b[38;5;28;01mexcept\u001b[39;00m timeout:\n\u001b[0;32m    708\u001b[0m         \u001b[38;5;28mself\u001b[39m\u001b[38;5;241m.\u001b[39m_timeout_occurred \u001b[38;5;241m=\u001b[39m \u001b[38;5;28;01mTrue\u001b[39;00m\n",
      "File \u001b[1;32mC:\\Program Files\\WindowsApps\\PythonSoftwareFoundation.Python.3.11_3.11.2544.0_x64__qbz5n2kfra8p0\\Lib\\ssl.py:1314\u001b[0m, in \u001b[0;36mSSLSocket.recv_into\u001b[1;34m(self, buffer, nbytes, flags)\u001b[0m\n\u001b[0;32m   1310\u001b[0m     \u001b[38;5;28;01mif\u001b[39;00m flags \u001b[38;5;241m!=\u001b[39m \u001b[38;5;241m0\u001b[39m:\n\u001b[0;32m   1311\u001b[0m         \u001b[38;5;28;01mraise\u001b[39;00m \u001b[38;5;167;01mValueError\u001b[39;00m(\n\u001b[0;32m   1312\u001b[0m           \u001b[38;5;124m\"\u001b[39m\u001b[38;5;124mnon-zero flags not allowed in calls to recv_into() on \u001b[39m\u001b[38;5;132;01m%s\u001b[39;00m\u001b[38;5;124m\"\u001b[39m \u001b[38;5;241m%\u001b[39m\n\u001b[0;32m   1313\u001b[0m           \u001b[38;5;28mself\u001b[39m\u001b[38;5;241m.\u001b[39m\u001b[38;5;18m__class__\u001b[39m)\n\u001b[1;32m-> 1314\u001b[0m     \u001b[38;5;28;01mreturn\u001b[39;00m \u001b[38;5;28;43mself\u001b[39;49m\u001b[38;5;241;43m.\u001b[39;49m\u001b[43mread\u001b[49m\u001b[43m(\u001b[49m\u001b[43mnbytes\u001b[49m\u001b[43m,\u001b[49m\u001b[43m \u001b[49m\u001b[43mbuffer\u001b[49m\u001b[43m)\u001b[49m\n\u001b[0;32m   1315\u001b[0m \u001b[38;5;28;01melse\u001b[39;00m:\n\u001b[0;32m   1316\u001b[0m     \u001b[38;5;28;01mreturn\u001b[39;00m \u001b[38;5;28msuper\u001b[39m()\u001b[38;5;241m.\u001b[39mrecv_into(buffer, nbytes, flags)\n",
      "File \u001b[1;32mC:\\Program Files\\WindowsApps\\PythonSoftwareFoundation.Python.3.11_3.11.2544.0_x64__qbz5n2kfra8p0\\Lib\\ssl.py:1166\u001b[0m, in \u001b[0;36mSSLSocket.read\u001b[1;34m(self, len, buffer)\u001b[0m\n\u001b[0;32m   1164\u001b[0m \u001b[38;5;28;01mtry\u001b[39;00m:\n\u001b[0;32m   1165\u001b[0m     \u001b[38;5;28;01mif\u001b[39;00m buffer \u001b[38;5;129;01mis\u001b[39;00m \u001b[38;5;129;01mnot\u001b[39;00m \u001b[38;5;28;01mNone\u001b[39;00m:\n\u001b[1;32m-> 1166\u001b[0m         \u001b[38;5;28;01mreturn\u001b[39;00m \u001b[38;5;28;43mself\u001b[39;49m\u001b[38;5;241;43m.\u001b[39;49m\u001b[43m_sslobj\u001b[49m\u001b[38;5;241;43m.\u001b[39;49m\u001b[43mread\u001b[49m\u001b[43m(\u001b[49m\u001b[38;5;28;43mlen\u001b[39;49m\u001b[43m,\u001b[49m\u001b[43m \u001b[49m\u001b[43mbuffer\u001b[49m\u001b[43m)\u001b[49m\n\u001b[0;32m   1167\u001b[0m     \u001b[38;5;28;01melse\u001b[39;00m:\n\u001b[0;32m   1168\u001b[0m         \u001b[38;5;28;01mreturn\u001b[39;00m \u001b[38;5;28mself\u001b[39m\u001b[38;5;241m.\u001b[39m_sslobj\u001b[38;5;241m.\u001b[39mread(\u001b[38;5;28mlen\u001b[39m)\n",
      "\u001b[1;31mKeyboardInterrupt\u001b[0m: "
     ]
    }
   ],
   "source": [
    "# read file if exists and if not create it\n",
    "if os.path.exists('result_n1_k5_claude_binary.csv'):\n",
    "    df = pd.read_csv('result_n1_k5_claude_binary.csv')\n",
    "else:\n",
    "    llm = get_claude_llm()\n",
    "    question = \"האם הבניה המתוכננת היא ברחוב אורוגוואי?\"\n",
    "    result = get_answer_foreach_doc(question, db, data, num_docs=1, num_rephrasings=5, model=llm, verbose=False, multiprocess=False)\n",
    "    # save the result\n",
    "    df = pd.DataFrame(result)\n",
    "    df.to_csv('result_n1_k5_claude_binary.csv', index=False)\n",
    "df"
   ]
  },
  {
   "cell_type": "markdown",
   "metadata": {},
   "source": [
    "dont succseed to get the answer that we want(we told him to answer yes or no but he say too much information that we cant summarize)"
   ]
  },
  {
   "cell_type": "markdown",
   "metadata": {},
   "source": [
    "# try the same with commandR+"
   ]
  },
  {
   "cell_type": "code",
   "execution_count": 19,
   "metadata": {
    "metadata": {}
   },
   "outputs": [],
   "source": [
    "if os.path.exists(\"result_n3_k10_commandR_binary.csv\"):\n",
    "    df = pd.read_csv(\"result_n3_k10_commandR_binary.csv\")\n",
    "else:\n",
    "    llm = get_commandR_llm(rate_limit=10)\n",
    "    question = \"האם הבניה המתוכננת היא ברחוב אורוגוואי?\"\n",
    "    result = get_answer_foreach_doc(question, db, data, num_docs=1, num_rephrasings=0, model=llm, verbose=False, multiprocess=False)\n",
    "\n",
    "    # save the result\n",
    "    df = pd.DataFrame(result)\n",
    "    df.to_csv('result_n3_k10_commandR_binary.csv', index=False)"
   ]
  },
  {
   "cell_type": "code",
   "execution_count": 20,
   "metadata": {
    "metadata": {}
   },
   "outputs": [
    {
     "data": {
      "text/html": [
       "<div>\n",
       "<style scoped>\n",
       "    .dataframe tbody tr th:only-of-type {\n",
       "        vertical-align: middle;\n",
       "    }\n",
       "\n",
       "    .dataframe tbody tr th {\n",
       "        vertical-align: top;\n",
       "    }\n",
       "\n",
       "    .dataframe thead th {\n",
       "        text-align: right;\n",
       "    }\n",
       "</style>\n",
       "<table border=\"1\" class=\"dataframe\">\n",
       "  <thead>\n",
       "    <tr style=\"text-align: right;\">\n",
       "      <th></th>\n",
       "      <th>pl_number</th>\n",
       "      <th>answer</th>\n",
       "      <th>chunks</th>\n",
       "    </tr>\n",
       "  </thead>\n",
       "  <tbody>\n",
       "    <tr>\n",
       "      <th>31</th>\n",
       "      <td>101-0252619</td>\n",
       "      <td>כן.</td>\n",
       "      <td>['- חוק התכנון והבניה, התשכ\"ה1965\\nהוראות התכנ...</td>\n",
       "    </tr>\n",
       "    <tr>\n",
       "      <th>115</th>\n",
       "      <td>101-0387019</td>\n",
       "      <td>כן.</td>\n",
       "      <td>['\\'מגורים א 4.1\\nתאום תשתיות עם מהנדס הועדה ה...</td>\n",
       "    </tr>\n",
       "    <tr>\n",
       "      <th>133</th>\n",
       "      <td>101-0339010</td>\n",
       "      <td>כן.</td>\n",
       "      <td>['יעודי קרקע ושימושים 4.\\n מגורים ומסחר 4.1\\nש...</td>\n",
       "    </tr>\n",
       "    <tr>\n",
       "      <th>158</th>\n",
       "      <td>101-0205674</td>\n",
       "      <td>כן.</td>\n",
       "      <td>['הגדרות בתכנית 1.9\\n \\nלא רלוונטי\\nכל מונח אש...</td>\n",
       "    </tr>\n",
       "    <tr>\n",
       "      <th>180</th>\n",
       "      <td>101-0345298</td>\n",
       "      <td>כן.</td>\n",
       "      <td>['תנאים למתן היתרי בניה 6.9\\n(\\'מרתפי חניה, מת...</td>\n",
       "    </tr>\n",
       "    <tr>\n",
       "      <th>265</th>\n",
       "      <td>101-0750851</td>\n",
       "      <td>כן.</td>\n",
       "      <td>['יעודי קרקע ושימושים 4.\\n \\'מגורים ב 4.1\\nשימ...</td>\n",
       "    </tr>\n",
       "    <tr>\n",
       "      <th>270</th>\n",
       "      <td>101-0596270</td>\n",
       "      <td>כן.</td>\n",
       "      <td>['\\'מגורים ד 4.1\\n10 . נקודת פליטת האוויר ממער...</td>\n",
       "    </tr>\n",
       "    <tr>\n",
       "      <th>271</th>\n",
       "      <td>101-0917013</td>\n",
       "      <td>כן.</td>\n",
       "      <td>['- חוק התכנון והבניה, התשכ\"ה1965\\nהוראות התכנ...</td>\n",
       "    </tr>\n",
       "    <tr>\n",
       "      <th>346</th>\n",
       "      <td>101-1010560</td>\n",
       "      <td>כן.</td>\n",
       "      <td>['יעודי קרקע ושימושים 4.\\n \\'מגורים ב 4.1\\nשימ...</td>\n",
       "    </tr>\n",
       "    <tr>\n",
       "      <th>372</th>\n",
       "      <td>101-1112010</td>\n",
       "      <td>כן.</td>\n",
       "      <td>['הקיים. הבנייה באבן נסורה, חלקה, ללא סיתות, א...</td>\n",
       "    </tr>\n",
       "    <tr>\n",
       "      <th>402</th>\n",
       "      <td>101-1062843</td>\n",
       "      <td>כן.</td>\n",
       "      <td>['\\'מגורים ב 4.1\\nהוראות בדבר ביסוס  \\nבהתאם ל...</td>\n",
       "    </tr>\n",
       "    <tr>\n",
       "      <th>429</th>\n",
       "      <td>101-0845842</td>\n",
       "      <td>כן.</td>\n",
       "      <td>['- חוק התכנון והבניה, התשכ\"ה1965\\nהוראות התכנ...</td>\n",
       "    </tr>\n",
       "    <tr>\n",
       "      <th>466</th>\n",
       "      <td>101-1072545</td>\n",
       "      <td>כן.</td>\n",
       "      <td>['- חוק התכנון והבניה, התשכ\"ה1965\\nהוראות התכנ...</td>\n",
       "    </tr>\n",
       "    <tr>\n",
       "      <th>469</th>\n",
       "      <td>101-1059435</td>\n",
       "      <td>כן.</td>\n",
       "      <td>['דרך מוצעת 4.2\\nשימושים4.2.1\\n - דרך כהגדרתה ...</td>\n",
       "    </tr>\n",
       "    <tr>\n",
       "      <th>525</th>\n",
       "      <td>101-1008176</td>\n",
       "      <td>כן.</td>\n",
       "      <td>['הגדרות בתכנית 1.9\\n \\nלא רלוונטי\\nכל מונח אש...</td>\n",
       "    </tr>\n",
       "  </tbody>\n",
       "</table>\n",
       "</div>"
      ],
      "text/plain": [
       "       pl_number answer                                             chunks\n",
       "31   101-0252619    כן.  ['- חוק התכנון והבניה, התשכ\"ה1965\\nהוראות התכנ...\n",
       "115  101-0387019    כן.  ['\\'מגורים א 4.1\\nתאום תשתיות עם מהנדס הועדה ה...\n",
       "133  101-0339010    כן.  ['יעודי קרקע ושימושים 4.\\n מגורים ומסחר 4.1\\nש...\n",
       "158  101-0205674    כן.  ['הגדרות בתכנית 1.9\\n \\nלא רלוונטי\\nכל מונח אש...\n",
       "180  101-0345298    כן.  ['תנאים למתן היתרי בניה 6.9\\n(\\'מרתפי חניה, מת...\n",
       "265  101-0750851    כן.  ['יעודי קרקע ושימושים 4.\\n \\'מגורים ב 4.1\\nשימ...\n",
       "270  101-0596270    כן.  ['\\'מגורים ד 4.1\\n10 . נקודת פליטת האוויר ממער...\n",
       "271  101-0917013    כן.  ['- חוק התכנון והבניה, התשכ\"ה1965\\nהוראות התכנ...\n",
       "346  101-1010560    כן.  ['יעודי קרקע ושימושים 4.\\n \\'מגורים ב 4.1\\nשימ...\n",
       "372  101-1112010    כן.  ['הקיים. הבנייה באבן נסורה, חלקה, ללא סיתות, א...\n",
       "402  101-1062843    כן.  ['\\'מגורים ב 4.1\\nהוראות בדבר ביסוס  \\nבהתאם ל...\n",
       "429  101-0845842    כן.  ['- חוק התכנון והבניה, התשכ\"ה1965\\nהוראות התכנ...\n",
       "466  101-1072545    כן.  ['- חוק התכנון והבניה, התשכ\"ה1965\\nהוראות התכנ...\n",
       "469  101-1059435    כן.  ['דרך מוצעת 4.2\\nשימושים4.2.1\\n - דרך כהגדרתה ...\n",
       "525  101-1008176    כן.  ['הגדרות בתכנית 1.9\\n \\nלא רלוונטי\\nכל מונח אש..."
      ]
     },
     "execution_count": 20,
     "metadata": {},
     "output_type": "execute_result"
    }
   ],
   "source": [
    "df['answer'].value_counts()\n",
    "df[(df['answer']=='כן')| (df['answer']=='כן.')]"
   ]
  },
  {
   "cell_type": "markdown",
   "metadata": {},
   "source": [
    "dont succseed to get the answer that we want - he say yes but the plane is not in uruguay"
   ]
  },
  {
   "cell_type": "markdown",
   "metadata": {},
   "source": [
    "# try the same with misteral 7"
   ]
  },
  {
   "cell_type": "code",
   "execution_count": 21,
   "metadata": {},
   "outputs": [
    {
     "ename": "ValidationError",
     "evalue": "1 validation error for LlamaCpp\n__root__\n  Could not load Llama model from path: models/mistral-7b-instruct-v0.1.Q4_K_M.gguf. Received error Model path does not exist: models/mistral-7b-instruct-v0.1.Q4_K_M.gguf (type=value_error)",
     "output_type": "error",
     "traceback": [
      "\u001b[1;31m---------------------------------------------------------------------------\u001b[0m",
      "\u001b[1;31mValidationError\u001b[0m                           Traceback (most recent call last)",
      "Cell \u001b[1;32mIn[21], line 4\u001b[0m\n\u001b[0;32m      2\u001b[0m     df \u001b[38;5;241m=\u001b[39m pd\u001b[38;5;241m.\u001b[39mread_csv(\u001b[38;5;124m\"\u001b[39m\u001b[38;5;124mresult_n3_k10_mistral_binary.csv\u001b[39m\u001b[38;5;124m\"\u001b[39m)\n\u001b[0;32m      3\u001b[0m \u001b[38;5;28;01melse\u001b[39;00m:\n\u001b[1;32m----> 4\u001b[0m     llm \u001b[38;5;241m=\u001b[39m \u001b[43mget_mistral_llm\u001b[49m\u001b[43m(\u001b[49m\u001b[43m)\u001b[49m\n\u001b[0;32m      5\u001b[0m     question \u001b[38;5;241m=\u001b[39m \u001b[38;5;124m\"\u001b[39m\u001b[38;5;124mהאם הבניה המתוכננת היא ברחוב אורוגוואי?\u001b[39m\u001b[38;5;124m\"\u001b[39m\n\u001b[0;32m      6\u001b[0m     \u001b[38;5;66;03m# try to get the answer just on one plane\u001b[39;00m\n",
      "File \u001b[1;32mc:\\Users\\חרום_24\\Desktop\\4Year\\UrbanGPT\\models.py:147\u001b[0m, in \u001b[0;36mget_mistral_llm\u001b[1;34m()\u001b[0m\n\u001b[0;32m    146\u001b[0m \u001b[38;5;28;01mdef\u001b[39;00m \u001b[38;5;21mget_mistral_llm\u001b[39m():\n\u001b[1;32m--> 147\u001b[0m     \u001b[38;5;28;01mreturn\u001b[39;00m \u001b[43mLlamaCpp\u001b[49m\u001b[43m(\u001b[49m\n\u001b[0;32m    148\u001b[0m \u001b[43m        \u001b[49m\u001b[43mmodel_path\u001b[49m\u001b[38;5;241;43m=\u001b[39;49m\u001b[38;5;124;43m\"\u001b[39;49m\u001b[38;5;124;43mmodels/mistral-7b-instruct-v0.1.Q4_K_M.gguf\u001b[39;49m\u001b[38;5;124;43m\"\u001b[39;49m\u001b[43m,\u001b[49m\n\u001b[0;32m    149\u001b[0m \u001b[43m        \u001b[49m\u001b[43mtemperature\u001b[49m\u001b[38;5;241;43m=\u001b[39;49m\u001b[38;5;241;43m0.0\u001b[39;49m\u001b[43m,\u001b[49m\n\u001b[0;32m    150\u001b[0m \u001b[43m        \u001b[49m\u001b[43mmax_tokens\u001b[49m\u001b[38;5;241;43m=\u001b[39;49m\u001b[38;5;241;43m1024\u001b[39;49m\u001b[43m,\u001b[49m\n\u001b[0;32m    151\u001b[0m \u001b[43m        \u001b[49m\u001b[43mtop_p\u001b[49m\u001b[38;5;241;43m=\u001b[39;49m\u001b[38;5;241;43m1\u001b[39;49m\u001b[43m,\u001b[49m\n\u001b[0;32m    152\u001b[0m \u001b[43m        \u001b[49m\u001b[43mn_ctx\u001b[49m\u001b[38;5;241;43m=\u001b[39;49m\u001b[38;5;241;43m8192\u001b[39;49m\u001b[43m,\u001b[49m\u001b[43m  \u001b[49m\u001b[38;5;66;43;03m# Reduce the context size\u001b[39;49;00m\n\u001b[0;32m    153\u001b[0m \u001b[43m        \u001b[49m\u001b[43mverbose\u001b[49m\u001b[38;5;241;43m=\u001b[39;49m\u001b[38;5;28;43;01mTrue\u001b[39;49;00m\u001b[43m,\u001b[49m\n\u001b[0;32m    154\u001b[0m \u001b[43m    \u001b[49m\u001b[43m)\u001b[49m\n",
      "File \u001b[1;32m~\\AppData\\Local\\Packages\\PythonSoftwareFoundation.Python.3.11_qbz5n2kfra8p0\\LocalCache\\local-packages\\Python311\\site-packages\\langchain_core\\load\\serializable.py:120\u001b[0m, in \u001b[0;36mSerializable.__init__\u001b[1;34m(self, **kwargs)\u001b[0m\n\u001b[0;32m    119\u001b[0m \u001b[38;5;28;01mdef\u001b[39;00m \u001b[38;5;21m__init__\u001b[39m(\u001b[38;5;28mself\u001b[39m, \u001b[38;5;241m*\u001b[39m\u001b[38;5;241m*\u001b[39mkwargs: Any) \u001b[38;5;241m-\u001b[39m\u001b[38;5;241m>\u001b[39m \u001b[38;5;28;01mNone\u001b[39;00m:\n\u001b[1;32m--> 120\u001b[0m     \u001b[38;5;28;43msuper\u001b[39;49m\u001b[43m(\u001b[49m\u001b[43m)\u001b[49m\u001b[38;5;241;43m.\u001b[39;49m\u001b[38;5;21;43m__init__\u001b[39;49m\u001b[43m(\u001b[49m\u001b[38;5;241;43m*\u001b[39;49m\u001b[38;5;241;43m*\u001b[39;49m\u001b[43mkwargs\u001b[49m\u001b[43m)\u001b[49m\n\u001b[0;32m    121\u001b[0m     \u001b[38;5;28mself\u001b[39m\u001b[38;5;241m.\u001b[39m_lc_kwargs \u001b[38;5;241m=\u001b[39m kwargs\n",
      "File \u001b[1;32m~\\AppData\\Local\\Packages\\PythonSoftwareFoundation.Python.3.11_qbz5n2kfra8p0\\LocalCache\\local-packages\\Python311\\site-packages\\pydantic\\v1\\main.py:341\u001b[0m, in \u001b[0;36mBaseModel.__init__\u001b[1;34m(__pydantic_self__, **data)\u001b[0m\n\u001b[0;32m    339\u001b[0m values, fields_set, validation_error \u001b[38;5;241m=\u001b[39m validate_model(__pydantic_self__\u001b[38;5;241m.\u001b[39m\u001b[38;5;18m__class__\u001b[39m, data)\n\u001b[0;32m    340\u001b[0m \u001b[38;5;28;01mif\u001b[39;00m validation_error:\n\u001b[1;32m--> 341\u001b[0m     \u001b[38;5;28;01mraise\u001b[39;00m validation_error\n\u001b[0;32m    342\u001b[0m \u001b[38;5;28;01mtry\u001b[39;00m:\n\u001b[0;32m    343\u001b[0m     object_setattr(__pydantic_self__, \u001b[38;5;124m'\u001b[39m\u001b[38;5;124m__dict__\u001b[39m\u001b[38;5;124m'\u001b[39m, values)\n",
      "\u001b[1;31mValidationError\u001b[0m: 1 validation error for LlamaCpp\n__root__\n  Could not load Llama model from path: models/mistral-7b-instruct-v0.1.Q4_K_M.gguf. Received error Model path does not exist: models/mistral-7b-instruct-v0.1.Q4_K_M.gguf (type=value_error)"
     ]
    }
   ],
   "source": [
    "if os.path.exists(\"result_n3_k10_mistral_binary.csv\"):\n",
    "    df = pd.read_csv(\"result_n3_k10_mistral_binary.csv\")\n",
    "else:\n",
    "    llm = get_mistral_llm()\n",
    "    question = \"האם הבניה המתוכננת היא ברחוב אורוגוואי?\"\n",
    "    # try to get the answer just on one plane\n",
    "    result = get_answer_foreach_doc(question, db, data[:1], num_docs=1, num_rephrasings=0, model=llm, verbose=True, multiprocess=False)\n",
    "\n",
    "    # save the result\n",
    "    df = pd.DataFrame(result)\n",
    "    df.to_csv('result_n3_k10_mistral_binary.csv', index=False)\n",
    "df"
   ]
  },
  {
   "cell_type": "markdown",
   "metadata": {},
   "source": []
  },
  {
   "cell_type": "code",
   "execution_count": null,
   "metadata": {},
   "outputs": [],
   "source": [
    "import re\n",
    "def parse_answer(ans):\n",
    "    # get the answer from the string\n",
    "    reg1 = r'.*התשובה היא:?\\s*\"?(כן|לא|אין ברשותי מספיק מידע)\"?.*'\n",
    "    reg2 = r'.*התשובה היא \"?(כן|לא|אין ברשותי מספיק מידע)\"?.*'\n",
    "    reg3 = r'.*\\n.*(כן|לא|אין ברשותי מספיק מידע).*'\n",
    "    match = re.match(reg1, ans)\n",
    "    match2 = re.match(reg2, ans)\n",
    "    match3 = re.match(reg3, ans)\n",
    "    if match:\n",
    "        return match.group(1)\n",
    "    elif match2:\n",
    "        return match2.group(1)\n",
    "    # elif match3:\n",
    "        # return match3.group(1)\n",
    "    else:\n",
    "        return ans\n",
    "\n",
    "df['answer_parsed'] = df['answer'].apply(parse_answer)\n",
    "df['answer_parsed'].value_counts()\n",
    "\n",
    "df[df['answer_parsed']=='כן']['answer'].values[0]"
   ]
  },
  {
   "cell_type": "code",
   "execution_count": null,
   "metadata": {
    "metadata": {}
   },
   "outputs": [],
   "source": [
    "# if os.path.exists(\"result_n1_k0_gemini_binar\n",
    "#                   if os.path.exists(\"result_n3_k0_gemini_binary.csv\"):\n",
    "#     df = pd.read_csv(\"result_n3_k0_gemini_binary.csv\")\n",
    "# else:\n",
    "#     llm = get_gemini_llm(rate_limit=True)\n",
    "#     question = \"האם הבניה המתוכננת היא ברחוב אורוגוואי?\"\n",
    "#     result = get_answer_foreach_doc(question, db, data, num_docs=3, num_rephrasings=0, model=llm, verbose=True, multiprocess=False)\n",
    "\n",
    "#     # save the result\n",
    "#     df = pd.DataFrame(result)\n",
    "#     df.to_csv('result_n3_k0_gemini_binary.csv', index=False)y.csv\"):\n",
    "#     df = pd.read_csv(\"result_n1_k0_gemini_binary.csv\")\n",
    "# else:\n",
    "#     llm = get_gemini_llm(rate_limit=60)\n",
    "#     question = \"האם הבניה המתוכננת היא ברחוב אורוגוואי?\"\n",
    "#     result = get_answer_foreach_doc(question, db, data, num_docs=1, num_rephrasings=0, model=llm, verbose=True, multiprocess=False)\n",
    "\n",
    "#     # save the result\n",
    "#     df = pd.DataFrame(result)\n",
    "#     df.to_csv('result_n1_k0_gemini_binary.csv', index=False)"
   ]
  },
  {
   "cell_type": "code",
   "execution_count": 8,
   "metadata": {
    "metadata": {}
   },
   "outputs": [
    {
     "name": "stdout",
     "output_type": "stream",
     "text": [
      "['האם הבניה המתוכננת היא ברחוב אורוגוואי?']\n",
      "0s document: אין ברשותי מספיק מידע.\n",
      "1s document: No document found\n"
     ]
    },
    {
     "name": "stderr",
     "output_type": "stream",
     "text": [
      "Retrying langchain_google_genai.chat_models._chat_with_retry.<locals>._chat_with_retry in 2.0 seconds as it raised DeadlineExceeded: 504 Deadline Exceeded.\n"
     ]
    },
    {
     "name": "stdout",
     "output_type": "stream",
     "text": [
      "2s document: אין ברשותי מספיק מידע.\n",
      "3s document: אין ברשותי מספיק מידע.\n",
      "4s document: No document found\n",
      "5s document: אין ברשותי מספיק מידע.\n",
      "6s document: אין ברשותי מספיק מידע.\n",
      "7s document: No document found\n",
      "8s document: אין ברשותי מספיק מידע.\n",
      "9s document: No document found\n",
      "10s document: No document found\n",
      "11s document: אין ברשותי מספיק מידע.\n",
      "12s document: אין ברשותי מספיק מידע.\n"
     ]
    },
    {
     "name": "stderr",
     "output_type": "stream",
     "text": [
      "Retrying langchain_google_genai.chat_models._chat_with_retry.<locals>._chat_with_retry in 2.0 seconds as it raised DeadlineExceeded: 504 Deadline Exceeded.\n",
      "Retrying langchain_google_genai.chat_models._chat_with_retry.<locals>._chat_with_retry in 4.0 seconds as it raised DeadlineExceeded: 504 Deadline Exceeded.\n"
     ]
    },
    {
     "name": "stdout",
     "output_type": "stream",
     "text": [
      "13s document: אין ברשותי מספיק מידע\n",
      "14s document: No document found\n",
      "15s document: No document found\n",
      "16s document: No document found\n",
      "17s document: No document found\n",
      "18s document: אין ברשותי מספיק מידע.\n",
      "19s document: אין ברשותי מספיק מידע.\n",
      "20s document: No document found\n",
      "21s document: No document found\n",
      "22s document: אין ברשותי מספיק מידע.\n",
      "23s document: No document found\n",
      "24s document: אין ברשותי מספיק מידע.\n",
      "25s document: No document found\n",
      "26s document: No document found\n",
      "27s document: אין ברשותי מספיק מידע.\n",
      "28s document: No document found\n",
      "29s document: No document found\n",
      "30s document: No document found\n"
     ]
    },
    {
     "name": "stderr",
     "output_type": "stream",
     "text": [
      "Retrying langchain_google_genai.chat_models._chat_with_retry.<locals>._chat_with_retry in 2.0 seconds as it raised DeadlineExceeded: 504 Deadline Exceeded.\n"
     ]
    },
    {
     "name": "stdout",
     "output_type": "stream",
     "text": [
      "31s document: כן\n",
      "32s document: No document found\n",
      "33s document: No document found\n",
      "34s document: No document found\n",
      "35s document: אין ברשותי מספיק מידע.\n",
      "36s document: אין ברשותי מספיק מידע.\n",
      "37s document: No document found\n",
      "38s document: No document found\n",
      "39s document: No document found\n",
      "40s document: No document found\n",
      "41s document: No document found\n",
      "42s document: No document found\n",
      "43s document: אין ברשותי מספיק מידע.\n",
      "44s document: אין ברשותי מספיק מידע.\n",
      "45s document: אין ברשותי מספיק מידע\n",
      "46s document: No document found\n",
      "47s document: No document found\n",
      "48s document: אין ברשותי מספיק מידע.\n",
      "49s document: אין ברשותי מספיק מידע.\n",
      "50s document: No document found\n",
      "51s document: אין ברשותי מספיק מידע.\n",
      "52s document: אין ברשותי מספיק מידע.\n",
      "53s document: No document found\n",
      "54s document: אין ברשותי מספיק מידע.\n",
      "55s document: No document found\n",
      "56s document: No document found\n",
      "57s document: No document found\n",
      "58s document: לא\n",
      "59s document: No document found\n",
      "60s document: אין ברשותי מספיק מידע.\n",
      "61s document: No document found\n",
      "62s document: No document found\n",
      "63s document: No document found\n",
      "64s document: No document found\n",
      "65s document: No document found\n",
      "66s document: No document found\n",
      "67s document: No document found\n",
      "68s document: No document found\n",
      "69s document: אין ברשותי מספיק מידע.\n",
      "70s document: אין ברשותי מספיק מידע.\n",
      "71s document: No document found\n",
      "72s document: אין ברשותי מספיק מידע.\n",
      "73s document: No document found\n",
      "74s document: No document found\n",
      "75s document: No document found\n",
      "76s document: No document found\n",
      "77s document: No document found\n",
      "78s document: No document found\n",
      "79s document: No document found\n",
      "80s document: No document found\n",
      "81s document: No document found\n",
      "82s document: No document found\n",
      "83s document: לא\n",
      "84s document: No document found\n",
      "85s document: No document found\n",
      "86s document: No document found\n",
      "87s document: No document found\n",
      "88s document: אין ברשותי מספיק מידע.\n",
      "89s document: No document found\n",
      "90s document: No document found\n",
      "91s document: No document found\n",
      "92s document: No document found\n",
      "93s document: No document found\n",
      "94s document: אין ברשותי מספיק מידע.\n",
      "95s document: No document found\n",
      "96s document: No document found\n",
      "97s document: אין ברשותי מספיק מידע.\n",
      "98s document: No document found\n",
      "99s document: No document found\n",
      "100s document: No document found\n",
      "101s document: אין ברשותי מספיק מידע כדי לענות על השאלה.\n",
      "102s document: No document found\n",
      "103s document: No document found\n",
      "104s document: No document found\n",
      "105s document: No document found\n",
      "106s document: אין ברשותי מספיק מידע.\n",
      "107s document: אין ברשותי מספיק מידע.\n",
      "108s document: No document found\n",
      "109s document: אין ברשותי מספיק מידע.\n",
      "110s document: No document found\n"
     ]
    },
    {
     "name": "stderr",
     "output_type": "stream",
     "text": [
      "Retrying langchain_google_genai.chat_models._chat_with_retry.<locals>._chat_with_retry in 2.0 seconds as it raised DeadlineExceeded: 504 Deadline Exceeded.\n"
     ]
    },
    {
     "name": "stdout",
     "output_type": "stream",
     "text": [
      "111s document: אין ברשותי מספיק מידע.\n",
      "112s document: No document found\n",
      "113s document: No document found\n",
      "114s document: אין ברשותי מספיק מידע.\n",
      "115s document: אין ברשותי מספיק מידע.\n",
      "116s document: No document found\n",
      "117s document: אין ברשותי מספיק מידע.\n",
      "118s document: אין ברשותי מספיק מידע.\n",
      "119s document: אין ברשותי מספיק מידע.\n",
      "120s document: אין ברשותי מספיק מידע.\n",
      "121s document: אין ברשותי מספיק מידע.\n",
      "122s document: אין ברשותי מספיק מידע.\n",
      "123s document: אין ברשותי מספיק מידע.\n",
      "124s document: No document found\n",
      "125s document: אין ברשותי מספיק מידע.\n",
      "126s document: אין ברשותי מספיק מידע.\n",
      "127s document: No document found\n",
      "128s document: אין ברשותי מספיק מידע.\n",
      "129s document: אין ברשותי מספיק מידע.\n",
      "130s document: אין ברשותי מספיק מידע.\n"
     ]
    },
    {
     "name": "stderr",
     "output_type": "stream",
     "text": [
      "Retrying langchain_google_genai.chat_models._chat_with_retry.<locals>._chat_with_retry in 2.0 seconds as it raised DeadlineExceeded: 504 Deadline Exceeded.\n"
     ]
    },
    {
     "name": "stdout",
     "output_type": "stream",
     "text": [
      "131s document: אין ברשותי מספיק מידע.\n",
      "132s document: אין ברשותי מספיק מידע.\n"
     ]
    },
    {
     "name": "stderr",
     "output_type": "stream",
     "text": [
      "Retrying langchain_google_genai.chat_models._chat_with_retry.<locals>._chat_with_retry in 2.0 seconds as it raised DeadlineExceeded: 504 Deadline Exceeded.\n"
     ]
    },
    {
     "name": "stdout",
     "output_type": "stream",
     "text": [
      "133s document: כן\n",
      "134s document: אין ברשותי מספיק מידע.\n",
      "135s document: No document found\n"
     ]
    },
    {
     "name": "stderr",
     "output_type": "stream",
     "text": [
      "Retrying langchain_google_genai.chat_models._chat_with_retry.<locals>._chat_with_retry in 2.0 seconds as it raised DeadlineExceeded: 504 Deadline Exceeded.\n"
     ]
    },
    {
     "name": "stdout",
     "output_type": "stream",
     "text": [
      "136s document: אין ברשותי מספיק מידע.\n"
     ]
    },
    {
     "name": "stderr",
     "output_type": "stream",
     "text": [
      "Retrying langchain_google_genai.chat_models._chat_with_retry.<locals>._chat_with_retry in 2.0 seconds as it raised DeadlineExceeded: 504 Deadline Exceeded.\n"
     ]
    },
    {
     "name": "stdout",
     "output_type": "stream",
     "text": [
      "137s document: אין ברשותי מספיק מידע.\n",
      "138s document: אין ברשותי מספיק מידע.\n",
      "139s document: אין ברשותי מספיק מידע\n",
      "140s document: אין ברשותי מספיק מידע.\n",
      "141s document: אין ברשותי מספיק מידע.\n",
      "142s document: אין ברשותי מספיק מידע.\n",
      "143s document: אין ברשותי מספיק מידע.\n",
      "144s document: לא\n",
      "145s document: אין ברשותי מספיק מידע.\n",
      "146s document: אין ברשותי מספיק מידע.\n",
      "147s document: אין ברשותי מספיק מידע.\n"
     ]
    },
    {
     "name": "stderr",
     "output_type": "stream",
     "text": [
      "Retrying langchain_google_genai.chat_models._chat_with_retry.<locals>._chat_with_retry in 2.0 seconds as it raised DeadlineExceeded: 504 Deadline Exceeded.\n"
     ]
    },
    {
     "name": "stdout",
     "output_type": "stream",
     "text": [
      "148s document: אין ברשותי מספיק מידע\n",
      "149s document: אין ברשותי מספיק מידע.\n",
      "150s document: אין ברשותי מספיק מידע.\n",
      "151s document: אין ברשותי מספיק מידע.\n",
      "152s document: אין ברשותי מספיק מידע.\n",
      "153s document: אין ברשותי מספיק מידע.\n",
      "154s document: אין ברשותי מספיק מידע.\n",
      "155s document: אין ברשותי מספיק מידע.\n",
      "156s document: No document found\n",
      "157s document: אין ברשותי מספיק מידע.\n",
      "158s document: אין ברשותי מספיק מידע.\n",
      "159s document: No document found\n",
      "160s document: אין ברשותי מספיק מידע.\n"
     ]
    },
    {
     "name": "stderr",
     "output_type": "stream",
     "text": [
      "Retrying langchain_google_genai.chat_models._chat_with_retry.<locals>._chat_with_retry in 2.0 seconds as it raised DeadlineExceeded: 504 Deadline Exceeded.\n"
     ]
    },
    {
     "name": "stdout",
     "output_type": "stream",
     "text": [
      "161s document: אין ברשותי מספיק מידע.\n",
      "162s document: אין ברשותי מספיק מידע.\n"
     ]
    },
    {
     "name": "stderr",
     "output_type": "stream",
     "text": [
      "Retrying langchain_google_genai.chat_models._chat_with_retry.<locals>._chat_with_retry in 2.0 seconds as it raised DeadlineExceeded: 504 Deadline Exceeded.\n"
     ]
    },
    {
     "name": "stdout",
     "output_type": "stream",
     "text": [
      "163s document: אין ברשותי מספיק מידע.\n",
      "164s document: לא\n",
      "165s document: אין ברשותי מספיק מידע.\n"
     ]
    },
    {
     "name": "stderr",
     "output_type": "stream",
     "text": [
      "Retrying langchain_google_genai.chat_models._chat_with_retry.<locals>._chat_with_retry in 2.0 seconds as it raised DeadlineExceeded: 504 Deadline Exceeded.\n"
     ]
    },
    {
     "name": "stdout",
     "output_type": "stream",
     "text": [
      "166s document: אין ברשותי מספיק מידע.\n"
     ]
    },
    {
     "name": "stderr",
     "output_type": "stream",
     "text": [
      "Retrying langchain_google_genai.chat_models._chat_with_retry.<locals>._chat_with_retry in 2.0 seconds as it raised DeadlineExceeded: 504 Deadline Exceeded.\n"
     ]
    },
    {
     "name": "stdout",
     "output_type": "stream",
     "text": [
      "167s document: אין ברשותי מספיק מידע.\n",
      "168s document: אין ברשותי מספיק מידע.\n",
      "169s document: אין ברשותי מספיק מידע.\n",
      "170s document: אין ברשותי מספיק מידע\n",
      "171s document: אין ברשותי מספיק מידע.\n",
      "172s document: אין ברשותי מספיק מידע.\n",
      "173s document: אין ברשותי מספיק מידע.\n",
      "174s document: לא\n",
      "175s document: אין ברשותי מספיק מידע.\n",
      "176s document: אין ברשותי מספיק מידע.\n",
      "177s document: אין ברשותי מספיק מידע\n",
      "178s document: אין ברשותי מספיק מידע.\n",
      "179s document: אין ברשותי מספיק מידע.\n",
      "180s document: כן\n",
      "181s document: אין ברשותי מספיק מידע.\n",
      "182s document: אין ברשותי מספיק מידע.\n",
      "183s document: אין ברשותי מספיק מידע.\n",
      "184s document: No document found\n",
      "185s document: No document found\n",
      "186s document: אין ברשותי מספיק מידע.\n",
      "187s document: אין ברשותי מספיק מידע.\n",
      "188s document: אין ברשותי מספיק מידע.\n",
      "189s document: אין ברשותי מספיק מידע.\n",
      "190s document: אין ברשותי מספיק מידע.\n",
      "191s document: אין ברשותי מספיק מידע.\n",
      "192s document: אין ברשותי מספיק מידע.\n"
     ]
    },
    {
     "name": "stderr",
     "output_type": "stream",
     "text": [
      "Retrying langchain_google_genai.chat_models._chat_with_retry.<locals>._chat_with_retry in 2.0 seconds as it raised DeadlineExceeded: 504 Deadline Exceeded.\n"
     ]
    },
    {
     "name": "stdout",
     "output_type": "stream",
     "text": [
      "193s document: אין ברשותי מספיק מידע.\n"
     ]
    },
    {
     "name": "stderr",
     "output_type": "stream",
     "text": [
      "Retrying langchain_google_genai.chat_models._chat_with_retry.<locals>._chat_with_retry in 2.0 seconds as it raised DeadlineExceeded: 504 Deadline Exceeded.\n"
     ]
    },
    {
     "name": "stdout",
     "output_type": "stream",
     "text": [
      "194s document: לא\n",
      "195s document: אין ברשותי מספיק מידע.\n",
      "196s document: אין ברשותי מספיק מידע.\n",
      "197s document: אין ברשותי מספיק מידע.\n",
      "198s document: לא\n",
      "199s document: אין ברשותי מספיק מידע.\n",
      "200s document: אין ברשותי מספיק מידע.\n",
      "201s document: אין ברשותי מספיק מידע.\n",
      "202s document: אין ברשותי מספיק מידע.\n"
     ]
    },
    {
     "name": "stderr",
     "output_type": "stream",
     "text": [
      "Retrying langchain_google_genai.chat_models._chat_with_retry.<locals>._chat_with_retry in 2.0 seconds as it raised DeadlineExceeded: 504 Deadline Exceeded.\n"
     ]
    },
    {
     "name": "stdout",
     "output_type": "stream",
     "text": [
      "203s document: אין ברשותי מספיק מידע.\n",
      "204s document: אין ברשותי מספיק מידע.\n",
      "205s document: אין ברשותי מספיק מידע.\n",
      "206s document: אין ברשותי מספיק מידע.\n",
      "207s document: אין ברשותי מספיק מידע.\n",
      "208s document: אין ברשותי מספיק מידע.\n",
      "209s document: אין ברשותי מספיק מידע.\n"
     ]
    },
    {
     "name": "stderr",
     "output_type": "stream",
     "text": [
      "Retrying langchain_google_genai.chat_models._chat_with_retry.<locals>._chat_with_retry in 2.0 seconds as it raised DeadlineExceeded: 504 Deadline Exceeded.\n"
     ]
    },
    {
     "name": "stdout",
     "output_type": "stream",
     "text": [
      "210s document: אין ברשותי מספיק מידע.\n",
      "211s document: אין ברשותי מספיק מידע.\n"
     ]
    },
    {
     "name": "stderr",
     "output_type": "stream",
     "text": [
      "Retrying langchain_google_genai.chat_models._chat_with_retry.<locals>._chat_with_retry in 2.0 seconds as it raised DeadlineExceeded: 504 Deadline Exceeded.\n"
     ]
    },
    {
     "name": "stdout",
     "output_type": "stream",
     "text": [
      "212s document: אין ברשותי מספיק מידע.\n",
      "213s document: אין ברשותי מספיק מידע.\n",
      "214s document: אין ברשותי מספיק מידע.\n",
      "215s document: אין ברשותי מספיק מידע.\n",
      "216s document: אין ברשותי מספיק מידע.\n",
      "217s document: אין ברשותי מספיק מידע.\n",
      "218s document: אין ברשותי מספיק מידע.\n"
     ]
    },
    {
     "name": "stderr",
     "output_type": "stream",
     "text": [
      "Retrying langchain_google_genai.chat_models._chat_with_retry.<locals>._chat_with_retry in 2.0 seconds as it raised DeadlineExceeded: 504 Deadline Exceeded.\n"
     ]
    },
    {
     "name": "stdout",
     "output_type": "stream",
     "text": [
      "219s document: אין ברשותי מספיק מידע.\n",
      "220s document: אין ברשותי מספיק מידע.\n",
      "221s document: לא\n",
      "222s document: אין ברשותי מספיק מידע.\n",
      "223s document: אין ברשותי מספיק מידע.\n",
      "224s document: אין ברשותי מספיק מידע.\n",
      "225s document: No document found\n"
     ]
    },
    {
     "name": "stderr",
     "output_type": "stream",
     "text": [
      "Retrying langchain_google_genai.chat_models._chat_with_retry.<locals>._chat_with_retry in 2.0 seconds as it raised DeadlineExceeded: 504 Deadline Exceeded.\n"
     ]
    },
    {
     "name": "stdout",
     "output_type": "stream",
     "text": [
      "226s document: אין ברשותי מספיק מידע.\n",
      "227s document: השאלה אינה ניתנת למענה מהקטעים שסופקו.\n",
      "228s document: אין ברשותי מספיק מידע.\n",
      "229s document: אין ברשותי מספיק מידע.\n"
     ]
    },
    {
     "name": "stderr",
     "output_type": "stream",
     "text": [
      "Retrying langchain_google_genai.chat_models._chat_with_retry.<locals>._chat_with_retry in 2.0 seconds as it raised DeadlineExceeded: 504 Deadline Exceeded.\n"
     ]
    },
    {
     "name": "stdout",
     "output_type": "stream",
     "text": [
      "230s document: אין ברשותי מספיק מידע.\n",
      "231s document: אין ברשותי מספיק מידע.\n",
      "232s document: אין ברשותי מספיק מידע.\n",
      "233s document: אין ברשותי מספיק מידע.\n",
      "234s document: אין ברשותי מספיק מידע.\n",
      "235s document: אין ברשותי מספיק מידע.\n",
      "236s document: No document found\n",
      "237s document: אין ברשותי מספיק מידע.\n",
      "238s document: אין ברשותי מספיק מידע.\n",
      "239s document: אין ברשותי מספיק מידע.\n",
      "240s document: אין ברשותי מספיק מידע.\n",
      "241s document: אין ברשותי מספיק מידע\n"
     ]
    },
    {
     "name": "stderr",
     "output_type": "stream",
     "text": [
      "Retrying langchain_google_genai.chat_models._chat_with_retry.<locals>._chat_with_retry in 2.0 seconds as it raised DeadlineExceeded: 504 Deadline Exceeded.\n"
     ]
    },
    {
     "name": "stdout",
     "output_type": "stream",
     "text": [
      "242s document: אין ברשותי מספיק מידע.\n",
      "243s document: No document found\n",
      "244s document: אין ברשותי מספיק מידע\n",
      "245s document: לא\n",
      "246s document: אין ברשותי מספיק מידע.\n",
      "247s document: אין ברשותי מספיק מידע\n",
      "248s document: אין ברשותי מספיק מידע.\n",
      "249s document: אין ברשותי מספיק מידע.\n",
      "250s document: אין ברשותי מספיק מידע.\n"
     ]
    },
    {
     "name": "stderr",
     "output_type": "stream",
     "text": [
      "Retrying langchain_google_genai.chat_models._chat_with_retry.<locals>._chat_with_retry in 2.0 seconds as it raised DeadlineExceeded: 504 Deadline Exceeded.\n"
     ]
    },
    {
     "name": "stdout",
     "output_type": "stream",
     "text": [
      "251s document: אין ברשותי מספיק מידע.\n",
      "252s document: לא\n",
      "253s document: אין ברשותי מספיק מידע.\n",
      "254s document: אין ברשותי מספיק מידע.\n",
      "255s document: לא\n",
      "256s document: אין ברשותי מספיק מידע\n",
      "257s document: לא\n",
      "258s document: אין ברשותי מספיק מידע.\n",
      "259s document: אין ברשותי מספיק מידע.\n",
      "260s document: אין ברשותי מספיק מידע.\n",
      "261s document: אין ברשותי מספיק מידע.\n",
      "262s document: אין ברשותי מספיק מידע.\n",
      "263s document: אין ברשותי מספיק מידע.\n",
      "264s document: אין ברשותי מספיק מידע.\n",
      "265s document: אין ברשותי מספיק מידע.\n",
      "266s document: אין ברשותי מספיק מידע.\n",
      "267s document: לא\n",
      "268s document: אין ברשותי מספיק מידע.\n"
     ]
    },
    {
     "name": "stderr",
     "output_type": "stream",
     "text": [
      "Retrying langchain_google_genai.chat_models._chat_with_retry.<locals>._chat_with_retry in 2.0 seconds as it raised DeadlineExceeded: 504 Deadline Exceeded.\n"
     ]
    },
    {
     "name": "stdout",
     "output_type": "stream",
     "text": [
      "269s document: אין ברשותי מספיק מידע.\n",
      "270s document: אין ברשותי מספיק מידע.\n"
     ]
    },
    {
     "name": "stderr",
     "output_type": "stream",
     "text": [
      "Retrying langchain_google_genai.chat_models._chat_with_retry.<locals>._chat_with_retry in 2.0 seconds as it raised DeadlineExceeded: 504 Deadline Exceeded.\n"
     ]
    },
    {
     "name": "stdout",
     "output_type": "stream",
     "text": [
      "271s document: כן\n",
      "272s document: אין ברשותי מספיק מידע.\n",
      "273s document: אין ברשותי מספיק מידע.\n",
      "274s document: אין ברשותי מספיק מידע.\n",
      "275s document: אין ברשותי מספיק מידע.\n"
     ]
    },
    {
     "name": "stderr",
     "output_type": "stream",
     "text": [
      "Retrying langchain_google_genai.chat_models._chat_with_retry.<locals>._chat_with_retry in 2.0 seconds as it raised DeadlineExceeded: 504 Deadline Exceeded.\n",
      "Retrying langchain_google_genai.chat_models._chat_with_retry.<locals>._chat_with_retry in 4.0 seconds as it raised DeadlineExceeded: 504 Deadline Exceeded.\n"
     ]
    },
    {
     "name": "stdout",
     "output_type": "stream",
     "text": [
      "276s document: אין ברשותי מספיק מידע.\n",
      "277s document: אין ברשותי מספיק מידע.\n",
      "278s document: No document found\n"
     ]
    },
    {
     "name": "stderr",
     "output_type": "stream",
     "text": [
      "Retrying langchain_google_genai.chat_models._chat_with_retry.<locals>._chat_with_retry in 2.0 seconds as it raised DeadlineExceeded: 504 Deadline Exceeded.\n"
     ]
    },
    {
     "name": "stdout",
     "output_type": "stream",
     "text": [
      "279s document: אין ברשותי מספיק מידע.\n",
      "280s document: אין ברשותי מספיק מידע.\n",
      "281s document: אין ברשותי מספיק מידע\n",
      "282s document: אין ברשותי מספיק מידע.\n",
      "283s document: אין ברשותי מספיק מידע.\n",
      "284s document: אין ברשותי מספיק מידע.\n",
      "285s document: אין ברשותי מספיק מידע.\n",
      "286s document: אין ברשותי מספיק מידע.\n",
      "287s document: אין ברשותי מספיק מידע.\n",
      "288s document: לא\n",
      "289s document: אין ברשותי מספיק מידע.\n",
      "290s document: אין ברשותי מספיק מידע.\n",
      "291s document: אין ברשותי מספיק מידע.\n",
      "292s document: אין ברשותי מספיק מידע.\n",
      "293s document: אין ברשותי מספיק מידע.\n",
      "294s document: אין ברשותי מספיק מידע.\n",
      "295s document: לא\n",
      "296s document: No document found\n",
      "297s document: אין ברשותי מספיק מידע.\n",
      "298s document: No document found\n",
      "299s document: אין ברשותי מספיק מידע.\n",
      "300s document: אין ברשותי מספיק מידע.\n",
      "301s document: אין ברשותי מספיק מידע.\n",
      "302s document: לא\n",
      "303s document: אין ברשותי מספיק מידע.\n"
     ]
    },
    {
     "name": "stderr",
     "output_type": "stream",
     "text": [
      "Retrying langchain_google_genai.chat_models._chat_with_retry.<locals>._chat_with_retry in 2.0 seconds as it raised DeadlineExceeded: 504 Deadline Exceeded.\n"
     ]
    },
    {
     "name": "stdout",
     "output_type": "stream",
     "text": [
      "304s document: אין ברשותי מספיק מידע.\n",
      "305s document: אין ברשותי מספיק מידע.\n",
      "306s document: אין ברשותי מספיק מידע.\n"
     ]
    },
    {
     "name": "stderr",
     "output_type": "stream",
     "text": [
      "Retrying langchain_google_genai.chat_models._chat_with_retry.<locals>._chat_with_retry in 2.0 seconds as it raised DeadlineExceeded: 504 Deadline Exceeded.\n"
     ]
    },
    {
     "name": "stdout",
     "output_type": "stream",
     "text": [
      "307s document: אין ברשותי מספיק מידע.\n",
      "308s document: No document found\n"
     ]
    },
    {
     "name": "stderr",
     "output_type": "stream",
     "text": [
      "Retrying langchain_google_genai.chat_models._chat_with_retry.<locals>._chat_with_retry in 2.0 seconds as it raised DeadlineExceeded: 504 Deadline Exceeded.\n"
     ]
    },
    {
     "name": "stdout",
     "output_type": "stream",
     "text": [
      "309s document: אין ברשותי מספיק מידע.\n",
      "310s document: אין ברשותי מספיק מידע.\n",
      "311s document: אין ברשותי מספיק מידע.\n",
      "312s document: No document found\n",
      "313s document: אין ברשותי מספיק מידע.\n",
      "314s document: אין ברשותי מספיק מידע כדי לענות על השאלה.\n",
      "315s document: אין ברשותי מספיק מידע.\n",
      "316s document: אין ברשותי מספיק מידע.\n",
      "317s document: אין ברשותי מספיק מידע.\n",
      "318s document: אין ברשותי מספיק מידע.\n",
      "319s document: אין ברשותי מספיק מידע.\n"
     ]
    },
    {
     "name": "stderr",
     "output_type": "stream",
     "text": [
      "Retrying langchain_google_genai.chat_models._chat_with_retry.<locals>._chat_with_retry in 2.0 seconds as it raised DeadlineExceeded: 504 Deadline Exceeded.\n"
     ]
    },
    {
     "name": "stdout",
     "output_type": "stream",
     "text": [
      "320s document: אין ברשותי מספיק מידע.\n",
      "321s document: No document found\n",
      "322s document: אין ברשותי מספיק מידע.\n",
      "323s document: אין ברשותי מספיק מידע.\n",
      "324s document: אין ברשותי מספיק מידע.\n",
      "325s document: אין ברשותי מספיק מידע.\n",
      "326s document: אין ברשותי מספיק מידע.\n",
      "327s document: אין ברשותי מספיק מידע.\n",
      "328s document: אין ברשותי מספיק מידע.\n",
      "329s document: לא\n",
      "330s document: אין ברשותי מספיק מידע.\n",
      "331s document: אין ברשותי מספיק מידע\n",
      "332s document: אין ברשותי מספיק מידע.\n",
      "333s document: אין ברשותי מספיק מידע.\n",
      "334s document: No document found\n",
      "335s document: No document found\n",
      "336s document: אין ברשותי מספיק מידע.\n",
      "337s document: אין ברשותי מספיק מידע.\n",
      "338s document: לא\n",
      "339s document: לא\n",
      "340s document: אין ברשותי מספיק מידע.\n",
      "341s document: אין ברשותי מספיק מידע.\n",
      "342s document: אין ברשותי מספיק מידע.\n",
      "343s document: אין ברשותי מספיק מידע כדי לענות על שאלתך. המסמך לא מציין את שם הרחוב של הבנייה המתוכננת.\n",
      "344s document: לא\n",
      "345s document: אין ברשותי מספיק מידע.\n"
     ]
    },
    {
     "name": "stderr",
     "output_type": "stream",
     "text": [
      "Retrying langchain_google_genai.chat_models._chat_with_retry.<locals>._chat_with_retry in 2.0 seconds as it raised DeadlineExceeded: 504 Deadline Exceeded.\n"
     ]
    },
    {
     "name": "stdout",
     "output_type": "stream",
     "text": [
      "346s document: אין ברשותי מספיק מידע.\n",
      "347s document: No document found\n",
      "348s document: אין ברשותי מספיק מידע.\n",
      "349s document: No document found\n",
      "350s document: אין ברשותי מספיק מידע.\n",
      "351s document: אין ברשותי מספיק מידע.\n",
      "352s document: אין ברשותי מספיק מידע.\n",
      "353s document: No document found\n",
      "354s document: No document found\n",
      "355s document: No document found\n",
      "356s document: No document found\n",
      "357s document: No document found\n",
      "358s document: No document found\n",
      "359s document: No document found\n",
      "360s document: No document found\n",
      "361s document: No document found\n",
      "362s document: No document found\n",
      "363s document: No document found\n",
      "364s document: No document found\n",
      "365s document: No document found\n",
      "366s document: No document found\n",
      "367s document: No document found\n",
      "368s document: No document found\n",
      "369s document: No document found\n",
      "370s document: No document found\n",
      "371s document: No document found\n",
      "372s document: No document found\n",
      "373s document: No document found\n",
      "374s document: No document found\n",
      "375s document: No document found\n",
      "376s document: No document found\n",
      "377s document: No document found\n",
      "378s document: No document found\n",
      "379s document: No document found\n",
      "380s document: No document found\n",
      "381s document: No document found\n",
      "382s document: No document found\n",
      "383s document: No document found\n",
      "384s document: No document found\n",
      "385s document: No document found\n",
      "386s document: אין ברשותי מספיק מידע.\n",
      "387s document: אין ברשותי מספיק מידע.\n",
      "388s document: אין ברשותי מספיק מידע.\n"
     ]
    },
    {
     "name": "stderr",
     "output_type": "stream",
     "text": [
      "Retrying langchain_google_genai.chat_models._chat_with_retry.<locals>._chat_with_retry in 2.0 seconds as it raised DeadlineExceeded: 504 Deadline Exceeded.\n"
     ]
    },
    {
     "name": "stdout",
     "output_type": "stream",
     "text": [
      "389s document: אין ברשותי מספיק מידע.\n",
      "390s document: אין ברשותי מספיק מידע.\n",
      "391s document: אין ברשותי מספיק מידע.\n"
     ]
    },
    {
     "name": "stderr",
     "output_type": "stream",
     "text": [
      "Retrying langchain_google_genai.chat_models._chat_with_retry.<locals>._chat_with_retry in 2.0 seconds as it raised DeadlineExceeded: 504 Deadline Exceeded.\n"
     ]
    },
    {
     "name": "stdout",
     "output_type": "stream",
     "text": [
      "392s document: כן\n",
      "393s document: אין ברשותי מספיק מידע.\n",
      "394s document: אין ברשותי מספיק מידע\n",
      "395s document: אין ברשותי מספיק מידע.\n",
      "396s document: אין ברשותי מספיק מידע.\n",
      "397s document: אין ברשותי מספיק מידע.\n",
      "398s document: אין ברשותי מספיק מידע.\n",
      "399s document: אין ברשותי מספיק מידע.\n",
      "400s document: אין ברשותי מספיק מידע.\n",
      "401s document: אין ברשותי מספיק מידע.\n",
      "402s document: אין ברשותי מספיק מידע.\n",
      "403s document: No document found\n",
      "404s document: No document found\n",
      "405s document: No document found\n",
      "406s document: No document found\n",
      "407s document: No document found\n",
      "408s document: No document found\n",
      "409s document: No document found\n",
      "410s document: No document found\n",
      "411s document: No document found\n",
      "412s document: No document found\n",
      "413s document: No document found\n",
      "414s document: No document found\n",
      "415s document: No document found\n",
      "416s document: No document found\n",
      "417s document: No document found\n",
      "418s document: No document found\n",
      "419s document: No document found\n",
      "420s document: אין ברשותי מספיק מידע.\n",
      "421s document: אין ברשותי מספיק מידע.\n",
      "422s document: אין ברשותי מספיק מידע.\n",
      "423s document: אין ברשותי מספיק מידע.\n",
      "424s document: כן\n",
      "425s document: אין ברשותי מספיק מידע.\n",
      "426s document: לא\n",
      "427s document: אין ברשותי מספיק מידע.\n",
      "428s document: אין ברשותי מספיק מידע.\n",
      "429s document: כן\n",
      "430s document: אין ברשותי מספיק מידע.\n",
      "431s document: אין ברשותי מספיק מידע.\n",
      "432s document: No document found\n",
      "433s document: אין ברשותי מספיק מידע.\n",
      "434s document: אין ברשותי מספיק מידע.\n",
      "435s document: אין ברשותי מספיק מידע.\n",
      "436s document: אין ברשותי מספיק מידע.\n",
      "437s document: אין ברשותי מספיק מידע.\n"
     ]
    },
    {
     "name": "stderr",
     "output_type": "stream",
     "text": [
      "Retrying langchain_google_genai.chat_models._chat_with_retry.<locals>._chat_with_retry in 2.0 seconds as it raised DeadlineExceeded: 504 Deadline Exceeded.\n"
     ]
    },
    {
     "name": "stdout",
     "output_type": "stream",
     "text": [
      "438s document: אין ברשותי מספיק מידע.\n",
      "439s document: לא\n",
      "440s document: אין ברשותי מספיק מידע\n",
      "441s document: אין ברשותי מספיק מידע.\n",
      "442s document: אין ברשותי מספיק מידע.\n"
     ]
    },
    {
     "name": "stderr",
     "output_type": "stream",
     "text": [
      "Retrying langchain_google_genai.chat_models._chat_with_retry.<locals>._chat_with_retry in 2.0 seconds as it raised DeadlineExceeded: 504 Deadline Exceeded.\n"
     ]
    },
    {
     "name": "stdout",
     "output_type": "stream",
     "text": [
      "443s document: אין ברשותי מספיק מידע.\n",
      "444s document: אין ברשותי מספיק מידע.\n",
      "445s document: אין ברשותי מספיק מידע.\n",
      "446s document: אין ברשותי מספיק מידע.\n",
      "447s document: אין ברשותי מספיק מידע.\n",
      "448s document: אין ברשותי מספיק מידע.\n",
      "449s document: לא\n",
      "450s document: No document found\n"
     ]
    },
    {
     "name": "stderr",
     "output_type": "stream",
     "text": [
      "Retrying langchain_google_genai.chat_models._chat_with_retry.<locals>._chat_with_retry in 2.0 seconds as it raised DeadlineExceeded: 504 Deadline Exceeded.\n"
     ]
    },
    {
     "name": "stdout",
     "output_type": "stream",
     "text": [
      "451s document: לא\n",
      "452s document: אין ברשותי מספיק מידע.\n",
      "453s document: לא\n"
     ]
    },
    {
     "name": "stderr",
     "output_type": "stream",
     "text": [
      "Retrying langchain_google_genai.chat_models._chat_with_retry.<locals>._chat_with_retry in 2.0 seconds as it raised DeadlineExceeded: 504 Deadline Exceeded.\n"
     ]
    },
    {
     "name": "stdout",
     "output_type": "stream",
     "text": [
      "454s document: אין ברשותי מספיק מידע.\n",
      "455s document: אין ברשותי מספיק מידע.\n",
      "456s document: אין ברשותי מספיק מידע.\n",
      "457s document: אין ברשותי מספיק מידע.\n",
      "458s document: אין ברשותי מספיק מידע.\n",
      "459s document: אין ברשותי מספיק מידע.\n",
      "460s document: אין ברשותי מספיק מידע.\n",
      "461s document: אין ברשותי מספיק מידע.\n",
      "462s document: אין ברשותי מספיק מידע.\n",
      "463s document: אין ברשותי מספיק מידע.\n",
      "464s document: אין ברשותי מספיק מידע.\n",
      "465s document: אין ברשותי מספיק מידע.\n",
      "466s document: כן\n",
      "467s document: אין ברשותי מספיק מידע.\n",
      "468s document: אין ברשותי מספיק מידע כדי לענות על השאלה.\n",
      "469s document: כן\n"
     ]
    },
    {
     "name": "stderr",
     "output_type": "stream",
     "text": [
      "Retrying langchain_google_genai.chat_models._chat_with_retry.<locals>._chat_with_retry in 2.0 seconds as it raised DeadlineExceeded: 504 Deadline Exceeded.\n"
     ]
    },
    {
     "name": "stdout",
     "output_type": "stream",
     "text": [
      "470s document: אין ברשותי מספיק מידע.\n",
      "471s document: אין ברשותי מספיק מידע.\n",
      "472s document: אין ברשותי מספיק מידע.\n",
      "473s document: No document found\n",
      "474s document: No document found\n",
      "475s document: No document found\n",
      "476s document: No document found\n",
      "477s document: No document found\n",
      "478s document: No document found\n",
      "479s document: No document found\n",
      "480s document: No document found\n",
      "481s document: No document found\n",
      "482s document: No document found\n",
      "483s document: No document found\n",
      "484s document: No document found\n",
      "485s document: No document found\n",
      "486s document: No document found\n",
      "487s document: No document found\n",
      "488s document: No document found\n",
      "489s document: No document found\n",
      "490s document: אין ברשותי מספיק מידע.\n",
      "491s document: אין ברשותי מספיק מידע.\n",
      "492s document: אין ברשותי מספיק מידע.\n",
      "493s document: אין ברשותי מספיק מידע.\n",
      "494s document: אין ברשותי מספיק מידע.\n"
     ]
    },
    {
     "name": "stderr",
     "output_type": "stream",
     "text": [
      "Retrying langchain_google_genai.chat_models._chat_with_retry.<locals>._chat_with_retry in 2.0 seconds as it raised DeadlineExceeded: 504 Deadline Exceeded.\n"
     ]
    },
    {
     "name": "stdout",
     "output_type": "stream",
     "text": [
      "495s document: אין ברשותי מספיק מידע.\n",
      "496s document: אין ברשותי מספיק מידע.\n"
     ]
    },
    {
     "name": "stderr",
     "output_type": "stream",
     "text": [
      "Retrying langchain_google_genai.chat_models._chat_with_retry.<locals>._chat_with_retry in 2.0 seconds as it raised DeadlineExceeded: 504 Deadline Exceeded.\n"
     ]
    },
    {
     "name": "stdout",
     "output_type": "stream",
     "text": [
      "497s document: אין ברשותי מספיק מידע.\n",
      "498s document: אין ברשותי מספיק מידע.\n",
      "499s document: אין ברשותי מספיק מידע.\n",
      "500s document: אין ברשותי מספיק מידע.\n",
      "501s document: אין ברשותי מספיק מידע.\n"
     ]
    },
    {
     "name": "stderr",
     "output_type": "stream",
     "text": [
      "Retrying langchain_google_genai.chat_models._chat_with_retry.<locals>._chat_with_retry in 2.0 seconds as it raised DeadlineExceeded: 504 Deadline Exceeded.\n"
     ]
    },
    {
     "name": "stdout",
     "output_type": "stream",
     "text": [
      "502s document: אין ברשותי מספיק מידע.\n",
      "503s document: אין ברשותי מספיק מידע.\n",
      "504s document: לא\n",
      "505s document: אין ברשותי מספיק מידע.\n",
      "506s document: No document found\n",
      "507s document: אין ברשותי מספיק מידע.\n",
      "508s document: אין ברשותי מספיק מידע.\n",
      "509s document: No document found\n",
      "510s document: אין ברשותי מספיק מידע כדי לענות על השאלה.\n",
      "511s document: אין ברשותי מספיק מידע.\n",
      "512s document: No document found\n",
      "513s document: אין ברשותי מספיק מידע.\n",
      "514s document: אין ברשותי מספיק מידע.\n"
     ]
    },
    {
     "name": "stderr",
     "output_type": "stream",
     "text": [
      "Retrying langchain_google_genai.chat_models._chat_with_retry.<locals>._chat_with_retry in 2.0 seconds as it raised DeadlineExceeded: 504 Deadline Exceeded.\n"
     ]
    },
    {
     "name": "stdout",
     "output_type": "stream",
     "text": [
      "515s document: אין ברשותי מספיק מידע.\n",
      "516s document: אין ברשותי מספיק מידע.\n",
      "517s document: אין ברשותי מספיק מידע.\n",
      "518s document: אין ברשותי מספיק מידע.\n",
      "519s document: אין ברשותי מספיק מידע.\n",
      "520s document: אין ברשותי מספיק מידע\n",
      "521s document: אין ברשותי מספיק מידע.\n",
      "522s document: לא\n",
      "523s document: אין ברשותי מספיק מידע.\n",
      "524s document: אין ברשותי מספיק מידע.\n"
     ]
    },
    {
     "name": "stderr",
     "output_type": "stream",
     "text": [
      "Retrying langchain_google_genai.chat_models._chat_with_retry.<locals>._chat_with_retry in 2.0 seconds as it raised DeadlineExceeded: 504 Deadline Exceeded.\n"
     ]
    },
    {
     "name": "stdout",
     "output_type": "stream",
     "text": [
      "525s document: אין ברשותי מספיק מידע.\n",
      "526s document: אין ברשותי מספיק מידע.\n",
      "527s document: אין ברשותי מספיק מידע.\n",
      "528s document: No document found\n",
      "529s document: אין ברשותי מספיק מידע.\n",
      "530s document: אין ברשותי מספיק מידע\n",
      "531s document: אין ברשותי מספיק מידע.\n",
      "532s document: אין ברשותי מספיק מידע.\n",
      "533s document: אין ברשותי מספיק מידע.\n",
      "534s document: אין ברשותי מספיק מידע.\n",
      "535s document: אין ברשותי מספיק מידע.\n",
      "536s document: אין ברשותי מספיק מידע.\n",
      "537s document: לא\n",
      "538s document: אין ברשותי מספיק מידע. הקטעים שסופקו מתייחסים לשינוי קווי בניין ברחוב עוזיאל, אך אינם מציינים את כתובת הבנייה המתוכננת.\n",
      "539s document: אין ברשותי מספיק מידע\n",
      "540s document: אין ברשותי מספיק מידע כדי לענות על השאלה.\n"
     ]
    },
    {
     "name": "stderr",
     "output_type": "stream",
     "text": [
      "Retrying langchain_google_genai.chat_models._chat_with_retry.<locals>._chat_with_retry in 2.0 seconds as it raised DeadlineExceeded: 504 Deadline Exceeded.\n"
     ]
    },
    {
     "name": "stdout",
     "output_type": "stream",
     "text": [
      "541s document: אין ברשותי מספיק מידע.\n",
      "542s document: אין ברשותי מספיק מידע\n"
     ]
    },
    {
     "name": "stderr",
     "output_type": "stream",
     "text": [
      "Retrying langchain_google_genai.chat_models._chat_with_retry.<locals>._chat_with_retry in 2.0 seconds as it raised DeadlineExceeded: 504 Deadline Exceeded.\n"
     ]
    },
    {
     "name": "stdout",
     "output_type": "stream",
     "text": [
      "543s document: אין ברשותי מספיק מידע.\n",
      "544s document: אין ברשותי מספיק מידע.\n"
     ]
    },
    {
     "name": "stderr",
     "output_type": "stream",
     "text": [
      "Retrying langchain_google_genai.chat_models._chat_with_retry.<locals>._chat_with_retry in 2.0 seconds as it raised DeadlineExceeded: 504 Deadline Exceeded.\n"
     ]
    },
    {
     "name": "stdout",
     "output_type": "stream",
     "text": [
      "545s document: אין ברשותי מספיק מידע.\n",
      "546s document: אין ברשותי מספיק מידע.\n"
     ]
    }
   ],
   "source": [
    "# if os.path.exists(\"result_n3_k0_gemini_binary.csv\"):\n",
    "#     df = pd.read_csv(\"result_n3_k0_gemini_binary.csv\")\n",
    "# else:\n",
    "#     llm = get_gemini_llm(rate_limit=True)\n",
    "#     question = \"האם הבניה המתוכננת היא ברחוב אורוגוואי?\"\n",
    "#     result = get_answer_foreach_doc(question, db, data, num_docs=3, num_rephrasings=0, model=llm, verbose=True, multiprocess=False)\n",
    "\n",
    "#     # save the result\n",
    "#     df = pd.DataFrame(result)\n",
    "#     df.to_csv('result_n3_k0_gemini_binary.csv', index=False)"
   ]
  },
  {
   "cell_type": "code",
   "execution_count": 10,
   "metadata": {
    "metadata": {}
   },
   "outputs": [
    {
     "data": {
      "text/html": [
       "<div>\n",
       "<style scoped>\n",
       "    .dataframe tbody tr th:only-of-type {\n",
       "        vertical-align: middle;\n",
       "    }\n",
       "\n",
       "    .dataframe tbody tr th {\n",
       "        vertical-align: top;\n",
       "    }\n",
       "\n",
       "    .dataframe thead th {\n",
       "        text-align: right;\n",
       "    }\n",
       "</style>\n",
       "<table border=\"1\" class=\"dataframe\">\n",
       "  <thead>\n",
       "    <tr style=\"text-align: right;\">\n",
       "      <th></th>\n",
       "      <th>pl_number</th>\n",
       "      <th>answer</th>\n",
       "      <th>chunks</th>\n",
       "    </tr>\n",
       "  </thead>\n",
       "  <tbody>\n",
       "    <tr>\n",
       "      <th>31</th>\n",
       "      <td>101-0252619</td>\n",
       "      <td>כן</td>\n",
       "      <td>[- חוק התכנון והבניה, התשכ\"ה1965\\nהוראות התכני...</td>\n",
       "    </tr>\n",
       "    <tr>\n",
       "      <th>133</th>\n",
       "      <td>101-0339010</td>\n",
       "      <td>כן</td>\n",
       "      <td>[יעודי קרקע ושימושים 4.\\n מגורים ומסחר 4.1\\nשי...</td>\n",
       "    </tr>\n",
       "    <tr>\n",
       "      <th>180</th>\n",
       "      <td>101-0345298</td>\n",
       "      <td>כן</td>\n",
       "      <td>[תנאים למתן היתרי בניה 6.9\\n('מרתפי חניה, מתקנ...</td>\n",
       "    </tr>\n",
       "    <tr>\n",
       "      <th>271</th>\n",
       "      <td>101-0917013</td>\n",
       "      <td>כן</td>\n",
       "      <td>[- חוק התכנון והבניה, התשכ\"ה1965\\nהוראות התכני...</td>\n",
       "    </tr>\n",
       "    <tr>\n",
       "      <th>392</th>\n",
       "      <td>101-0977165</td>\n",
       "      <td>כן</td>\n",
       "      <td>[דרך מוצעת 4.2\\n   \\n1 .. תוואי הדרכים רוחבן ו...</td>\n",
       "    </tr>\n",
       "    <tr>\n",
       "      <th>424</th>\n",
       "      <td>101-1194000</td>\n",
       "      <td>כן</td>\n",
       "      <td>[יעודי קרקע ושימושים 4.\\n מגורים4.1\\nשימושים4....</td>\n",
       "    </tr>\n",
       "    <tr>\n",
       "      <th>429</th>\n",
       "      <td>101-0845842</td>\n",
       "      <td>כן</td>\n",
       "      <td>[- חוק התכנון והבניה, התשכ\"ה1965\\nהוראות התכני...</td>\n",
       "    </tr>\n",
       "    <tr>\n",
       "      <th>466</th>\n",
       "      <td>101-1072545</td>\n",
       "      <td>כן</td>\n",
       "      <td>[- חוק התכנון והבניה, התשכ\"ה1965\\nהוראות התכני...</td>\n",
       "    </tr>\n",
       "    <tr>\n",
       "      <th>469</th>\n",
       "      <td>101-1059435</td>\n",
       "      <td>כן</td>\n",
       "      <td>[דרך מוצעת 4.2\\nשימושים4.2.1\\n - דרך כהגדרתה ב...</td>\n",
       "    </tr>\n",
       "  </tbody>\n",
       "</table>\n",
       "</div>"
      ],
      "text/plain": [
       "       pl_number answer                                             chunks\n",
       "31   101-0252619     כן  [- חוק התכנון והבניה, התשכ\"ה1965\\nהוראות התכני...\n",
       "133  101-0339010     כן  [יעודי קרקע ושימושים 4.\\n מגורים ומסחר 4.1\\nשי...\n",
       "180  101-0345298     כן  [תנאים למתן היתרי בניה 6.9\\n('מרתפי חניה, מתקנ...\n",
       "271  101-0917013     כן  [- חוק התכנון והבניה, התשכ\"ה1965\\nהוראות התכני...\n",
       "392  101-0977165     כן  [דרך מוצעת 4.2\\n   \\n1 .. תוואי הדרכים רוחבן ו...\n",
       "424  101-1194000     כן  [יעודי קרקע ושימושים 4.\\n מגורים4.1\\nשימושים4....\n",
       "429  101-0845842     כן  [- חוק התכנון והבניה, התשכ\"ה1965\\nהוראות התכני...\n",
       "466  101-1072545     כן  [- חוק התכנון והבניה, התשכ\"ה1965\\nהוראות התכני...\n",
       "469  101-1059435     כן  [דרך מוצעת 4.2\\nשימושים4.2.1\\n - דרך כהגדרתה ב..."
      ]
     },
     "execution_count": 10,
     "metadata": {},
     "output_type": "execute_result"
    }
   ],
   "source": [
    "df[df['answer']=='כן']"
   ]
  },
  {
   "cell_type": "code",
   "execution_count": 11,
   "metadata": {
    "metadata": {}
   },
   "outputs": [
    {
     "name": "stdout",
     "output_type": "stream",
     "text": [
      "['האם הבניה המתוכננת היא ברחוב אורוגוואי?']\n",
      "0s document: אין ברשותי מספיק מידע.\n",
      "1s document: No document found\n",
      "2s document: אין ברשותי מספיק מידע.\n",
      "3s document: אין ברשותי מספיק מידע.\n",
      "4s document: No document found\n",
      "5s document: אין ברשותי מספיק מידע.\n",
      "6s document: אין ברשותי מספיק מידע.\n",
      "7s document: No document found\n",
      "8s document: אין ברשותי מספיק מידע.\n",
      "9s document: No document found\n",
      "10s document: No document found\n",
      "11s document: אין ברשותי מספיק מידע.\n"
     ]
    },
    {
     "name": "stderr",
     "output_type": "stream",
     "text": [
      "Retrying langchain_google_genai.chat_models._chat_with_retry.<locals>._chat_with_retry in 2.0 seconds as it raised DeadlineExceeded: 504 Deadline Exceeded.\n"
     ]
    },
    {
     "name": "stdout",
     "output_type": "stream",
     "text": [
      "12s document: אין ברשותי מספיק מידע.\n",
      "13s document: אין ברשותי מספיק מידע.\n",
      "14s document: No document found\n",
      "15s document: No document found\n",
      "16s document: No document found\n",
      "17s document: No document found\n"
     ]
    },
    {
     "name": "stderr",
     "output_type": "stream",
     "text": [
      "Retrying langchain_google_genai.chat_models._chat_with_retry.<locals>._chat_with_retry in 2.0 seconds as it raised DeadlineExceeded: 504 Deadline Exceeded.\n"
     ]
    },
    {
     "name": "stdout",
     "output_type": "stream",
     "text": [
      "18s document: אין ברשותי מספיק מידע.\n",
      "19s document: אין ברשותי מספיק מידע.\n",
      "20s document: No document found\n",
      "21s document: No document found\n",
      "22s document: אין ברשותי מספיק מידע.\n",
      "23s document: No document found\n",
      "24s document: אין ברשותי מספיק מידע.\n",
      "25s document: No document found\n",
      "26s document: No document found\n",
      "27s document: אין ברשותי מספיק מידע.\n",
      "28s document: No document found\n",
      "29s document: No document found\n",
      "30s document: No document found\n",
      "31s document: כן\n",
      "32s document: No document found\n",
      "33s document: No document found\n",
      "34s document: No document found\n",
      "35s document: אין ברשותי מספיק מידע.\n",
      "36s document: אין ברשותי מספיק מידע.\n",
      "37s document: No document found\n",
      "38s document: No document found\n",
      "39s document: No document found\n",
      "40s document: No document found\n",
      "41s document: No document found\n",
      "42s document: No document found\n"
     ]
    },
    {
     "name": "stderr",
     "output_type": "stream",
     "text": [
      "Retrying langchain_google_genai.chat_models._chat_with_retry.<locals>._chat_with_retry in 2.0 seconds as it raised DeadlineExceeded: 504 Deadline Exceeded.\n"
     ]
    },
    {
     "name": "stdout",
     "output_type": "stream",
     "text": [
      "43s document: אין ברשותי מספיק מידע. המסמכים לא מתייחסים לרחוב אורוגוואי.\n",
      "44s document: אין ברשותי מספיק מידע.\n",
      "45s document: אין ברשותי מספיק מידע.\n",
      "46s document: No document found\n",
      "47s document: No document found\n",
      "48s document: אין ברשותי מספיק מידע.\n",
      "49s document: לא\n",
      "50s document: No document found\n",
      "51s document: אין ברשותי מספיק מידע.\n",
      "52s document: אין ברשותי מספיק מידע.\n",
      "53s document: No document found\n",
      "54s document: אין ברשותי מספיק מידע.\n",
      "55s document: No document found\n",
      "56s document: No document found\n",
      "57s document: No document found\n",
      "58s document: אין ברשותי מספיק מידע.\n",
      "59s document: No document found\n",
      "60s document: אין ברשותי מספיק מידע.\n",
      "61s document: No document found\n",
      "62s document: No document found\n",
      "63s document: No document found\n",
      "64s document: No document found\n",
      "65s document: No document found\n",
      "66s document: No document found\n",
      "67s document: No document found\n",
      "68s document: No document found\n",
      "69s document: אין ברשותי מספיק מידע.\n",
      "70s document: אין ברשותי מספיק מידע.\n",
      "71s document: No document found\n",
      "72s document: אין ברשותי מספיק מידע.\n",
      "73s document: No document found\n",
      "74s document: No document found\n",
      "75s document: No document found\n",
      "76s document: No document found\n",
      "77s document: No document found\n",
      "78s document: No document found\n",
      "79s document: No document found\n",
      "80s document: No document found\n",
      "81s document: No document found\n",
      "82s document: No document found\n",
      "83s document: אין ברשותי מספיק מידע.\n",
      "84s document: No document found\n",
      "85s document: No document found\n",
      "86s document: No document found\n",
      "87s document: No document found\n",
      "88s document: אין ברשותי מספיק מידע.\n",
      "89s document: No document found\n",
      "90s document: No document found\n",
      "91s document: No document found\n",
      "92s document: No document found\n",
      "93s document: No document found\n",
      "94s document: אין ברשותי מספיק מידע.\n",
      "95s document: No document found\n",
      "96s document: No document found\n",
      "97s document: אין ברשותי מספיק מידע.\n",
      "98s document: No document found\n",
      "99s document: No document found\n",
      "100s document: No document found\n",
      "101s document: אין ברשותי מספיק מידע.\n",
      "102s document: No document found\n",
      "103s document: No document found\n",
      "104s document: No document found\n",
      "105s document: No document found\n",
      "106s document: אין ברשותי מספיק מידע.\n",
      "107s document: אין ברשותי מספיק מידע.\n",
      "108s document: No document found\n",
      "109s document: אין ברשותי מספיק מידע כדי לענות על השאלה.\n",
      "110s document: No document found\n",
      "111s document: אין ברשותי מספיק מידע.\n",
      "112s document: No document found\n",
      "113s document: No document found\n",
      "114s document: אין ברשותי מספיק מידע.\n",
      "115s document: לא\n",
      "116s document: No document found\n",
      "117s document: אין ברשותי מספיק מידע.\n",
      "118s document: אין ברשותי מספיק מידע.\n",
      "119s document: אין ברשותי מספיק מידע.\n",
      "120s document: אין ברשותי מספיק מידע.\n",
      "121s document: אין ברשותי מספיק מידע.\n",
      "122s document: אין ברשותי מספיק מידע.\n",
      "123s document: אין ברשותי מספיק מידע.\n",
      "124s document: No document found\n",
      "125s document: אין ברשותי מספיק מידע.\n",
      "126s document: אין ברשותי מספיק מידע.\n",
      "127s document: No document found\n",
      "128s document: אין ברשותי מספיק מידע.\n"
     ]
    },
    {
     "name": "stderr",
     "output_type": "stream",
     "text": [
      "Retrying langchain_google_genai.chat_models._chat_with_retry.<locals>._chat_with_retry in 2.0 seconds as it raised DeadlineExceeded: 504 Deadline Exceeded.\n"
     ]
    },
    {
     "name": "stdout",
     "output_type": "stream",
     "text": [
      "129s document: אין ברשותי מספיק מידע כדי לענות על השאלה.\n",
      "130s document: אין ברשותי מספיק מידע.\n",
      "131s document: אין ברשותי מספיק מידע.\n",
      "132s document: אין ברשותי מספיק מידע.\n",
      "133s document: כן\n"
     ]
    },
    {
     "name": "stderr",
     "output_type": "stream",
     "text": [
      "Retrying langchain_google_genai.chat_models._chat_with_retry.<locals>._chat_with_retry in 2.0 seconds as it raised DeadlineExceeded: 504 Deadline Exceeded.\n"
     ]
    },
    {
     "name": "stdout",
     "output_type": "stream",
     "text": [
      "134s document: אין ברשותי מספיק מידע.\n",
      "135s document: No document found\n"
     ]
    },
    {
     "name": "stderr",
     "output_type": "stream",
     "text": [
      "Retrying langchain_google_genai.chat_models._chat_with_retry.<locals>._chat_with_retry in 2.0 seconds as it raised DeadlineExceeded: 504 Deadline Exceeded.\n"
     ]
    },
    {
     "name": "stdout",
     "output_type": "stream",
     "text": [
      "136s document: לא\n",
      "137s document: אין ברשותי מספיק מידע.\n",
      "138s document: אין ברשותי מספיק מידע.\n",
      "139s document: אין ברשותי מספיק מידע.\n"
     ]
    },
    {
     "name": "stderr",
     "output_type": "stream",
     "text": [
      "Retrying langchain_google_genai.chat_models._chat_with_retry.<locals>._chat_with_retry in 2.0 seconds as it raised DeadlineExceeded: 504 Deadline Exceeded.\n"
     ]
    },
    {
     "name": "stdout",
     "output_type": "stream",
     "text": [
      "140s document: אין ברשותי מספיק מידע.\n",
      "141s document: אין ברשותי מספיק מידע.\n",
      "142s document: אין ברשותי מספיק מידע.\n",
      "143s document: אין ברשותי מספיק מידע.\n",
      "144s document: אין ברשותי מספיק מידע.\n",
      "145s document: אין ברשותי מספיק מידע.\n",
      "146s document: אין ברשותי מספיק מידע.\n",
      "147s document:  אין ברשותי מספיק מידע.\n",
      "148s document: אין ברשותי מספיק מידע כדי לענות על השאלה.\n",
      "149s document: אין ברשותי מספיק מידע.\n",
      "150s document: לא\n",
      "151s document: אין ברשותי מספיק מידע.\n",
      "152s document: אין ברשותי מספיק מידע.\n",
      "153s document: אין ברשותי מספיק מידע.\n",
      "154s document: אין ברשותי מספיק מידע.\n",
      "155s document: אין ברשותי מספיק מידע.\n",
      "156s document: No document found\n"
     ]
    },
    {
     "name": "stderr",
     "output_type": "stream",
     "text": [
      "Retrying langchain_google_genai.chat_models._chat_with_retry.<locals>._chat_with_retry in 2.0 seconds as it raised DeadlineExceeded: 504 Deadline Exceeded.\n"
     ]
    },
    {
     "name": "stdout",
     "output_type": "stream",
     "text": [
      "157s document: אין ברשותי מספיק מידע.\n",
      "158s document: אין ברשותי מספיק מידע.\n",
      "159s document: No document found\n",
      "160s document: לא\n",
      "161s document: אין ברשותי מספיק מידע.\n",
      "162s document: אין ברשותי מספיק מידע.\n",
      "163s document: אין ברשותי מספיק מידע.\n"
     ]
    },
    {
     "name": "stderr",
     "output_type": "stream",
     "text": [
      "Retrying langchain_google_genai.chat_models._chat_with_retry.<locals>._chat_with_retry in 2.0 seconds as it raised DeadlineExceeded: 504 Deadline Exceeded.\n"
     ]
    },
    {
     "name": "stdout",
     "output_type": "stream",
     "text": [
      "164s document: אין ברשותי מספיק מידע.\n",
      "165s document: אין ברשותי מספיק מידע.\n",
      "166s document: אין ברשותי מספיק מידע.\n",
      "167s document: לא\n",
      "168s document: אין ברשותי מספיק מידע.\n",
      "169s document: אין ברשותי מספיק מידע.\n",
      "170s document: אין ברשותי מספיק מידע.\n",
      "171s document: אין ברשותי מספיק מידע.\n"
     ]
    },
    {
     "name": "stderr",
     "output_type": "stream",
     "text": [
      "Retrying langchain_google_genai.chat_models._chat_with_retry.<locals>._chat_with_retry in 2.0 seconds as it raised DeadlineExceeded: 504 Deadline Exceeded.\n"
     ]
    },
    {
     "name": "stdout",
     "output_type": "stream",
     "text": [
      "172s document: אין ברשותי מספיק מידע.\n",
      "173s document: אין ברשותי מספיק מידע.\n",
      "174s document: אין ברשותי מספיק מידע.\n",
      "175s document: אין ברשותי מספיק מידע.\n",
      "176s document: אין ברשותי מספיק מידע.\n",
      "177s document: אין ברשותי מספיק מידע כדי לענות על השאלה.\n",
      "178s document: אין ברשותי מספיק מידע כדי לענות על השאלה.\n",
      "179s document: אין ברשותי מספיק מידע.\n",
      "180s document: כן\n",
      "181s document: אין ברשותי מספיק מידע.\n",
      "182s document: אין ברשותי מספיק מידע.\n",
      "183s document: אין ברשותי מספיק מידע.\n",
      "184s document: No document found\n",
      "185s document: No document found\n",
      "186s document: אין ברשותי מספיק מידע. המסמך מתייחס למגרש מסחרי במורדות מלחה, ירושלים, אך אינו מציין את שם הרחוב שבו ממוקם המגרש.\n",
      "187s document: אין ברשותי מספיק מידע.\n",
      "188s document: אין ברשותי מספיק מידע.\n",
      "189s document: אין ברשותי מספיק מידע.\n",
      "190s document: אין ברשותי מספיק מידע.\n",
      "191s document: אין ברשותי מספיק מידע.\n"
     ]
    },
    {
     "name": "stderr",
     "output_type": "stream",
     "text": [
      "Retrying langchain_google_genai.chat_models._chat_with_retry.<locals>._chat_with_retry in 2.0 seconds as it raised DeadlineExceeded: 504 Deadline Exceeded.\n"
     ]
    },
    {
     "name": "stdout",
     "output_type": "stream",
     "text": [
      "192s document: אין ברשותי מספיק מידע.\n",
      "193s document: אין ברשותי מספיק מידע.\n",
      "194s document: אין ברשותי מספיק מידע.\n",
      "195s document: אין ברשותי מספיק מידע.\n",
      "196s document: אין ברשותי מספיק מידע כדי לענות על השאלה.\n",
      "197s document: אין ברשותי מספיק מידע כדי לענות על השאלה.\n",
      "198s document: אין ברשותי מספיק מידע כדי לענות על השאלה.\n",
      "199s document: אין ברשותי מספיק מידע.\n",
      "200s document: אין ברשותי מספיק מידע.\n",
      "201s document: אין ברשותי מספיק מידע.\n",
      "202s document: אין ברשותי מספיק מידע.\n",
      "203s document: אין ברשותי מספיק מידע\n",
      "204s document: אין ברשותי מספיק מידע.\n",
      "205s document: אין ברשותי מספיק מידע.\n"
     ]
    },
    {
     "name": "stderr",
     "output_type": "stream",
     "text": [
      "Retrying langchain_google_genai.chat_models._chat_with_retry.<locals>._chat_with_retry in 2.0 seconds as it raised DeadlineExceeded: 504 Deadline Exceeded.\n"
     ]
    },
    {
     "name": "stdout",
     "output_type": "stream",
     "text": [
      "206s document: אין ברשותי מספיק מידע.\n",
      "207s document: אין ברשותי מספיק מידע.\n",
      "208s document: לא\n",
      "209s document: אין ברשותי מספיק מידע.\n",
      "210s document: אין ברשותי מספיק מידע.\n",
      "211s document: אין ברשותי מספיק מידע.\n",
      "212s document: אין ברשותי מספיק מידע.\n",
      "213s document: אין ברשותי מספיק מידע.\n",
      "214s document: אין ברשותי מספיק מידע.\n",
      "215s document: אין ברשותי מספיק מידע.\n",
      "216s document: אין ברשותי מספיק מידע.\n",
      "217s document: אין ברשותי מספיק מידע.\n",
      "218s document: אין ברשותי מספיק מידע.\n",
      "219s document: לא\n",
      "220s document: אין ברשותי מספיק מידע.\n",
      "221s document: לא\n",
      "222s document: אין ברשותי מספיק מידע.\n",
      "223s document: אין ברשותי מספיק מידע.\n",
      "224s document: אין ברשותי מספיק מידע.\n",
      "225s document: No document found\n",
      "226s document: אין ברשותי מספיק מידע.\n",
      "227s document: אין ברשותי מספיק מידע\n",
      "228s document: אין ברשותי מספיק מידע כדי לענות על השאלה. המסמך עוסק בתוכנית בניה ברחוב בורוכוב 3, אך אינו מזכיר את רחוב אורוגוואי.\n",
      "229s document: אין ברשותי מספיק מידע.\n",
      "230s document: אין ברשותי מספיק מידע.\n",
      "231s document: אין ברשותי מספיק מידע.\n",
      "232s document: אין ברשותי מספיק מידע.\n",
      "233s document: אין ברשותי מספיק מידע.\n",
      "234s document: אין ברשותי מספיק מידע.\n",
      "235s document: אין ברשותי מספיק מידע.\n",
      "236s document: No document found\n",
      "237s document: אין ברשותי מספיק מידע.\n",
      "238s document: אין ברשותי מספיק מידע.\n",
      "239s document: אין ברשותי מספיק מידע.\n",
      "240s document: אין ברשותי מספיק מידע.\n",
      "241s document: אין ברשותי מספיק מידע.\n",
      "242s document: אין ברשותי מספיק מידע.\n",
      "243s document: No document found\n",
      "244s document: לא\n",
      "245s document: אין ברשותי מספיק מידע.\n"
     ]
    },
    {
     "name": "stderr",
     "output_type": "stream",
     "text": [
      "Retrying langchain_google_genai.chat_models._chat_with_retry.<locals>._chat_with_retry in 2.0 seconds as it raised DeadlineExceeded: 504 Deadline Exceeded.\n"
     ]
    },
    {
     "name": "stdout",
     "output_type": "stream",
     "text": [
      "246s document: לא\n",
      "247s document: אין ברשותי מספיק מידע.\n",
      "248s document: אין ברשותי מספיק מידע.\n",
      "249s document: אין ברשותי מספיק מידע.\n",
      "250s document: לא\n",
      "251s document: אין ברשותי מספיק מידע.\n",
      "252s document: לא\n",
      "253s document: אין ברשותי מספיק מידע.\n",
      "254s document: לא\n",
      "255s document: אין ברשותי מספיק מידע.\n",
      "256s document: אין ברשותי מספיק מידע.\n",
      "257s document: לא\n",
      "258s document: אין ברשותי מספיק מידע.\n",
      "259s document: אין ברשותי מספיק מידע.\n",
      "260s document: אין ברשותי מספיק מידע.\n",
      "261s document: אין ברשותי מספיק מידע.\n",
      "262s document: לא\n",
      "263s document: אין ברשותי מספיק מידע.\n",
      "264s document: אין ברשותי מספיק מידע.\n",
      "265s document: אין ברשותי מספיק מידע.\n",
      "266s document: אין ברשותי מספיק מידע כדי לקבוע אם הבניה המתוכננת היא ברחוב אורוגוואי.\n",
      "267s document: לא\n"
     ]
    },
    {
     "name": "stderr",
     "output_type": "stream",
     "text": [
      "Retrying langchain_google_genai.chat_models._chat_with_retry.<locals>._chat_with_retry in 2.0 seconds as it raised DeadlineExceeded: 504 Deadline Exceeded.\n"
     ]
    },
    {
     "name": "stdout",
     "output_type": "stream",
     "text": [
      "268s document: אין ברשותי מספיק מידע.\n",
      "269s document: אין ברשותי מספיק מידע.\n",
      "270s document: אין ברשותי מספיק מידע.\n"
     ]
    },
    {
     "name": "stderr",
     "output_type": "stream",
     "text": [
      "Retrying langchain_google_genai.chat_models._chat_with_retry.<locals>._chat_with_retry in 2.0 seconds as it raised DeadlineExceeded: 504 Deadline Exceeded.\n"
     ]
    },
    {
     "name": "stdout",
     "output_type": "stream",
     "text": [
      "271s document: כן\n",
      "272s document: אין ברשותי מספיק מידע.\n",
      "273s document: אין ברשותי מספיק מידע.\n",
      "274s document: אין ברשותי מספיק מידע.\n",
      "275s document: אין ברשותי מספיק מידע.\n",
      "276s document: אין ברשותי מספיק מידע.\n",
      "277s document: אין ברשותי מספיק מידע.\n",
      "278s document: No document found\n",
      "279s document: אין ברשותי מספיק מידע.\n",
      "280s document: אין ברשותי מספיק מידע.\n",
      "281s document: אין ברשותי מספיק מידע.\n",
      "282s document: אין ברשותי מספיק מידע.\n",
      "283s document: אין ברשותי מספיק מידע.\n",
      "284s document: אין ברשותי מספיק מידע.\n",
      "285s document: אין ברשותי מספיק מידע.\n",
      "286s document: אין ברשותי מספיק מידע.\n",
      "287s document: אין ברשותי מספיק מידע כדי לקבוע האם הבניה המתוכננת היא ברחוב אורוגוואי.\n",
      "288s document: לא\n",
      "289s document: אין ברשותי מספיק מידע.\n",
      "290s document: אין ברשותי מספיק מידע כדי לענות על השאלה.\n",
      "291s document: אין ברשותי מספיק מידע.\n",
      "292s document: אין ברשותי מספיק מידע.\n",
      "293s document: אין ברשותי מספיק מידע.\n",
      "294s document: אין ברשותי מספיק מידע.\n",
      "295s document: אין ברשותי מספיק מידע.\n",
      "296s document: No document found\n"
     ]
    },
    {
     "name": "stderr",
     "output_type": "stream",
     "text": [
      "Retrying langchain_google_genai.chat_models._chat_with_retry.<locals>._chat_with_retry in 2.0 seconds as it raised DeadlineExceeded: 504 Deadline Exceeded.\n"
     ]
    },
    {
     "name": "stdout",
     "output_type": "stream",
     "text": [
      "297s document: אין ברשותי מספיק מידע.\n",
      "298s document: No document found\n",
      "299s document: אין ברשותי מספיק מידע.\n",
      "300s document: אין ברשותי מספיק מידע כדי לענות על השאלה.\n",
      "301s document: אין ברשותי מספיק מידע.\n",
      "302s document: אין ברשותי מספיק מידע.\n",
      "303s document: אין ברשותי מספיק מידע.\n",
      "304s document: אין ברשותי מספיק מידע כדי לענות על השאלה.\n",
      "305s document: אין ברשותי מספיק מידע.\n",
      "306s document: אין ברשותי מספיק מידע.\n",
      "307s document: אין ברשותי מספיק מידע.\n",
      "308s document: No document found\n",
      "309s document: אין ברשותי מספיק מידע.\n",
      "310s document: אין ברשותי מספיק מידע.\n",
      "311s document: אין ברשותי מספיק מידע.\n",
      "312s document: No document found\n",
      "313s document: לא\n",
      "314s document: אין ברשותי מספיק מידע.\n",
      "315s document: אין ברשותי מספיק מידע.\n",
      "316s document: אין ברשותי מספיק מידע.\n",
      "317s document: אין ברשותי מספיק מידע.\n",
      "318s document: אין ברשותי מספיק מידע.\n",
      "319s document: אין ברשותי מספיק מידע.\n",
      "320s document: אין ברשותי מספיק מידע.\n",
      "321s document: No document found\n",
      "322s document: אין ברשותי מספיק מידע.\n",
      "323s document: לא\n",
      "324s document: אין ברשותי מספיק מידע.\n",
      "325s document: אין ברשותי מספיק מידע.\n",
      "326s document: אין ברשותי מספיק מידע.\n",
      "327s document: אין ברשותי מספיק מידע.\n",
      "328s document: אין ברשותי מספיק מידע.\n",
      "329s document: לא\n",
      "330s document: אין ברשותי מספיק מידע.\n",
      "331s document: אין ברשותי מספיק מידע.\n",
      "332s document: אין ברשותי מספיק מידע.\n",
      "333s document: אין ברשותי מספיק מידע.\n",
      "334s document: No document found\n",
      "335s document: No document found\n",
      "336s document: אין ברשותי מספיק מידע.\n",
      "337s document: אין ברשותי מספיק מידע.\n",
      "338s document: אין ברשותי מספיק מידע.\n",
      "339s document: אין ברשותי מספיק מידע.\n",
      "340s document: אין ברשותי מספיק מידע.\n",
      "341s document: אין ברשותי מספיק מידע.\n",
      "342s document: אין ברשותי מספיק מידע על מנת לענות על השאלה.\n",
      "343s document: אין ברשותי מספיק מידע כדי לענות על השאלה.\n",
      "344s document: אין ברשותי מספיק מידע\n",
      "345s document: אין ברשותי מספיק מידע\n",
      "346s document: אין ברשותי מספיק מידע.\n",
      "347s document: No document found\n",
      "348s document: אין ברשותי מספיק מידע כדי לענות על השאלה.\n",
      "349s document: No document found\n",
      "350s document: אין ברשותי מספיק מידע.\n",
      "351s document: אין ברשותי מספיק מידע.\n"
     ]
    },
    {
     "name": "stderr",
     "output_type": "stream",
     "text": [
      "Retrying langchain_google_genai.chat_models._chat_with_retry.<locals>._chat_with_retry in 2.0 seconds as it raised DeadlineExceeded: 504 Deadline Exceeded.\n",
      "Retrying langchain_google_genai.chat_models._chat_with_retry.<locals>._chat_with_retry in 4.0 seconds as it raised DeadlineExceeded: 504 Deadline Exceeded.\n"
     ]
    },
    {
     "name": "stdout",
     "output_type": "stream",
     "text": [
      "352s document: אין ברשותי מספיק מידע.\n",
      "353s document: No document found\n",
      "354s document: No document found\n",
      "355s document: No document found\n",
      "356s document: No document found\n",
      "357s document: No document found\n",
      "358s document: No document found\n",
      "359s document: No document found\n",
      "360s document: No document found\n",
      "361s document: No document found\n",
      "362s document: No document found\n",
      "363s document: No document found\n",
      "364s document: No document found\n",
      "365s document: No document found\n",
      "366s document: No document found\n",
      "367s document: No document found\n",
      "368s document: No document found\n",
      "369s document: No document found\n",
      "370s document: No document found\n",
      "371s document: No document found\n",
      "372s document: No document found\n",
      "373s document: No document found\n",
      "374s document: No document found\n",
      "375s document: No document found\n",
      "376s document: No document found\n",
      "377s document: No document found\n",
      "378s document: No document found\n",
      "379s document: No document found\n",
      "380s document: No document found\n",
      "381s document: No document found\n",
      "382s document: No document found\n",
      "383s document: No document found\n",
      "384s document: No document found\n",
      "385s document: No document found\n",
      "386s document: אין ברשותי מספיק מידע.\n",
      "387s document: אין ברשותי מספיק מידע.\n",
      "388s document: אין ברשותי מספיק מידע.\n",
      "389s document: אין ברשותי מספיק מידע.\n",
      "390s document: אין ברשותי מספיק מידע.\n",
      "391s document: אין ברשותי מספיק מידע.\n",
      "392s document: לא\n",
      "393s document: אין ברשותי מספיק מידע.\n",
      "394s document: אין ברשותי מספיק מידע.\n",
      "395s document: אין ברשותי מספיק מידע.\n",
      "396s document: אין ברשותי מספיק מידע.\n",
      "397s document: אין ברשותי מספיק מידע.\n",
      "398s document: אין ברשותי מספיק מידע.\n",
      "399s document: אין ברשותי מספיק מידע.\n",
      "400s document: אין ברשותי מספיק מידע.\n",
      "401s document: אין ברשותי מספיק מידע.\n",
      "402s document: אין ברשותי מספיק מידע.\n",
      "403s document: No document found\n",
      "404s document: No document found\n",
      "405s document: No document found\n",
      "406s document: No document found\n",
      "407s document: No document found\n",
      "408s document: No document found\n",
      "409s document: No document found\n",
      "410s document: No document found\n",
      "411s document: No document found\n",
      "412s document: No document found\n",
      "413s document: No document found\n",
      "414s document: No document found\n",
      "415s document: No document found\n",
      "416s document: No document found\n",
      "417s document: No document found\n",
      "418s document: No document found\n",
      "419s document: No document found\n",
      "420s document: אין ברשותי מספיק מידע.\n",
      "421s document: אין ברשותי מספיק מידע.\n",
      "422s document: לא\n",
      "423s document: אין ברשותי מספיק מידע.\n",
      "424s document: כן\n"
     ]
    },
    {
     "name": "stderr",
     "output_type": "stream",
     "text": [
      "Retrying langchain_google_genai.chat_models._chat_with_retry.<locals>._chat_with_retry in 2.0 seconds as it raised DeadlineExceeded: 504 Deadline Exceeded.\n"
     ]
    },
    {
     "name": "stdout",
     "output_type": "stream",
     "text": [
      "425s document: אין ברשותי מספיק מידע.\n",
      "426s document: אין ברשותי מספיק מידע.\n",
      "427s document: אין ברשותי מספיק מידע.\n",
      "428s document: לא\n",
      "429s document: כן\n",
      "430s document: אין ברשותי מספיק מידע.\n",
      "431s document: אין ברשותי מספיק מידע.\n",
      "432s document: No document found\n",
      "433s document: אין ברשותי מספיק מידע\n",
      "434s document: אין ברשותי מספיק מידע.\n",
      "435s document: אין ברשותי מספיק מידע.\n",
      "436s document: אין ברשותי מספיק מידע.\n",
      "437s document: אין ברשותי מספיק מידע.\n",
      "438s document: אין ברשותי מספיק מידע.\n",
      "439s document: אין ברשותי מספיק מידע.\n",
      "440s document: אין ברשותי מספיק מידע.\n",
      "441s document: אין ברשותי מספיק מידע.\n",
      "442s document: אין ברשותי מספיק מידע.\n",
      "443s document: אין ברשותי מספיק מידע.\n",
      "444s document: אין ברשותי מספיק מידע.\n",
      "445s document: אין ברשותי מספיק מידע.\n",
      "446s document: אין ברשותי מספיק מידע.\n",
      "447s document: אין ברשותי מספיק מידע.\n",
      "448s document: אין ברשותי מספיק מידע.\n",
      "449s document: לא\n",
      "450s document: No document found\n",
      "451s document: לא\n",
      "452s document: אין ברשותי מספיק מידע.\n",
      "453s document: לא\n",
      "454s document: אין ברשותי מספיק מידע.\n",
      "455s document: אין ברשותי מספיק מידע.\n",
      "456s document: אין ברשותי מספיק מידע.\n",
      "457s document: אין ברשותי מספיק מידע.\n",
      "458s document: אין ברשותי מספיק מידע.\n",
      "459s document: אין ברשותי מספיק מידע.\n",
      "460s document: אין ברשותי מספיק מידע.\n",
      "461s document: אין ברשותי מספיק מידע.\n",
      "462s document: אין ברשותי מספיק מידע.\n",
      "463s document: אין ברשותי מספיק מידע.\n",
      "464s document: לא\n",
      "465s document: אין ברשותי מספיק מידע.\n",
      "466s document: כן\n",
      "467s document: אין ברשותי מספיק מידע.\n",
      "468s document: אין ברשותי מספיק מידע.\n",
      "469s document: אין ברשותי מספיק מידע.\n",
      "470s document: אין ברשותי מספיק מידע.\n",
      "471s document: אין ברשותי מספיק מידע.\n",
      "472s document: לא\n",
      "473s document: No document found\n",
      "474s document: No document found\n",
      "475s document: No document found\n",
      "476s document: No document found\n",
      "477s document: No document found\n",
      "478s document: No document found\n",
      "479s document: No document found\n",
      "480s document: No document found\n",
      "481s document: No document found\n",
      "482s document: No document found\n",
      "483s document: No document found\n",
      "484s document: No document found\n",
      "485s document: No document found\n",
      "486s document: No document found\n",
      "487s document: No document found\n",
      "488s document: No document found\n",
      "489s document: No document found\n",
      "490s document: אין ברשותי מספיק מידע.\n",
      "491s document: אין ברשותי מספיק מידע.\n",
      "492s document: אין ברשותי מספיק מידע כדי לענות על השאלה.\n",
      "493s document: אין ברשותי מספיק מידע.\n",
      "494s document: אין ברשותי מספיק מידע.\n",
      "495s document: אין ברשותי מספיק מידע.\n",
      "496s document: לא\n",
      "497s document: אין ברשותי מספיק מידע.\n",
      "498s document: אין ברשותי מספיק מידע.\n",
      "499s document: אין ברשותי מספיק מידע.\n",
      "500s document: אין ברשותי מספיק מידע.\n",
      "501s document: אין ברשותי מספיק מידע.\n",
      "502s document: אין ברשותי מספיק מידע.\n",
      "503s document: אין ברשותי מספיק מידע.\n",
      "504s document: אין ברשותי מספיק מידע.\n",
      "505s document: אין ברשותי מספיק מידע.\n",
      "506s document: No document found\n",
      "507s document: אין ברשותי מספיק מידע.\n",
      "508s document: אין ברשותי מספיק מידע.\n",
      "509s document: No document found\n",
      "510s document: אין ברשותי מספיק מידע.\n",
      "511s document: אין ברשותי מספיק מידע.\n",
      "512s document: No document found\n",
      "513s document: אין ברשותי מספיק מידע.\n",
      "514s document: אין ברשותי מספיק מידע.\n",
      "515s document: אין ברשותי מספיק מידע.\n",
      "516s document: אין ברשותי מספיק מידע.\n",
      "517s document: אין ברשותי מספיק מידע.\n",
      "518s document: אין ברשותי מספיק מידע.\n"
     ]
    },
    {
     "name": "stderr",
     "output_type": "stream",
     "text": [
      "Retrying langchain_google_genai.chat_models._chat_with_retry.<locals>._chat_with_retry in 2.0 seconds as it raised DeadlineExceeded: 504 Deadline Exceeded.\n"
     ]
    },
    {
     "name": "stdout",
     "output_type": "stream",
     "text": [
      "519s document: לא\n",
      "520s document: אין ברשותי מספיק מידע\n",
      "521s document: אין ברשותי מספיק מידע.\n",
      "522s document: אין ברשותי מספיק מידע כדי לענות על השאלה.\n",
      "523s document: אין ברשותי מספיק מידע.\n",
      "524s document: אין ברשותי מספיק מידע.\n",
      "525s document: לא\n",
      "526s document: אין ברשותי מספיק מידע.\n",
      "527s document: אין ברשותי מספיק מידע.\n",
      "528s document: No document found\n",
      "529s document: אין ברשותי מספיק מידע.\n",
      "530s document: אין ברשותי מספיק מידע.\n"
     ]
    },
    {
     "name": "stderr",
     "output_type": "stream",
     "text": [
      "Retrying langchain_google_genai.chat_models._chat_with_retry.<locals>._chat_with_retry in 2.0 seconds as it raised DeadlineExceeded: 504 Deadline Exceeded.\n"
     ]
    },
    {
     "name": "stdout",
     "output_type": "stream",
     "text": [
      "531s document: אין ברשותי מספיק מידע.\n",
      "532s document: אין ברשותי מספיק מידע.\n",
      "533s document: אין ברשותי מספיק מידע כדי לענות על השאלה.\n",
      "534s document: אין ברשותי מספיק מידע.\n",
      "535s document: אין ברשותי מספיק מידע.\n",
      "536s document: אין ברשותי מספיק מידע.\n",
      "537s document: אין ברשותי מספיק מידע.\n",
      "538s document: לא\n",
      "539s document: אין ברשותי מספיק מידע כדי לענות על השאלה.\n",
      "540s document: אין ברשותי מספיק מידע.\n",
      "541s document: אין ברשותי מספיק מידע\n",
      "542s document: אין ברשותי מספיק מידע.\n",
      "543s document: אין ברשותי מספיק מידע.\n",
      "544s document: אין ברשותי מספיק מידע.\n",
      "545s document: אין ברשותי מספיק מידע.\n"
     ]
    },
    {
     "name": "stderr",
     "output_type": "stream",
     "text": [
      "Retrying langchain_google_genai.chat_models._chat_with_retry.<locals>._chat_with_retry in 2.0 seconds as it raised DeadlineExceeded: 504 Deadline Exceeded.\n"
     ]
    },
    {
     "name": "stdout",
     "output_type": "stream",
     "text": [
      "546s document: לא\n"
     ]
    }
   ],
   "source": [
    "if os.path.exists(\"result_n5_k0_gemini_binary.csv\"):\n",
    "    df = pd.read_csv(\"result_n5_k0_gemini_binary.csv\")\n",
    "else:\n",
    "    llm = get_gemini_llm(rate_limit=True)\n",
    "    question = \"האם הבניה המתוכננת היא ברחוב אורוגוואי?\"\n",
    "    result = get_answer_foreach_doc(question, db, data, num_docs=5, num_rephrasings=0, model=llm, verbose=True, multiprocess=False)\n",
    "\n",
    "    # save the result\n",
    "    df = pd.DataFrame(result)\n",
    "    df.to_csv('result_n5_k0_gemini_binary.csv', index=False)"
   ]
  },
  {
   "cell_type": "code",
   "execution_count": 1,
   "metadata": {},
   "outputs": [],
   "source": [
    "import pandas as pd\n",
    "from file_utils import get_docs_for_plan, pdf_to_text, clean_and_split,sentencewise_translate, temp_get_docs_for_plan, clean_text\n",
    "data = pd.read_csv('shpan.csv')\n",
    "pl_nums = data['pl_number'].sort_values().unique()\n",
    "files_text = {pl_num:\"\\n\".join([clean_text(pdf_to_text(doc)) for doc in temp_get_docs_for_plan(pl_num)]) for pl_num in pl_nums}\n"
   ]
  },
  {
   "cell_type": "code",
   "execution_count": 4,
   "metadata": {},
   "outputs": [
    {
     "data": {
      "text/plain": [
       "379"
      ]
     },
     "execution_count": 4,
     "metadata": {},
     "output_type": "execute_result"
    }
   ],
   "source": [
    "filtered_docs = [id for id, txt in files_text.items() if len(txt.strip()) > 0]\n",
    "len(filtered_docs)"
   ]
  },
  {
   "cell_type": "code",
   "execution_count": null,
   "metadata": {},
   "outputs": [],
   "source": []
  }
 ],
 "metadata": {
  "kernelspec": {
   "display_name": ".env",
   "language": "python",
   "name": "python3"
  },
  "language_info": {
   "codemirror_mode": {
    "name": "ipython",
    "version": 3
   },
   "file_extension": ".py",
   "mimetype": "text/x-python",
   "name": "python",
   "nbconvert_exporter": "python",
   "pygments_lexer": "ipython3",
   "version": "3.11.6"
  }
 },
 "nbformat": 4,
 "nbformat_minor": 2
}
